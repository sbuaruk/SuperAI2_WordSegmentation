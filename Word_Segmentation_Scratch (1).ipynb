{
  "nbformat": 4,
  "nbformat_minor": 0,
  "metadata": {
    "colab": {
      "name": "Word_Segmentation_Scratch.ipynb",
      "provenance": [],
      "collapsed_sections": [],
      "machine_shape": "hm",
      "toc_visible": true
    },
    "kernelspec": {
      "name": "python3",
      "display_name": "Python 3"
    },
    "language_info": {
      "name": "python"
    },
    "accelerator": "GPU"
  },
  "cells": [
    {
      "cell_type": "code",
      "source": [
        "# download main resources for this project\n",
        "# !gdown --id 1Qtb3CtZZu00EaQrlbS_8BAhZjbvd5HmJ"
      ],
      "metadata": {
        "id": "z0KzyhjIyrZf"
      },
      "execution_count": null,
      "outputs": []
    },
    {
      "cell_type": "code",
      "source": [
        "# unzip resources folder\n",
        "# !unzip -qq \"/content/drive/MyDrive/Colab Notebooks/SuperAI_Hackathon/Hackathon_week2_NLP/Resources_bestCORPUS_LST20_IMDB.zip\" -d \"/content\""
      ],
      "metadata": {
        "id": "e4UqeCJ_7M_k"
      },
      "execution_count": null,
      "outputs": []
    },
    {
      "cell_type": "markdown",
      "source": [
        "### create_char_dictionary.ipynb"
      ],
      "metadata": {
        "id": "JVYAvTPaqWp9"
      }
    },
    {
      "cell_type": "code",
      "source": [
        "from glob import glob\n",
        "import os"
      ],
      "metadata": {
        "id": "1Nd3yhkerHNR"
      },
      "execution_count": null,
      "outputs": []
    },
    {
      "cell_type": "code",
      "source": [
        "# get all file path in corpus\n",
        "# PATH_MAIN = '/content/content/drive/MyDrive/Colab Notebooks/SuperAI_Hackathon/Hackathon_week2_NLP/Resources'\n",
        "PATH_MAIN = '/content/Resources'\n",
        "\n",
        "files = glob(os.path.join(PATH_MAIN, 'BEST_I_CORPUS/TrainingSet/*/*'))\n",
        "# files = glob('../*.txt')\n",
        "print('Number of files: ', len(files))"
      ],
      "metadata": {
        "colab": {
          "base_uri": "https://localhost:8080/"
        },
        "id": "gBBokfsCtrre",
        "outputId": "f369223a-5265-4e5e-e6d8-17994f899516"
      },
      "execution_count": null,
      "outputs": [
        {
          "output_type": "stream",
          "name": "stdout",
          "text": [
            "Number of files:  5522\n"
          ]
        }
      ]
    },
    {
      "cell_type": "code",
      "source": [
        "# get character set\n",
        "def get_char(text):\n",
        "    return set(text)"
      ],
      "metadata": {
        "id": "5qft6U4WttRa"
      },
      "execution_count": null,
      "outputs": []
    },
    {
      "cell_type": "code",
      "source": [
        "# Create character set from all files\n",
        "\n",
        "# cnt = 0\n",
        "CHARSET = set()\n",
        "for fpath in files:\n",
        "    with open(fpath, mode='r', encoding=\"utf8\") as file:\n",
        "        text = file.read()  # read file\n",
        "        CHARSET = CHARSET.union(get_char(text))\n",
        "        # cnt = cnt + len(text)\n",
        "\n",
        "CHARSET = sorted(CHARSET)  # sorting char\n",
        "print('Number of unique char: ', len(CHARSET))\n",
        "# print('Number of character: ', cnt)"
      ],
      "metadata": {
        "colab": {
          "base_uri": "https://localhost:8080/"
        },
        "id": "SeyrLTwatt4X",
        "outputId": "0e46845c-2d30-4961-a16a-a12330e48edf"
      },
      "execution_count": null,
      "outputs": [
        {
          "output_type": "stream",
          "name": "stdout",
          "text": [
            "Number of unique char:  197\n"
          ]
        }
      ]
    },
    {
      "cell_type": "code",
      "source": [
        "# CHARSET"
      ],
      "metadata": {
        "id": "qxO4tJ0JtwzY"
      },
      "execution_count": null,
      "outputs": []
    },
    {
      "cell_type": "code",
      "source": [
        "# Create char index dictionary and append <pad>, <unk>\n",
        "# <pad>: for blank char\n",
        "# <unk>: for unknow char\n",
        "\n",
        "CHAR_INDICES = dict((c, i) for i, c in enumerate(CHARSET))\n",
        "CHAR_INDICES['<pad>'] = len(CHAR_INDICES)\n",
        "CHAR_INDICES['<unk>'] = len(CHAR_INDICES)\n",
        "\n",
        "# INDICES_CHAR = dict((i, c) for i, c in enumerate(CHAR_INDICES))\n",
        "\n",
        "print('Number of unique char: ', len(CHAR_INDICES))"
      ],
      "metadata": {
        "colab": {
          "base_uri": "https://localhost:8080/"
        },
        "id": "BHzRg_tntyAI",
        "outputId": "ca0929c5-4a10-45cd-8ace-b5c5047628a5"
      },
      "execution_count": null,
      "outputs": [
        {
          "output_type": "stream",
          "name": "stdout",
          "text": [
            "Number of unique char:  199\n"
          ]
        }
      ]
    },
    {
      "cell_type": "code",
      "source": [
        "# save to json file\n",
        "# PATH_MAIN = '/content/content/drive/MyDrive/Colab Notebooks/SuperAI_Hackathon/Hackathon_week2_NLP/Resources'\n",
        "import json\n",
        "\n",
        "def to_json(fname, data_dict):\n",
        "    json_data = json.dumps(data_dict)\n",
        "    with open(fname,'w') as file:\n",
        "        file.write(json_data)\n",
        "        \n",
        "# save dictionary\n",
        "to_json(os.path.join(PATH_MAIN,'models/CHAR_INDICES_199.json'), CHAR_INDICES)\n",
        "# to_json('../models/INDICES_CHAR.json', INDICES_CHAR)"
      ],
      "metadata": {
        "id": "4u72F4HrtzqM"
      },
      "execution_count": null,
      "outputs": []
    },
    {
      "cell_type": "markdown",
      "source": [
        "# thai_word_segmentation.ipynb"
      ],
      "metadata": {
        "id": "gW1MtHm5uQ1C"
      }
    },
    {
      "cell_type": "markdown",
      "source": [
        "### Load Dataset\n",
        "Download dataset from https://www.nectec.or.th/corpus/index.php?league=pm"
      ],
      "metadata": {
        "id": "EFpJpzoxuUY-"
      }
    },
    {
      "cell_type": "code",
      "source": [
        "from glob import glob\n",
        "import numpy as np"
      ],
      "metadata": {
        "id": "8TDZ1EECulMs"
      },
      "execution_count": null,
      "outputs": []
    },
    {
      "cell_type": "markdown",
      "source": [
        "List file path"
      ],
      "metadata": {
        "id": "AuOQSrrNuujJ"
      }
    },
    {
      "cell_type": "code",
      "source": [
        "# PATH_MAIN = '/content/content/drive/MyDrive/Colab Notebooks/SuperAI_Hackathon/Hackathon_week2_NLP/Resources'\n",
        "files = glob(os.path.join(PATH_MAIN,'BEST_I_CORPUS/TrainingSet/*/*'))\n",
        "print('Number of files: ', len(files))"
      ],
      "metadata": {
        "colab": {
          "base_uri": "https://localhost:8080/"
        },
        "id": "NnqXN4_Puyk9",
        "outputId": "22b6bf78-bcc2-4a2e-f1cd-5688297ab2a6"
      },
      "execution_count": null,
      "outputs": [
        {
          "output_type": "stream",
          "name": "stdout",
          "text": [
            "Number of files:  5522\n"
          ]
        }
      ]
    },
    {
      "cell_type": "markdown",
      "source": [
        "Loading char indices dictionary in to CHAR_INDICES variable"
      ],
      "metadata": {
        "id": "WvKJSi42uzLo"
      }
    },
    {
      "cell_type": "code",
      "source": [
        "import json\n",
        "\n",
        "def read_json(fname, key_int=False):\n",
        "    with open(fname, 'r') as file:\n",
        "        data = file.read()\n",
        "        json_data = json.loads(data)\n",
        "        \n",
        "        if not key_int:\n",
        "            return json_data\n",
        "        \n",
        "        json_data = {int(key): value for key, value in json_data.items()}\n",
        "        return json_data"
      ],
      "metadata": {
        "id": "ZlZnuUqpu7Hk"
      },
      "execution_count": null,
      "outputs": []
    },
    {
      "cell_type": "code",
      "source": [
        "# PATH_MAIN = '/content/content/drive/MyDrive/Colab Notebooks/SuperAI_Hackathon/Hackathon_week2_NLP/Resources'\n",
        "CHAR_INDICES = read_json(os.path.join(PATH_MAIN, 'models/CHAR_INDICES_199.json'), key_int=False)"
      ],
      "metadata": {
        "id": "1XCumsvlu9GM"
      },
      "execution_count": null,
      "outputs": []
    },
    {
      "cell_type": "markdown",
      "source": [
        "### Preprocessing\n",
        "1. Read text from each file\n",
        "2. Remove inappropriate word/char\n",
        "3. Create dataset (sequence data for LSTM)\n",
        "4. Data ecoding (one-hot encoding)"
      ],
      "metadata": {
        "id": "r3S-3oL1u-XD"
      }
    },
    {
      "cell_type": "code",
      "source": [
        "def replace(text, wordlist):\n",
        "    for new_word, list_ in wordlist.items():\n",
        "        for old_word in list_:\n",
        "            text = text.replace(old_word.lower(), new_word)\n",
        "    return text\n",
        "\n",
        "    \n",
        "def preprocessing(text, wordlist):\n",
        "    text = text.lower()  # to lower-case\n",
        "    text = replace(text, wordlist)\n",
        "    return text\n",
        "\n",
        "\n",
        "def create_dataset(text, look_back=20):\n",
        "    X, y = [], []\n",
        "    text = '|' + text\n",
        "    data = [CHAR_INDICES['<pad>']] * look_back\n",
        "    for i in range(1, len(text)):\n",
        "        current_char = text[i]\n",
        "        before_char = text[i-1]\n",
        "\n",
        "        if current_char == '|':\n",
        "            continue\n",
        "\n",
        "        data = data[1:] + [CHAR_INDICES[current_char]]  # X data\n",
        "        target = 1 if before_char == '|' else 0  # y data\n",
        "\n",
        "        X.append(data)\n",
        "        y.append(target)\n",
        "    y[-1] = 1  # end text is '|'\n",
        "    return X, y\n",
        "\n",
        "\n",
        "def encode_data(X, y):\n",
        "    sequence_len = len(X[0])\n",
        "    encode_X = np.zeros((len(X), sequence_len, len(CHAR_INDICES)), dtype=np.bool)\n",
        "    encode_y = np.zeros((len(y), 2), dtype=np.bool)\n",
        "    for i, (data, target) in enumerate(zip(X, y)):\n",
        "        for t, char in enumerate(data):\n",
        "            encode_X[i, t, char] = 1\n",
        "        encode_y[i, target] = 1\n",
        "        \n",
        "    return encode_X, encode_y\n",
        "\n",
        "\n",
        "def read_text(file):\n",
        "    return open(file, encoding='utf-8').read()"
      ],
      "metadata": {
        "id": "ZYHiGQmFvAvp"
      },
      "execution_count": null,
      "outputs": []
    },
    {
      "cell_type": "markdown",
      "source": [
        "### Train-Test-Validate\n",
        "Random file name for train, test and validate"
      ],
      "metadata": {
        "id": "SU_I6O8VvDPz"
      }
    },
    {
      "cell_type": "code",
      "source": [
        "import random\n",
        "\n",
        "def train_test_split(files, test_size=0.3):\n",
        "    random.seed(4)\n",
        "    random.shuffle(files)\n",
        "    test_size = int(len(files) * test_size)\n",
        "    train, test = files[:-test_size], files[-test_size:]\n",
        "    return train, test"
      ],
      "metadata": {
        "id": "pgeP756tvO_O"
      },
      "execution_count": null,
      "outputs": []
    },
    {
      "cell_type": "code",
      "source": [
        "file_train, file_test = train_test_split(files, test_size=0.05)\n",
        "file_train, file_validate = train_test_split(file_train, test_size=0.05)"
      ],
      "metadata": {
        "id": "9_lqgg1XvQRJ"
      },
      "execution_count": null,
      "outputs": []
    },
    {
      "cell_type": "code",
      "source": [
        "print('Number of file for traing:', len(file_train))\n",
        "print('Number of file for validate:',len(file_validate))\n",
        "print('Number of file for test:', len(file_test))"
      ],
      "metadata": {
        "colab": {
          "base_uri": "https://localhost:8080/"
        },
        "id": "BaUYEAzUvRZ5",
        "outputId": "5332879b-df34-4225-8b54-d477a21701bc"
      },
      "execution_count": null,
      "outputs": [
        {
          "output_type": "stream",
          "name": "stdout",
          "text": [
            "Number of file for traing: 4984\n",
            "Number of file for validate: 262\n",
            "Number of file for test: 276\n"
          ]
        }
      ]
    },
    {
      "cell_type": "markdown",
      "source": [
        "### Create Model"
      ],
      "metadata": {
        "id": "WydxZj2ovSqG"
      }
    },
    {
      "cell_type": "code",
      "source": [
        "import tensorflow as tf\n",
        "from keras.models import Sequential\n",
        "from keras.layers import Dense\n",
        "from keras.layers import LSTM, Dropout, Bidirectional\n",
        "from keras.utils.vis_utils import plot_model\n",
        "from IPython.display import Image\n",
        "import copy\n",
        "\n",
        "from keras.layers import Embedding, LSTM, TimeDistributed, Dense, Dropout\n",
        "from keras.callbacks import ModelCheckpoint, EarlyStopping,ReduceLROnPlateau,CSVLogger"
      ],
      "metadata": {
        "id": "t5AZcN0jvWWp"
      },
      "execution_count": null,
      "outputs": []
    },
    {
      "cell_type": "markdown",
      "source": [
        "Count number of each dataset (train, test ,validate)"
      ],
      "metadata": {
        "id": "NqK2E67PvWxH"
      }
    },
    {
      "cell_type": "code",
      "source": [
        "wordlist = {\n",
        "    '': ['<AB>', '</AB>', '<NE>', '</NE>', '\\n'],\n",
        "}\n",
        "\n",
        "wordlist2 = copy.deepcopy(wordlist)\n",
        "wordlist2[''].append('|')\n",
        "\n",
        "nb_data_train = sum(len(preprocessing(read_text(file), wordlist2)) for file in file_train)\n",
        "nb_data_validate = sum(len(preprocessing(read_text(file), wordlist2)) for file in file_validate)\n",
        "nb_data_test = sum(len(preprocessing(read_text(file), wordlist2)) for file in file_test)\n",
        "\n",
        "print('Number of data on train set: ', nb_data_train)\n",
        "print('Number of data on validate set: ', nb_data_validate)\n",
        "print('Number of data on test set: ', nb_data_test)\n",
        "print('Number of all data: ', sum([nb_data_train, nb_data_validate, nb_data_test]))"
      ],
      "metadata": {
        "colab": {
          "base_uri": "https://localhost:8080/"
        },
        "id": "HO5XaXuUvZWI",
        "outputId": "67af2d64-e25b-4d56-8c12-1cfdbe3fc5ab"
      },
      "execution_count": null,
      "outputs": [
        {
          "output_type": "stream",
          "name": "stdout",
          "text": [
            "Number of data on train set:  29906591\n",
            "Number of data on validate set:  1819046\n",
            "Number of data on test set:  1548430\n",
            "Number of all data:  33274067\n"
          ]
        }
      ]
    },
    {
      "cell_type": "markdown",
      "source": [
        "Config var"
      ],
      "metadata": {
        "id": "fmqTVLJdvbkY"
      }
    },
    {
      "cell_type": "code",
      "source": [
        "LOOK_BACK = 20\n",
        "batch_size = 4096\n",
        "steps_per_epoch = int(nb_data_train / batch_size)\n",
        "validation_steps = int(nb_data_train / (batch_size * 10))"
      ],
      "metadata": {
        "id": "-K_iN0r4veql"
      },
      "execution_count": null,
      "outputs": []
    },
    {
      "cell_type": "markdown",
      "source": [
        "Build model and plot model"
      ],
      "metadata": {
        "id": "Gr0-pb9HvkoG"
      }
    },
    {
      "cell_type": "code",
      "source": [
        "# optimizer = tf.keras.optimizers.Adam(learning_rate = 0.001)\n",
        "\n",
        "# def define_model(input_shape):\n",
        "#     model = Sequential()\n",
        "#     model.add(\n",
        "#         Bidirectional(LSTM(input_shape[1]//2, input_shape=input_shape,\n",
        "#                            return_sequences=False),\n",
        "#                       merge_mode='sum',\n",
        "#                       weights=None,\n",
        "#                       input_shape=input_shape))\n",
        "    \n",
        "\n",
        "#     model.add(Dense(input_shape[1]//4, activation='linear'))\n",
        "\n",
        "      \n",
        "#     model.add(Dense(2, activation='softmax'))\n",
        "#     model.compile(loss='binary_crossentropy', optimizer=optimizer, metrics=['accuracy'])  # compile\n",
        "    \n",
        "#     print('Total params: ', model.count_params())\n",
        "#     return model"
      ],
      "metadata": {
        "id": "2X1OUAnrvgTr"
      },
      "execution_count": null,
      "outputs": []
    },
    {
      "cell_type": "code",
      "source": [
        "# # BiLSTM model\n",
        "# x = Bidirectional(LSTM(max_len, return_sequences=True), name=\"bilstm_1\")(embedding_layer)\n",
        "# x = Bidirectional(LSTM(max_len, return_sequences=False), name=\"bilstm_2\")(x)\n",
        "# x = Dense(300, activation=\"relu\")(x)\n",
        "# x = Dense(200, activation=\"relu\")(x)\n",
        "# x = Dense(relu_size, activation=\"relu\", name=\"relu_layer\")(x)\n",
        "# output_layer = Dense(50, activation=\"softmax\")(x)"
      ],
      "metadata": {
        "id": "_AH1p57n5Wsy"
      },
      "execution_count": null,
      "outputs": []
    },
    {
      "cell_type": "code",
      "source": [
        "optimizer = tf.keras.optimizers.Adam(learning_rate = 0.001)\n",
        "\n",
        "def define_model(input_shape):\n",
        "    model = Sequential()\n",
        "    model.add(\n",
        "        Bidirectional(LSTM(input_shape[1]//2, input_shape=input_shape,\n",
        "                           return_sequences=True),\n",
        "                      name=\"BiLSTM_1\",\n",
        "                      merge_mode='sum',\n",
        "                      weights=None,\n",
        "                      input_shape=input_shape))\n",
        "    \n",
        "    model.add(Dropout(0.3, name=\"Dropout_1\"))\n",
        "\n",
        "    model.add(Bidirectional(LSTM(input_shape[1]//2, return_sequences = False),  \n",
        "                            name=\"BiLSTM_2\"))\n",
        "    \n",
        "    model.add(Dropout(0.3, name=\"Dropout_2\"))\n",
        "        \n",
        "    model.add(Dense(input_shape[1]//4, activation='linear', name='Dense_1'))\n",
        "\n",
        "    model.add(Dropout(0.3, name=\"Dropout_3\"))\n",
        "\n",
        "      \n",
        "    model.add(Dense(2, activation='softmax', name='Dense_2'))\n",
        "  \n",
        "    model.compile(loss='binary_crossentropy', optimizer=optimizer, metrics=['accuracy'])  # compile\n",
        "    \n",
        "    print('Total params: ', model.count_params())\n",
        "    return model"
      ],
      "metadata": {
        "id": "BTxrAf8mPrOA"
      },
      "execution_count": null,
      "outputs": []
    },
    {
      "cell_type": "code",
      "source": [
        "# optimizer = tf.keras.optimizers.Adam(learning_rate = 0.001)\n",
        "\n",
        "# def define_model(input_shape):\n",
        "#     model = Sequential()\n",
        "#     #Embedding layer\n",
        "#     model.add(Embedding(input_shape[1], 5, input_length=input_shape[0]))\n",
        "\n",
        "#     # LSTM Layer #1\n",
        "#     lstm = LSTM(256, return_sequences=True, unroll=True, dropout=0.1, recurrent_dropout=0.1)\n",
        "\n",
        "#     model.add(Bidirectional(lstm))\n",
        "#     model.add(Dropout(0.1))\n",
        "    \n",
        "#     # LSTM Layer #2\n",
        "#     lstm = LSTM(256, return_sequences=True, unroll=True, dropout=0.1, recurrent_dropout=0.1)\n",
        "    \n",
        "#     model.add(Bidirectional(lstm))\n",
        "#     model.add(Dropout(0.1))\n",
        "\n",
        "#     # LSTM Layer #3\n",
        "#     lstm = LSTM(128, return_sequences=False, unroll=True, dropout=0.25, recurrent_dropout=0.25)\n",
        "\n",
        "#     model.add(Bidirectional(lstm))\n",
        "#     model.add(Dropout(0.25))\n",
        "\n",
        "#     # RNN\n",
        "#     model.add(TimeDistributed(Dense(2, activation=\"softmax\"),  \n",
        "#                               input_shape=(20, 128)))    \n",
        "\n",
        "#     # Compile\n",
        "#     model.compile(loss=\"categorical_crossentropy\", optimizer=optimizer,  \n",
        "#                   metrics=[\"categorical_accuracy\"])\n",
        "    \n",
        "#     print('Total params: ', model.count_params())\n",
        "#     return model"
      ],
      "metadata": {
        "id": "tfEhywpOgECu"
      },
      "execution_count": null,
      "outputs": []
    },
    {
      "cell_type": "code",
      "source": [
        "input_shape = (LOOK_BACK, len(CHAR_INDICES))\n",
        "model = define_model(input_shape)  # define model\n",
        "\n",
        "# plot model\n",
        "image_name = '/content/model.png'\n",
        "plot_model(model, image_name, show_shapes=True, show_layer_names=False)\n",
        "display(Image(filename=image_name))"
      ],
      "metadata": {
        "colab": {
          "base_uri": "https://localhost:8080/",
          "height": 882
        },
        "id": "ItjZ6Ahpvl-m",
        "outputId": "1d30ad48-d2fd-442d-d4d1-284077d5f9e2"
      },
      "execution_count": null,
      "outputs": [
        {
          "output_type": "stream",
          "name": "stdout",
          "text": [
            "Total params:  404267\n"
          ]
        },
        {
          "output_type": "display_data",
          "data": {
            "image/png": "[encoded data removed]",
            "text/plain": [
              "<IPython.core.display.Image object>"
            ]
          },
          "metadata": {}
        }
      ]
    },
    {
      "cell_type": "code",
      "source": [
        "model.summary()"
      ],
      "metadata": {
        "colab": {
          "base_uri": "https://localhost:8080/"
        },
        "id": "lZEYIh0Fxcy9",
        "outputId": "a9f5057d-15a4-4293-94f1-da8ef42ecb0f"
      },
      "execution_count": null,
      "outputs": [
        {
          "output_type": "stream",
          "name": "stdout",
          "text": [
            "Model: \"sequential_4\"\n",
            "_________________________________________________________________\n",
            " Layer (type)                Output Shape              Param #   \n",
            "=================================================================\n",
            " BiLSTM_1 (Bidirectional)    (None, 20, 99)            236808    \n",
            "                                                                 \n",
            " Dropout_1 (Dropout)         (None, 20, 99)            0         \n",
            "                                                                 \n",
            " BiLSTM_2 (Bidirectional)    (None, 198)               157608    \n",
            "                                                                 \n",
            " Dropout_2 (Dropout)         (None, 198)               0         \n",
            "                                                                 \n",
            " Dense_1 (Dense)             (None, 49)                9751      \n",
            "                                                                 \n",
            " Dropout_3 (Dropout)         (None, 49)                0         \n",
            "                                                                 \n",
            " Dense_2 (Dense)             (None, 2)                 100       \n",
            "                                                                 \n",
            "=================================================================\n",
            "Total params: 404,267\n",
            "Trainable params: 404,267\n",
            "Non-trainable params: 0\n",
            "_________________________________________________________________\n"
          ]
        }
      ]
    },
    {
      "cell_type": "markdown",
      "source": [
        "Create *GENERATOR* for training **LARGE dataset**"
      ],
      "metadata": {
        "id": "kMWkcP2gvmch"
      }
    },
    {
      "cell_type": "code",
      "source": [
        "import math\n",
        "\n",
        "def generator(files, wordlist, batch_size=1024, look_back=20, mode='Training', display_=False):\n",
        "    while True:\n",
        "        copy_files = files.copy()\n",
        "        random.shuffle(copy_files)\n",
        "\n",
        "        for file in copy_files:\n",
        "            if display_ is True:\n",
        "                print(f'\\n{mode} file: ' + file)\n",
        "\n",
        "            text = read_text(file)\n",
        "            text = preprocessing(text, wordlist)\n",
        "            X_data, y_data = create_dataset(text, look_back)\n",
        "            X_data, y_data = encode_data(X_data, y_data)\n",
        "\n",
        "            samples_per_epoch  = len(X_data)\n",
        "            number_of_batches = int(math.ceil(samples_per_epoch / batch_size))\n",
        "\n",
        "            for counter in range(number_of_batches):\n",
        "                X_batch = np.array(X_data[batch_size*counter:batch_size*(counter+1)])\n",
        "                y_batch = np.array(y_data[batch_size*counter:batch_size*(counter+1)])\n",
        "                yield X_batch, y_batch"
      ],
      "metadata": {
        "id": "lDe2sQQ9v2Ym"
      },
      "execution_count": null,
      "outputs": []
    },
    {
      "cell_type": "code",
      "source": [
        "# Generators\n",
        "training_generator = generator(file_train, \n",
        "                               wordlist, \n",
        "                               batch_size, \n",
        "                               look_back=LOOK_BACK, \n",
        "                               mode='Training')\n",
        "\n",
        "validation_generator = generator(file_validate, \n",
        "                                 wordlist, \n",
        "                                 batch_size, \n",
        "                                 look_back=LOOK_BACK, \n",
        "                                 mode='Validation')\n",
        "\n",
        "print('steps per epoch', steps_per_epoch)\n",
        "print('validation steps', validation_steps)"
      ],
      "metadata": {
        "id": "gShcog4fv3lf",
        "colab": {
          "base_uri": "https://localhost:8080/"
        },
        "outputId": "22d245dd-7906-4906-ca3c-0e9da88e5b60"
      },
      "execution_count": null,
      "outputs": [
        {
          "output_type": "stream",
          "name": "stdout",
          "text": [
            "steps per epoch 7301\n",
            "validation steps 730\n"
          ]
        }
      ]
    },
    {
      "cell_type": "markdown",
      "source": [
        "### Callbacks  \n",
        "Callback config  \n",
        "- checkpoint\n",
        "- step decay"
      ],
      "metadata": {
        "id": "WfIh6Sp-v51G"
      }
    },
    {
      "cell_type": "code",
      "source": [
        "PATH_main = '/content/drive/MyDrive/Hackathon_NLP/Model'\n",
        "\n",
        "# callbacks\n",
        "# path_to_save_model = os.path.join(PATH_main,  \n",
        "#                                   \"models_IMDB_bs12288_BiLSTM_lb10/weights-improvement-{epoch:03d}-{val_accuracy:.3f}_extension.hdf5\")\n",
        "\n",
        "path_to_save_model = os.path.join(PATH_main,  \n",
        "                                  \"models_IMDB_bs4096_2BiLSTM/weights-improvement_extension.hdf5\")\n",
        "\n",
        "ckpt_saver = ModelCheckpoint(\n",
        "    path_to_save_model,  \n",
        "    monitor=\"val_accuracy\",  \n",
        "    mode=\"max\",  \n",
        "    save_best_only=True,  \n",
        "    save_freq='epoch',  \n",
        "    verbose=1\n",
        ")\n",
        "\n",
        "# EarlyStopping\n",
        "early_stopping = EarlyStopping(monitor=\"val_accuracy\",  \n",
        "                               patience=5, verbose=1)\n",
        "\n",
        "# Reduce learning rate\n",
        "reduce_lr = ReduceLROnPlateau(monitor='loss', factor=0.2,patience=2, min_lr=1e-8)\n",
        "\n",
        "# CSV Log\n",
        "csv_logger = CSVLogger('/content/drive/MyDrive/Hackathon_NLP/Model/models_IMDB_bs4096_2BiLSTM/training.log', separator=',', append=False)"
      ],
      "metadata": {
        "id": "JpUY4MFkEq86"
      },
      "execution_count": null,
      "outputs": []
    },
    {
      "cell_type": "code",
      "source": [
        "# from matplotlib import pyplot as plt"
      ],
      "metadata": {
        "id": "Dqxd-obSv7zb"
      },
      "execution_count": null,
      "outputs": []
    },
    {
      "cell_type": "code",
      "source": [
        "# checkpoint\n",
        "# Note: Path for saving model should be changed to your personal drive\n",
        "\n",
        "# PATH_MAIN = '/content/drive/MyDrive/Hackathon_NLP/Model'\n",
        "# filepath=os.path.join(PATH_MAIN, \"models_1024/weights-improvement-{epoch:03d}-{val_accuracy:.3f}_extension.hdf5\")\n",
        "# checkpoint = ModelCheckpoint(filepath, monitor='val_accuracy', verbose=1, save_best_only=True, mode='max')"
      ],
      "metadata": {
        "id": "m9YypXLRv-AF"
      },
      "execution_count": null,
      "outputs": []
    },
    {
      "cell_type": "code",
      "source": [
        "# # step decay\n",
        "\n",
        "# def step_decay(epoch):\n",
        "#     initial_lrate = 0.001\n",
        "#     min_lrat = 0.0001\n",
        "#     drop_per_epoch = (initial_lrate - min_lrat) / NB_EPOCH\n",
        "#     lrate = initial_lrate - (drop_per_epoch * epoch)\n",
        "#     return lrate\n",
        "\n",
        "# NB_EPOCH = 50\n",
        "# lrate = LearningRateScheduler(step_decay)\n",
        "\n",
        "# plt.plot([step_decay(i) for i in range(NB_EPOCH)]);\n",
        "# plt.savefig('/content/step-decay.png')"
      ],
      "metadata": {
        "id": "ucU-ZRQfv_Xv"
      },
      "execution_count": null,
      "outputs": []
    },
    {
      "cell_type": "code",
      "source": [
        "# callbacks_list = [checkpoint, lrate]\n",
        "callbacks_list = [ckpt_saver, early_stopping, reduce_lr, csv_logger]"
      ],
      "metadata": {
        "id": "PnFwJ7gNwD-e"
      },
      "execution_count": null,
      "outputs": []
    },
    {
      "cell_type": "code",
      "source": [
        "import datetime\n",
        "def textout(input_string):\n",
        "    print(input_string)"
      ],
      "metadata": {
        "id": "hOpYaI7ovAqz"
      },
      "execution_count": null,
      "outputs": []
    },
    {
      "cell_type": "code",
      "source": [
        "textout(\"START TRAINING\")\n",
        "start_time = datetime.datetime.now().replace(microsecond=0)\n",
        "textout(\"Time ==> \" + str(start_time.strftime(\"%Y-%m-%d %H:%M:%S\")))\n",
        "\n",
        "# training\n",
        "\n",
        "history = model.fit_generator(generator=training_generator,\n",
        "                    validation_data=validation_generator,\n",
        "                    steps_per_epoch=steps_per_epoch,\n",
        "                    validation_steps=validation_steps,\n",
        "                    epochs=100,\n",
        "                    verbose=1,\n",
        "                    callbacks=callbacks_list)\n",
        "\n",
        "finish_time = datetime.datetime.now().replace(microsecond=0)\n",
        "textout(\"END\")\n",
        "textout(\"Time ==> \" + str(finish_time.strftime(\"%Y-%m-%d %H:%M:%S\")) )\n",
        "textout(\"TIME USED => \" + str(finish_time - start_time))"
      ],
      "metadata": {
        "id": "TsZ4MI6wwFJd",
        "colab": {
          "base_uri": "https://localhost:8080/"
        },
        "outputId": "da6ce6a3-5ca1-4f1f-d7b7-1d02b123701b"
      },
      "execution_count": null,
      "outputs": [
        {
          "metadata": {
            "tags": null
          },
          "name": "stdout",
          "output_type": "stream",
          "text": [
            "START TRAINING\n",
            "Time ==> 2022-02-21 14:20:40\n",
            "Epoch 1/100\n"
          ]
        },
        {
          "metadata": {
            "tags": null
          },
          "name": "stderr",
          "output_type": "stream",
          "text": [
            "/usr/local/lib/python3.7/dist-packages/ipykernel_launcher.py:13: UserWarning: `Model.fit_generator` is deprecated and will be removed in a future version. Please use `Model.fit`, which supports generators.\n",
            "  del sys.path[0]\n",
            "/usr/local/lib/python3.7/dist-packages/ipykernel_launcher.py:36: DeprecationWarning: `np.bool` is a deprecated alias for the builtin `bool`. To silence this warning, use `bool` by itself. Doing this will not modify any behavior and is safe. If you specifically wanted the numpy scalar type, use `np.bool_` here.\n",
            "Deprecated in NumPy 1.20; for more details and guidance: https://numpy.org/devdocs/release/1.20.0-notes.html#deprecations\n",
            "/usr/local/lib/python3.7/dist-packages/ipykernel_launcher.py:37: DeprecationWarning: `np.bool` is a deprecated alias for the builtin `bool`. To silence this warning, use `bool` by itself. Doing this will not modify any behavior and is safe. If you specifically wanted the numpy scalar type, use `np.bool_` here.\n",
            "Deprecated in NumPy 1.20; for more details and guidance: https://numpy.org/devdocs/release/1.20.0-notes.html#deprecations\n"
          ]
        },
        {
          "output_type": "stream",
          "name": "stdout",
          "text": [
            "7301/7301 [==============================] - ETA: 0s - loss: 0.1413 - accuracy: 0.9439\n",
            "Epoch 1: val_accuracy improved from -inf to 0.96261, saving model to /content/drive/MyDrive/Hackathon_NLP/Model/models_IMDB_bs4096_2BiLSTM/weights-improvement_extension.hdf5\n",
            "7301/7301 [==============================] - 557s 75ms/step - loss: 0.1413 - accuracy: 0.9439 - val_loss: 0.0973 - val_accuracy: 0.9626 - lr: 0.0010\n",
            "Epoch 2/100\n",
            "7301/7301 [==============================] - ETA: 0s - loss: 0.0947 - accuracy: 0.9643\n",
            "Epoch 2: val_accuracy improved from 0.96261 to 0.97021, saving model to /content/drive/MyDrive/Hackathon_NLP/Model/models_IMDB_bs4096_2BiLSTM/weights-improvement_extension.hdf5\n",
            "7301/7301 [==============================] - 548s 75ms/step - loss: 0.0947 - accuracy: 0.9643 - val_loss: 0.0787 - val_accuracy: 0.9702 - lr: 0.0010\n",
            "Epoch 3/100\n",
            "7299/7301 [============================>.] - ETA: 0s - loss: 0.0830 - accuracy: 0.9687\n",
            "Epoch 3: val_accuracy improved from 0.97021 to 0.97367, saving model to /content/drive/MyDrive/Hackathon_NLP/Model/models_IMDB_bs4096_2BiLSTM/weights-improvement_extension.hdf5\n",
            "7301/7301 [==============================] - 551s 75ms/step - loss: 0.0830 - accuracy: 0.9687 - val_loss: 0.0705 - val_accuracy: 0.9737 - lr: 0.0010\n",
            "Epoch 4/100\n",
            "7301/7301 [==============================] - ETA: 0s - loss: 0.0742 - accuracy: 0.9720\n",
            "Epoch 4: val_accuracy improved from 0.97367 to 0.97424, saving model to /content/drive/MyDrive/Hackathon_NLP/Model/models_IMDB_bs4096_2BiLSTM/weights-improvement_extension.hdf5\n",
            "7301/7301 [==============================] - 544s 75ms/step - loss: 0.0742 - accuracy: 0.9720 - val_loss: 0.0667 - val_accuracy: 0.9742 - lr: 0.0010\n",
            "Epoch 5/100\n",
            "7301/7301 [==============================] - ETA: 0s - loss: 0.0691 - accuracy: 0.9739\n",
            "Epoch 5: val_accuracy improved from 0.97424 to 0.97639, saving model to /content/drive/MyDrive/Hackathon_NLP/Model/models_IMDB_bs4096_2BiLSTM/weights-improvement_extension.hdf5\n",
            "7301/7301 [==============================] - 545s 75ms/step - loss: 0.0691 - accuracy: 0.9739 - val_loss: 0.0612 - val_accuracy: 0.9764 - lr: 0.0010\n",
            "Epoch 6/100\n",
            "7301/7301 [==============================] - ETA: 0s - loss: 0.0682 - accuracy: 0.9742\n",
            "Epoch 6: val_accuracy improved from 0.97639 to 0.97712, saving model to /content/drive/MyDrive/Hackathon_NLP/Model/models_IMDB_bs4096_2BiLSTM/weights-improvement_extension.hdf5\n",
            "7301/7301 [==============================] - 537s 74ms/step - loss: 0.0682 - accuracy: 0.9742 - val_loss: 0.0602 - val_accuracy: 0.9771 - lr: 0.0010\n",
            "Epoch 7/100\n",
            "7300/7301 [============================>.] - ETA: 0s - loss: 0.0647 - accuracy: 0.9753\n",
            "Epoch 7: val_accuracy improved from 0.97712 to 0.97835, saving model to /content/drive/MyDrive/Hackathon_NLP/Model/models_IMDB_bs4096_2BiLSTM/weights-improvement_extension.hdf5\n",
            "7301/7301 [==============================] - 542s 74ms/step - loss: 0.0647 - accuracy: 0.9753 - val_loss: 0.0576 - val_accuracy: 0.9783 - lr: 0.0010\n",
            "Epoch 8/100\n",
            "7301/7301 [==============================] - ETA: 0s - loss: 0.0627 - accuracy: 0.9762\n",
            "Epoch 8: val_accuracy did not improve from 0.97835\n",
            "7301/7301 [==============================] - 538s 74ms/step - loss: 0.0627 - accuracy: 0.9762 - val_loss: 0.0572 - val_accuracy: 0.9781 - lr: 0.0010\n",
            "Epoch 9/100\n",
            "7300/7301 [============================>.] - ETA: 0s - loss: 0.0627 - accuracy: 0.9759\n",
            "Epoch 9: val_accuracy improved from 0.97835 to 0.97880, saving model to /content/drive/MyDrive/Hackathon_NLP/Model/models_IMDB_bs4096_2BiLSTM/weights-improvement_extension.hdf5\n",
            "7301/7301 [==============================] - 545s 75ms/step - loss: 0.0627 - accuracy: 0.9759 - val_loss: 0.0561 - val_accuracy: 0.9788 - lr: 0.0010\n",
            "Epoch 10/100\n",
            "7301/7301 [==============================] - ETA: 0s - loss: 0.0581 - accuracy: 0.9779\n",
            "Epoch 10: val_accuracy did not improve from 0.97880\n",
            "7301/7301 [==============================] - 532s 73ms/step - loss: 0.0581 - accuracy: 0.9779 - val_loss: 0.0556 - val_accuracy: 0.9786 - lr: 0.0010\n",
            "Epoch 11/100\n",
            "7301/7301 [==============================] - ETA: 0s - loss: 0.0604 - accuracy: 0.9769\n",
            "Epoch 11: val_accuracy improved from 0.97880 to 0.98025, saving model to /content/drive/MyDrive/Hackathon_NLP/Model/models_IMDB_bs4096_2BiLSTM/weights-improvement_extension.hdf5\n",
            "7301/7301 [==============================] - 543s 74ms/step - loss: 0.0604 - accuracy: 0.9769 - val_loss: 0.0512 - val_accuracy: 0.9802 - lr: 0.0010\n",
            "Epoch 12/100\n",
            "7301/7301 [==============================] - ETA: 0s - loss: 0.0586 - accuracy: 0.9776\n",
            "Epoch 12: val_accuracy did not improve from 0.98025\n",
            "7301/7301 [==============================] - 530s 73ms/step - loss: 0.0586 - accuracy: 0.9776 - val_loss: 0.0567 - val_accuracy: 0.9784 - lr: 0.0010\n",
            "Epoch 13/100\n",
            "7300/7301 [============================>.] - ETA: 0s - loss: 0.0556 - accuracy: 0.9786\n",
            "Epoch 13: val_accuracy improved from 0.98025 to 0.98041, saving model to /content/drive/MyDrive/Hackathon_NLP/Model/models_IMDB_bs4096_2BiLSTM/weights-improvement_extension.hdf5\n",
            "7301/7301 [==============================] - 546s 75ms/step - loss: 0.0556 - accuracy: 0.9786 - val_loss: 0.0497 - val_accuracy: 0.9804 - lr: 2.0000e-04\n",
            "Epoch 14/100\n",
            "7301/7301 [==============================] - ETA: 0s - loss: 0.0549 - accuracy: 0.9789\n",
            "Epoch 14: val_accuracy improved from 0.98041 to 0.98097, saving model to /content/drive/MyDrive/Hackathon_NLP/Model/models_IMDB_bs4096_2BiLSTM/weights-improvement_extension.hdf5\n",
            "7301/7301 [==============================] - 541s 74ms/step - loss: 0.0549 - accuracy: 0.9789 - val_loss: 0.0502 - val_accuracy: 0.9810 - lr: 2.0000e-04\n",
            "Epoch 15/100\n",
            "7301/7301 [==============================] - ETA: 0s - loss: 0.0553 - accuracy: 0.9787\n",
            "Epoch 15: val_accuracy improved from 0.98097 to 0.98101, saving model to /content/drive/MyDrive/Hackathon_NLP/Model/models_IMDB_bs4096_2BiLSTM/weights-improvement_extension.hdf5\n",
            "7301/7301 [==============================] - 541s 74ms/step - loss: 0.0553 - accuracy: 0.9787 - val_loss: 0.0500 - val_accuracy: 0.9810 - lr: 2.0000e-04\n",
            "Epoch 16/100\n",
            "7301/7301 [==============================] - ETA: 0s - loss: 0.0534 - accuracy: 0.9794\n",
            "Epoch 16: val_accuracy did not improve from 0.98101\n",
            "7301/7301 [==============================] - 537s 74ms/step - loss: 0.0534 - accuracy: 0.9794 - val_loss: 0.0517 - val_accuracy: 0.9804 - lr: 2.0000e-04\n",
            "Epoch 17/100\n",
            "7301/7301 [==============================] - ETA: 0s - loss: 0.0534 - accuracy: 0.9793\n",
            "Epoch 17: val_accuracy did not improve from 0.98101\n",
            "7301/7301 [==============================] - 546s 75ms/step - loss: 0.0534 - accuracy: 0.9793 - val_loss: 0.0498 - val_accuracy: 0.9804 - lr: 2.0000e-04\n",
            "Epoch 18/100\n",
            "7301/7301 [==============================] - ETA: 0s - loss: 0.0543 - accuracy: 0.9791\n",
            "Epoch 18: val_accuracy improved from 0.98101 to 0.98110, saving model to /content/drive/MyDrive/Hackathon_NLP/Model/models_IMDB_bs4096_2BiLSTM/weights-improvement_extension.hdf5\n",
            "7301/7301 [==============================] - 542s 74ms/step - loss: 0.0543 - accuracy: 0.9791 - val_loss: 0.0497 - val_accuracy: 0.9811 - lr: 2.0000e-04\n",
            "Epoch 19/100\n",
            "7301/7301 [==============================] - ETA: 0s - loss: 0.0533 - accuracy: 0.9793\n",
            "Epoch 19: val_accuracy did not improve from 0.98110\n",
            "7301/7301 [==============================] - 532s 73ms/step - loss: 0.0533 - accuracy: 0.9793 - val_loss: 0.0487 - val_accuracy: 0.9810 - lr: 4.0000e-05\n",
            "Epoch 20/100\n",
            "7301/7301 [==============================] - ETA: 0s - loss: 0.0526 - accuracy: 0.9798\n",
            "Epoch 20: val_accuracy did not improve from 0.98110\n",
            "7301/7301 [==============================] - 538s 74ms/step - loss: 0.0526 - accuracy: 0.9798 - val_loss: 0.0514 - val_accuracy: 0.9805 - lr: 4.0000e-05\n",
            "Epoch 21/100\n",
            "7300/7301 [============================>.] - ETA: 0s - loss: 0.0527 - accuracy: 0.9796\n",
            "Epoch 21: val_accuracy improved from 0.98110 to 0.98149, saving model to /content/drive/MyDrive/Hackathon_NLP/Model/models_IMDB_bs4096_2BiLSTM/weights-improvement_extension.hdf5\n",
            "7301/7301 [==============================] - 544s 75ms/step - loss: 0.0527 - accuracy: 0.9796 - val_loss: 0.0469 - val_accuracy: 0.9815 - lr: 4.0000e-05\n",
            "Epoch 22/100\n",
            "7301/7301 [==============================] - ETA: 0s - loss: 0.0516 - accuracy: 0.9801\n",
            "Epoch 22: val_accuracy did not improve from 0.98149\n",
            "7301/7301 [==============================] - 538s 74ms/step - loss: 0.0516 - accuracy: 0.9801 - val_loss: 0.0494 - val_accuracy: 0.9814 - lr: 4.0000e-05\n",
            "Epoch 23/100\n",
            "7301/7301 [==============================] - ETA: 0s - loss: 0.0547 - accuracy: 0.9788\n",
            "Epoch 23: val_accuracy did not improve from 0.98149\n",
            "7301/7301 [==============================] - 543s 74ms/step - loss: 0.0547 - accuracy: 0.9788 - val_loss: 0.0498 - val_accuracy: 0.9802 - lr: 4.0000e-05\n",
            "Epoch 24/100\n",
            "7301/7301 [==============================] - ETA: 0s - loss: 0.0520 - accuracy: 0.9799\n",
            "Epoch 24: val_accuracy did not improve from 0.98149\n",
            "7301/7301 [==============================] - 545s 75ms/step - loss: 0.0520 - accuracy: 0.9799 - val_loss: 0.0494 - val_accuracy: 0.9811 - lr: 4.0000e-05\n",
            "Epoch 25/100\n",
            "7301/7301 [==============================] - ETA: 0s - loss: 0.0528 - accuracy: 0.9797\n",
            "Epoch 25: val_accuracy did not improve from 0.98149\n",
            "7301/7301 [==============================] - 543s 74ms/step - loss: 0.0528 - accuracy: 0.9797 - val_loss: 0.0485 - val_accuracy: 0.9812 - lr: 8.0000e-06\n",
            "Epoch 26/100\n",
            "7301/7301 [==============================] - ETA: 0s - loss: 0.0517 - accuracy: 0.9798\n",
            "Epoch 26: val_accuracy did not improve from 0.98149\n",
            "7301/7301 [==============================] - 537s 73ms/step - loss: 0.0517 - accuracy: 0.9798 - val_loss: 0.0501 - val_accuracy: 0.9807 - lr: 8.0000e-06\n",
            "Epoch 26: early stopping\n",
            "END\n",
            "Time ==> 2022-02-21 18:15:25\n",
            "TIME USED => 3:54:45\n"
          ]
        }
      ]
    },
    {
      "cell_type": "markdown",
      "source": [
        "Model history plot\n",
        "- loss\n",
        "- acc"
      ],
      "metadata": {
        "id": "YMeQSYOlwH5t"
      }
    },
    {
      "cell_type": "code",
      "source": [
        "import matplotlib.pyplot as plt"
      ],
      "metadata": {
        "id": "wCFnKMZW9vXh"
      },
      "execution_count": null,
      "outputs": []
    },
    {
      "cell_type": "code",
      "source": [
        "plot_pathsave = '/content/drive/MyDrive/Hackathon_NLP/Model/models_IMDB_bs4096_2BiLSTM/history-{}.png'\n",
        "\n",
        "# keys of history\n",
        "print('history key: ', list(history.history.keys()))\n",
        "\n",
        "# summarize history for accuracy\n",
        "plt.plot(history.history['accuracy'])\n",
        "plt.plot(history.history['val_accuracy'])\n",
        "plt.title('model accuracy')\n",
        "plt.ylabel('accuracy')\n",
        "plt.xlabel('epoch')\n",
        "plt.legend(['train', 'test'], loc='upper left')\n",
        "plt.savefig(plot_pathsave.format('acc'))  # save to image\n",
        "plt.show()\n",
        "\n",
        "# summarize history for loss\n",
        "plt.plot(history.history['loss'])\n",
        "plt.plot(history.history['val_loss'])\n",
        "plt.title('model loss')\n",
        "plt.ylabel('loss')\n",
        "plt.xlabel('epoch')\n",
        "plt.legend(['train', 'test'], loc='upper left')\n",
        "plt.savefig(plot_pathsave.format('loss'))  # save to image\n",
        "plt.show()"
      ],
      "metadata": {
        "id": "Jh0EFbJDwI4_",
        "colab": {
          "base_uri": "https://localhost:8080/",
          "height": 590
        },
        "outputId": "0c416a30-80f6-4b25-f6c5-6fcbabd69ce6"
      },
      "execution_count": null,
      "outputs": [
        {
          "output_type": "stream",
          "name": "stdout",
          "text": [
            "history key:  ['loss', 'accuracy', 'val_loss', 'val_accuracy', 'lr']\n"
          ]
        },
        {
          "output_type": "display_data",
          "data": {
            "image/png": "[encoded data removed]",
            "text/plain": [
              "<Figure size 432x288 with 1 Axes>"
            ]
          },
          "metadata": {
            "needs_background": "light"
          }
        },
        {
          "output_type": "display_data",
          "data": {
            "image/png": "[encoded data removed]",
            "text/plain": [
              "<Figure size 432x288 with 1 Axes>"
            ]
          },
          "metadata": {
            "needs_background": "light"
          }
        }
      ]
    },
    {
      "cell_type": "markdown",
      "source": [
        "### Evaluate\n",
        "Evaluate each file on test and calculate mean score.  \n",
        "Loading best model (best **acc score** on validate set).\n",
        "\n",
        "Metrics\n",
        "- precision\n",
        "- recall\n",
        "- fscore\n",
        "\n",
        "Using sklearn\n",
        "- precision_recall_fscore_support: average='binary'\n",
        "- accuracy_score"
      ],
      "metadata": {
        "id": "oGKNPTsVwKo4"
      }
    },
    {
      "cell_type": "code",
      "source": [
        "from sklearn.metrics import accuracy_score, precision_recall_fscore_support\n",
        "from keras.models import load_model"
      ],
      "metadata": {
        "id": "EusczlT4wPND"
      },
      "execution_count": null,
      "outputs": []
    },
    {
      "cell_type": "code",
      "source": [
        "# PATH_MAIN = '/content/content/drive/MyDrive/Colab Notebooks/SuperAI_Hackathon/Hackathon_week2_NLP/Resources'\n",
        "# PATH_MAIN = '/content/drive/MyDrive/Hackathon_NLP/Model'\n",
        "# best_model_checkpoint = sorted(glob(os.path.join(PATH_MAIN, 'models_1024/*')))[-1] # change path for your model\n",
        "# PATH_model = \"/content/drive/MyDrive/font_Models/InceptionV3_all/model_style_inception_all\"\n",
        "best_model = tf.keras.models.load_model('/content/drive/MyDrive/Hackathon_NLP/Model/models_IMDB_bs4096_2BiLSTM/weights-improvement_extension.hdf5')\n",
        "\n",
        "# print(best_model_checkpoint)\n",
        "\n",
        "# best_model = load_model(best_model_checkpoint)  # load Model"
      ],
      "metadata": {
        "id": "nmyzPgXXwQ6E"
      },
      "execution_count": null,
      "outputs": []
    },
    {
      "cell_type": "code",
      "source": [
        "def pred_preprocessing(text, sequence_len=20):\n",
        "    # create dataset\n",
        "    X = []\n",
        "    data = [CHAR_INDICES['<pad>']] * sequence_len\n",
        "    for char in text:\n",
        "        char = char if char in CHAR_INDICES else '<unk>'  # check char in dictionary\n",
        "        data = data[1:] + [CHAR_INDICES[char]]  # X data\n",
        "        X.append(data)\n",
        "        \n",
        "    # data encoding\n",
        "    encode_X = np.zeros((len(X), sequence_len, len(CHAR_INDICES)), dtype=np.bool)\n",
        "    for i, data in enumerate(X):\n",
        "        for t, char in enumerate(data):\n",
        "            encode_X[i, t, char] = 1\n",
        "    return encode_X\n",
        "\n",
        "\n",
        "def predict(model, text_encode):\n",
        "    preds = model.predict(text_encode)\n",
        "    class_ = [np.argmax(pred) for pred in preds]\n",
        "    return class_"
      ],
      "metadata": {
        "id": "AYmcRAhawSkD"
      },
      "execution_count": null,
      "outputs": []
    },
    {
      "cell_type": "code",
      "source": [
        "LOOK_BACK = 20\n",
        "\n",
        "avg = {\n",
        "    'precision': [],\n",
        "    'recall': [],\n",
        "    'fscore': [],\n",
        "    'acc': []\n",
        "}\n",
        "\n",
        "for i, fpath in enumerate(file_test):\n",
        "    print(f'{i+1}/{len(file_test)}: ', fpath)\n",
        "    \n",
        "    _, y_true = create_dataset(preprocessing(read_text(fpath), wordlist), look_back=LOOK_BACK)\n",
        "    y_pred = predict(best_model, pred_preprocessing(preprocessing(read_text(fpath), wordlist2)))\n",
        "    \n",
        "    precision, recall, fscore, _ = precision_recall_fscore_support(y_true, y_pred, average='binary')\n",
        "    acc = accuracy_score(y_true, y_pred)\n",
        "    \n",
        "    avg['precision'].append(precision)\n",
        "    avg['recall'].append(recall)\n",
        "    avg['fscore'].append(fscore)\n",
        "    avg['acc'].append(acc)\n",
        "    \n",
        "    print('precision: ', round(precision, 3))\n",
        "    print('recall: ', round(recall, 3))\n",
        "    print('fscore: ', round(fscore, 3))\n",
        "    print('accuracy: ' , round(acc, 3))\n",
        "    print('Number of data: ', len(y_pred))\n",
        "    print('-' * 50)"
      ],
      "metadata": {
        "id": "6RF-56ufwVAU",
        "colab": {
          "base_uri": "https://localhost:8080/"
        },
        "outputId": "081da35d-e65d-419d-b3db-7d78d8a6384d"
      },
      "execution_count": null,
      "outputs": [
        {
          "output_type": "stream",
          "name": "stdout",
          "text": [
            "1/276:  /content/Resources/BEST_I_CORPUS/TrainingSet/LST20_train_prep/T10372_prep.txt\n"
          ]
        },
        {
          "output_type": "stream",
          "name": "stderr",
          "text": [
            "/usr/local/lib/python3.7/dist-packages/ipykernel_launcher.py:11: DeprecationWarning: `np.bool` is a deprecated alias for the builtin `bool`. To silence this warning, use `bool` by itself. Doing this will not modify any behavior and is safe. If you specifically wanted the numpy scalar type, use `np.bool_` here.\n",
            "Deprecated in NumPy 1.20; for more details and guidance: https://numpy.org/devdocs/release/1.20.0-notes.html#deprecations\n",
            "  # This is added back by InteractiveShellApp.init_path()\n"
          ]
        },
        {
          "output_type": "stream",
          "name": "stdout",
          "text": [
            "precision:  0.975\n",
            "recall:  0.909\n",
            "fscore:  0.941\n",
            "accuracy:  0.963\n",
            "Number of data:  908\n",
            "--------------------------------------------------\n",
            "2/276:  /content/Resources/BEST_I_CORPUS/TrainingSet/LST20_train_prep/T01539_prep.txt\n"
          ]
        },
        {
          "output_type": "stream",
          "name": "stderr",
          "text": [
            "/usr/local/lib/python3.7/dist-packages/ipykernel_launcher.py:11: DeprecationWarning: `np.bool` is a deprecated alias for the builtin `bool`. To silence this warning, use `bool` by itself. Doing this will not modify any behavior and is safe. If you specifically wanted the numpy scalar type, use `np.bool_` here.\n",
            "Deprecated in NumPy 1.20; for more details and guidance: https://numpy.org/devdocs/release/1.20.0-notes.html#deprecations\n",
            "  # This is added back by InteractiveShellApp.init_path()\n"
          ]
        },
        {
          "output_type": "stream",
          "name": "stdout",
          "text": [
            "precision:  0.96\n",
            "recall:  0.971\n",
            "fscore:  0.965\n",
            "accuracy:  0.98\n",
            "Number of data:  2195\n",
            "--------------------------------------------------\n",
            "3/276:  /content/Resources/BEST_I_CORPUS/TrainingSet/LST20_train_prep/T11152_prep.txt\n"
          ]
        },
        {
          "output_type": "stream",
          "name": "stderr",
          "text": [
            "/usr/local/lib/python3.7/dist-packages/ipykernel_launcher.py:11: DeprecationWarning: `np.bool` is a deprecated alias for the builtin `bool`. To silence this warning, use `bool` by itself. Doing this will not modify any behavior and is safe. If you specifically wanted the numpy scalar type, use `np.bool_` here.\n",
            "Deprecated in NumPy 1.20; for more details and guidance: https://numpy.org/devdocs/release/1.20.0-notes.html#deprecations\n",
            "  # This is added back by InteractiveShellApp.init_path()\n"
          ]
        },
        {
          "output_type": "stream",
          "name": "stdout",
          "text": [
            "precision:  0.966\n",
            "recall:  0.972\n",
            "fscore:  0.969\n",
            "accuracy:  0.984\n",
            "Number of data:  2779\n",
            "--------------------------------------------------\n",
            "4/276:  /content/Resources/BEST_I_CORPUS/TrainingSet/LST20_train_prep/T00528_prep.txt\n"
          ]
        },
        {
          "output_type": "stream",
          "name": "stderr",
          "text": [
            "/usr/local/lib/python3.7/dist-packages/ipykernel_launcher.py:11: DeprecationWarning: `np.bool` is a deprecated alias for the builtin `bool`. To silence this warning, use `bool` by itself. Doing this will not modify any behavior and is safe. If you specifically wanted the numpy scalar type, use `np.bool_` here.\n",
            "Deprecated in NumPy 1.20; for more details and guidance: https://numpy.org/devdocs/release/1.20.0-notes.html#deprecations\n",
            "  # This is added back by InteractiveShellApp.init_path()\n"
          ]
        },
        {
          "output_type": "stream",
          "name": "stdout",
          "text": [
            "precision:  0.954\n",
            "recall:  0.975\n",
            "fscore:  0.964\n",
            "accuracy:  0.981\n",
            "Number of data:  6681\n",
            "--------------------------------------------------\n",
            "5/276:  /content/Resources/BEST_I_CORPUS/TrainingSet/LST20_train_prep/T00306_prep.txt\n"
          ]
        },
        {
          "output_type": "stream",
          "name": "stderr",
          "text": [
            "/usr/local/lib/python3.7/dist-packages/ipykernel_launcher.py:11: DeprecationWarning: `np.bool` is a deprecated alias for the builtin `bool`. To silence this warning, use `bool` by itself. Doing this will not modify any behavior and is safe. If you specifically wanted the numpy scalar type, use `np.bool_` here.\n",
            "Deprecated in NumPy 1.20; for more details and guidance: https://numpy.org/devdocs/release/1.20.0-notes.html#deprecations\n",
            "  # This is added back by InteractiveShellApp.init_path()\n"
          ]
        },
        {
          "output_type": "stream",
          "name": "stdout",
          "text": [
            "precision:  0.968\n",
            "recall:  0.963\n",
            "fscore:  0.965\n",
            "accuracy:  0.982\n",
            "Number of data:  2106\n",
            "--------------------------------------------------\n",
            "6/276:  /content/Resources/BEST_I_CORPUS/TrainingSet/LST20_train_prep/T12440_prep.txt\n",
            "precision:  0.992\n",
            "recall:  0.988\n",
            "fscore:  0.99\n",
            "accuracy:  0.995\n",
            "Number of data:  935\n",
            "--------------------------------------------------\n",
            "7/276:  /content/Resources/BEST_I_CORPUS/TrainingSet/LST20_test_prep/T12598_prep.txt\n"
          ]
        },
        {
          "output_type": "stream",
          "name": "stderr",
          "text": [
            "/usr/local/lib/python3.7/dist-packages/ipykernel_launcher.py:11: DeprecationWarning: `np.bool` is a deprecated alias for the builtin `bool`. To silence this warning, use `bool` by itself. Doing this will not modify any behavior and is safe. If you specifically wanted the numpy scalar type, use `np.bool_` here.\n",
            "Deprecated in NumPy 1.20; for more details and guidance: https://numpy.org/devdocs/release/1.20.0-notes.html#deprecations\n",
            "  # This is added back by InteractiveShellApp.init_path()\n",
            "/usr/local/lib/python3.7/dist-packages/ipykernel_launcher.py:11: DeprecationWarning: `np.bool` is a deprecated alias for the builtin `bool`. To silence this warning, use `bool` by itself. Doing this will not modify any behavior and is safe. If you specifically wanted the numpy scalar type, use `np.bool_` here.\n",
            "Deprecated in NumPy 1.20; for more details and guidance: https://numpy.org/devdocs/release/1.20.0-notes.html#deprecations\n",
            "  # This is added back by InteractiveShellApp.init_path()\n"
          ]
        },
        {
          "output_type": "stream",
          "name": "stdout",
          "text": [
            "precision:  0.962\n",
            "recall:  0.95\n",
            "fscore:  0.956\n",
            "accuracy:  0.977\n",
            "Number of data:  913\n",
            "--------------------------------------------------\n",
            "8/276:  /content/Resources/BEST_I_CORPUS/TrainingSet/LST20_train_prep/T11639_prep.txt\n"
          ]
        },
        {
          "output_type": "stream",
          "name": "stderr",
          "text": [
            "/usr/local/lib/python3.7/dist-packages/ipykernel_launcher.py:11: DeprecationWarning: `np.bool` is a deprecated alias for the builtin `bool`. To silence this warning, use `bool` by itself. Doing this will not modify any behavior and is safe. If you specifically wanted the numpy scalar type, use `np.bool_` here.\n",
            "Deprecated in NumPy 1.20; for more details and guidance: https://numpy.org/devdocs/release/1.20.0-notes.html#deprecations\n",
            "  # This is added back by InteractiveShellApp.init_path()\n"
          ]
        },
        {
          "output_type": "stream",
          "name": "stdout",
          "text": [
            "precision:  0.978\n",
            "recall:  0.983\n",
            "fscore:  0.981\n",
            "accuracy:  0.987\n",
            "Number of data:  2238\n",
            "--------------------------------------------------\n",
            "9/276:  /content/Resources/BEST_I_CORPUS/TrainingSet/LST20_train_prep/T11781_prep.txt\n"
          ]
        },
        {
          "output_type": "stream",
          "name": "stderr",
          "text": [
            "/usr/local/lib/python3.7/dist-packages/ipykernel_launcher.py:11: DeprecationWarning: `np.bool` is a deprecated alias for the builtin `bool`. To silence this warning, use `bool` by itself. Doing this will not modify any behavior and is safe. If you specifically wanted the numpy scalar type, use `np.bool_` here.\n",
            "Deprecated in NumPy 1.20; for more details and guidance: https://numpy.org/devdocs/release/1.20.0-notes.html#deprecations\n",
            "  # This is added back by InteractiveShellApp.init_path()\n"
          ]
        },
        {
          "output_type": "stream",
          "name": "stdout",
          "text": [
            "precision:  0.962\n",
            "recall:  0.968\n",
            "fscore:  0.965\n",
            "accuracy:  0.978\n",
            "Number of data:  2780\n",
            "--------------------------------------------------\n",
            "10/276:  /content/Resources/BEST_I_CORPUS/TrainingSet/LST20_train_prep/T12858_prep.txt\n"
          ]
        },
        {
          "output_type": "stream",
          "name": "stderr",
          "text": [
            "/usr/local/lib/python3.7/dist-packages/ipykernel_launcher.py:11: DeprecationWarning: `np.bool` is a deprecated alias for the builtin `bool`. To silence this warning, use `bool` by itself. Doing this will not modify any behavior and is safe. If you specifically wanted the numpy scalar type, use `np.bool_` here.\n",
            "Deprecated in NumPy 1.20; for more details and guidance: https://numpy.org/devdocs/release/1.20.0-notes.html#deprecations\n",
            "  # This is added back by InteractiveShellApp.init_path()\n"
          ]
        },
        {
          "output_type": "stream",
          "name": "stdout",
          "text": [
            "precision:  0.968\n",
            "recall:  0.99\n",
            "fscore:  0.979\n",
            "accuracy:  0.989\n",
            "Number of data:  1539\n",
            "--------------------------------------------------\n",
            "11/276:  /content/Resources/BEST_I_CORPUS/TrainingSet/other/person_names_female.txt\n"
          ]
        },
        {
          "output_type": "stream",
          "name": "stderr",
          "text": [
            "/usr/local/lib/python3.7/dist-packages/ipykernel_launcher.py:11: DeprecationWarning: `np.bool` is a deprecated alias for the builtin `bool`. To silence this warning, use `bool` by itself. Doing this will not modify any behavior and is safe. If you specifically wanted the numpy scalar type, use `np.bool_` here.\n",
            "Deprecated in NumPy 1.20; for more details and guidance: https://numpy.org/devdocs/release/1.20.0-notes.html#deprecations\n",
            "  # This is added back by InteractiveShellApp.init_path()\n"
          ]
        },
        {
          "output_type": "stream",
          "name": "stdout",
          "text": [
            "precision:  0.618\n",
            "recall:  0.545\n",
            "fscore:  0.579\n",
            "accuracy:  0.889\n",
            "Number of data:  36301\n",
            "--------------------------------------------------\n",
            "12/276:  /content/Resources/BEST_I_CORPUS/TrainingSet/LST20_train_prep/T00361_prep.txt\n"
          ]
        },
        {
          "output_type": "stream",
          "name": "stderr",
          "text": [
            "/usr/local/lib/python3.7/dist-packages/ipykernel_launcher.py:11: DeprecationWarning: `np.bool` is a deprecated alias for the builtin `bool`. To silence this warning, use `bool` by itself. Doing this will not modify any behavior and is safe. If you specifically wanted the numpy scalar type, use `np.bool_` here.\n",
            "Deprecated in NumPy 1.20; for more details and guidance: https://numpy.org/devdocs/release/1.20.0-notes.html#deprecations\n",
            "  # This is added back by InteractiveShellApp.init_path()\n"
          ]
        },
        {
          "output_type": "stream",
          "name": "stdout",
          "text": [
            "precision:  0.931\n",
            "recall:  0.987\n",
            "fscore:  0.958\n",
            "accuracy:  0.978\n",
            "Number of data:  1529\n",
            "--------------------------------------------------\n",
            "13/276:  /content/Resources/BEST_I_CORPUS/TrainingSet/LST20_train_prep/T11360_prep.txt\n",
            "precision:  0.985\n",
            "recall:  0.985\n",
            "fscore:  0.985\n",
            "accuracy:  0.991\n",
            "Number of data:  906\n",
            "--------------------------------------------------\n",
            "14/276:  /content/Resources/BEST_I_CORPUS/TrainingSet/LST20_train_prep/T10701_prep.txt\n"
          ]
        },
        {
          "output_type": "stream",
          "name": "stderr",
          "text": [
            "/usr/local/lib/python3.7/dist-packages/ipykernel_launcher.py:11: DeprecationWarning: `np.bool` is a deprecated alias for the builtin `bool`. To silence this warning, use `bool` by itself. Doing this will not modify any behavior and is safe. If you specifically wanted the numpy scalar type, use `np.bool_` here.\n",
            "Deprecated in NumPy 1.20; for more details and guidance: https://numpy.org/devdocs/release/1.20.0-notes.html#deprecations\n",
            "  # This is added back by InteractiveShellApp.init_path()\n",
            "/usr/local/lib/python3.7/dist-packages/ipykernel_launcher.py:11: DeprecationWarning: `np.bool` is a deprecated alias for the builtin `bool`. To silence this warning, use `bool` by itself. Doing this will not modify any behavior and is safe. If you specifically wanted the numpy scalar type, use `np.bool_` here.\n",
            "Deprecated in NumPy 1.20; for more details and guidance: https://numpy.org/devdocs/release/1.20.0-notes.html#deprecations\n",
            "  # This is added back by InteractiveShellApp.init_path()\n"
          ]
        },
        {
          "output_type": "stream",
          "name": "stdout",
          "text": [
            "precision:  0.949\n",
            "recall:  0.965\n",
            "fscore:  0.957\n",
            "accuracy:  0.974\n",
            "Number of data:  772\n",
            "--------------------------------------------------\n",
            "15/276:  /content/Resources/BEST_I_CORPUS/TrainingSet/LST20_train_prep/T10106_prep.txt\n"
          ]
        },
        {
          "output_type": "stream",
          "name": "stderr",
          "text": [
            "/usr/local/lib/python3.7/dist-packages/ipykernel_launcher.py:11: DeprecationWarning: `np.bool` is a deprecated alias for the builtin `bool`. To silence this warning, use `bool` by itself. Doing this will not modify any behavior and is safe. If you specifically wanted the numpy scalar type, use `np.bool_` here.\n",
            "Deprecated in NumPy 1.20; for more details and guidance: https://numpy.org/devdocs/release/1.20.0-notes.html#deprecations\n",
            "  # This is added back by InteractiveShellApp.init_path()\n"
          ]
        },
        {
          "output_type": "stream",
          "name": "stdout",
          "text": [
            "precision:  0.968\n",
            "recall:  0.977\n",
            "fscore:  0.973\n",
            "accuracy:  0.987\n",
            "Number of data:  1903\n",
            "--------------------------------------------------\n",
            "16/276:  /content/Resources/BEST_I_CORPUS/TrainingSet/LST20_train_prep/T01535_prep.txt\n"
          ]
        },
        {
          "output_type": "stream",
          "name": "stderr",
          "text": [
            "/usr/local/lib/python3.7/dist-packages/ipykernel_launcher.py:11: DeprecationWarning: `np.bool` is a deprecated alias for the builtin `bool`. To silence this warning, use `bool` by itself. Doing this will not modify any behavior and is safe. If you specifically wanted the numpy scalar type, use `np.bool_` here.\n",
            "Deprecated in NumPy 1.20; for more details and guidance: https://numpy.org/devdocs/release/1.20.0-notes.html#deprecations\n",
            "  # This is added back by InteractiveShellApp.init_path()\n"
          ]
        },
        {
          "output_type": "stream",
          "name": "stdout",
          "text": [
            "precision:  0.961\n",
            "recall:  0.97\n",
            "fscore:  0.966\n",
            "accuracy:  0.982\n",
            "Number of data:  10662\n",
            "--------------------------------------------------\n",
            "17/276:  /content/Resources/BEST_I_CORPUS/TrainingSet/LST20_train_prep/T11340_prep.txt\n",
            "precision:  0.978\n",
            "recall:  0.978\n",
            "fscore:  0.978\n",
            "accuracy:  0.989\n",
            "Number of data:  698\n",
            "--------------------------------------------------\n",
            "18/276:  /content/Resources/BEST_I_CORPUS/TrainingSet/novel/novel_00047.txt\n"
          ]
        },
        {
          "output_type": "stream",
          "name": "stderr",
          "text": [
            "/usr/local/lib/python3.7/dist-packages/ipykernel_launcher.py:11: DeprecationWarning: `np.bool` is a deprecated alias for the builtin `bool`. To silence this warning, use `bool` by itself. Doing this will not modify any behavior and is safe. If you specifically wanted the numpy scalar type, use `np.bool_` here.\n",
            "Deprecated in NumPy 1.20; for more details and guidance: https://numpy.org/devdocs/release/1.20.0-notes.html#deprecations\n",
            "  # This is added back by InteractiveShellApp.init_path()\n",
            "/usr/local/lib/python3.7/dist-packages/ipykernel_launcher.py:11: DeprecationWarning: `np.bool` is a deprecated alias for the builtin `bool`. To silence this warning, use `bool` by itself. Doing this will not modify any behavior and is safe. If you specifically wanted the numpy scalar type, use `np.bool_` here.\n",
            "Deprecated in NumPy 1.20; for more details and guidance: https://numpy.org/devdocs/release/1.20.0-notes.html#deprecations\n",
            "  # This is added back by InteractiveShellApp.init_path()\n"
          ]
        },
        {
          "output_type": "stream",
          "name": "stdout",
          "text": [
            "precision:  0.963\n",
            "recall:  0.967\n",
            "fscore:  0.965\n",
            "accuracy:  0.979\n",
            "Number of data:  34920\n",
            "--------------------------------------------------\n",
            "19/276:  /content/Resources/BEST_I_CORPUS/TrainingSet/LST20_eval_prep/T10854_prep.txt\n",
            "precision:  0.991\n",
            "recall:  0.926\n",
            "fscore:  0.958\n",
            "accuracy:  0.981\n",
            "Number of data:  1040\n",
            "--------------------------------------------------\n",
            "20/276:  /content/Resources/BEST_I_CORPUS/TrainingSet/LST20_train_prep/T11901_prep.txt\n"
          ]
        },
        {
          "output_type": "stream",
          "name": "stderr",
          "text": [
            "/usr/local/lib/python3.7/dist-packages/ipykernel_launcher.py:11: DeprecationWarning: `np.bool` is a deprecated alias for the builtin `bool`. To silence this warning, use `bool` by itself. Doing this will not modify any behavior and is safe. If you specifically wanted the numpy scalar type, use `np.bool_` here.\n",
            "Deprecated in NumPy 1.20; for more details and guidance: https://numpy.org/devdocs/release/1.20.0-notes.html#deprecations\n",
            "  # This is added back by InteractiveShellApp.init_path()\n",
            "/usr/local/lib/python3.7/dist-packages/ipykernel_launcher.py:11: DeprecationWarning: `np.bool` is a deprecated alias for the builtin `bool`. To silence this warning, use `bool` by itself. Doing this will not modify any behavior and is safe. If you specifically wanted the numpy scalar type, use `np.bool_` here.\n",
            "Deprecated in NumPy 1.20; for more details and guidance: https://numpy.org/devdocs/release/1.20.0-notes.html#deprecations\n",
            "  # This is added back by InteractiveShellApp.init_path()\n"
          ]
        },
        {
          "output_type": "stream",
          "name": "stdout",
          "text": [
            "precision:  0.971\n",
            "recall:  0.935\n",
            "fscore:  0.953\n",
            "accuracy:  0.979\n",
            "Number of data:  486\n",
            "--------------------------------------------------\n",
            "21/276:  /content/Resources/BEST_I_CORPUS/TrainingSet/LST20_train_prep/T12860_prep.txt\n",
            "precision:  0.977\n",
            "recall:  0.99\n",
            "fscore:  0.984\n",
            "accuracy:  0.991\n",
            "Number of data:  1145\n",
            "--------------------------------------------------\n",
            "22/276:  /content/Resources/BEST_I_CORPUS/TrainingSet/LST20_train_prep/T11439_prep.txt\n"
          ]
        },
        {
          "output_type": "stream",
          "name": "stderr",
          "text": [
            "/usr/local/lib/python3.7/dist-packages/ipykernel_launcher.py:11: DeprecationWarning: `np.bool` is a deprecated alias for the builtin `bool`. To silence this warning, use `bool` by itself. Doing this will not modify any behavior and is safe. If you specifically wanted the numpy scalar type, use `np.bool_` here.\n",
            "Deprecated in NumPy 1.20; for more details and guidance: https://numpy.org/devdocs/release/1.20.0-notes.html#deprecations\n",
            "  # This is added back by InteractiveShellApp.init_path()\n",
            "/usr/local/lib/python3.7/dist-packages/ipykernel_launcher.py:11: DeprecationWarning: `np.bool` is a deprecated alias for the builtin `bool`. To silence this warning, use `bool` by itself. Doing this will not modify any behavior and is safe. If you specifically wanted the numpy scalar type, use `np.bool_` here.\n",
            "Deprecated in NumPy 1.20; for more details and guidance: https://numpy.org/devdocs/release/1.20.0-notes.html#deprecations\n",
            "  # This is added back by InteractiveShellApp.init_path()\n"
          ]
        },
        {
          "output_type": "stream",
          "name": "stdout",
          "text": [
            "precision:  0.954\n",
            "recall:  0.978\n",
            "fscore:  0.966\n",
            "accuracy:  0.984\n",
            "Number of data:  1206\n",
            "--------------------------------------------------\n",
            "23/276:  /content/Resources/BEST_I_CORPUS/TrainingSet/LST20_train_prep/T00641_prep.txt\n"
          ]
        },
        {
          "output_type": "stream",
          "name": "stderr",
          "text": [
            "/usr/local/lib/python3.7/dist-packages/ipykernel_launcher.py:11: DeprecationWarning: `np.bool` is a deprecated alias for the builtin `bool`. To silence this warning, use `bool` by itself. Doing this will not modify any behavior and is safe. If you specifically wanted the numpy scalar type, use `np.bool_` here.\n",
            "Deprecated in NumPy 1.20; for more details and guidance: https://numpy.org/devdocs/release/1.20.0-notes.html#deprecations\n",
            "  # This is added back by InteractiveShellApp.init_path()\n"
          ]
        },
        {
          "output_type": "stream",
          "name": "stdout",
          "text": [
            "precision:  0.971\n",
            "recall:  0.964\n",
            "fscore:  0.968\n",
            "accuracy:  0.982\n",
            "Number of data:  4593\n",
            "--------------------------------------------------\n",
            "24/276:  /content/Resources/BEST_I_CORPUS/TrainingSet/article/article_00056.txt\n"
          ]
        },
        {
          "output_type": "stream",
          "name": "stderr",
          "text": [
            "/usr/local/lib/python3.7/dist-packages/ipykernel_launcher.py:11: DeprecationWarning: `np.bool` is a deprecated alias for the builtin `bool`. To silence this warning, use `bool` by itself. Doing this will not modify any behavior and is safe. If you specifically wanted the numpy scalar type, use `np.bool_` here.\n",
            "Deprecated in NumPy 1.20; for more details and guidance: https://numpy.org/devdocs/release/1.20.0-notes.html#deprecations\n",
            "  # This is added back by InteractiveShellApp.init_path()\n"
          ]
        },
        {
          "output_type": "stream",
          "name": "stdout",
          "text": [
            "precision:  0.947\n",
            "recall:  0.964\n",
            "fscore:  0.955\n",
            "accuracy:  0.975\n",
            "Number of data:  43700\n",
            "--------------------------------------------------\n",
            "25/276:  /content/Resources/BEST_I_CORPUS/TrainingSet/LST20_train_prep/T11233_prep.txt\n"
          ]
        },
        {
          "output_type": "stream",
          "name": "stderr",
          "text": [
            "/usr/local/lib/python3.7/dist-packages/ipykernel_launcher.py:11: DeprecationWarning: `np.bool` is a deprecated alias for the builtin `bool`. To silence this warning, use `bool` by itself. Doing this will not modify any behavior and is safe. If you specifically wanted the numpy scalar type, use `np.bool_` here.\n",
            "Deprecated in NumPy 1.20; for more details and guidance: https://numpy.org/devdocs/release/1.20.0-notes.html#deprecations\n",
            "  # This is added back by InteractiveShellApp.init_path()\n"
          ]
        },
        {
          "output_type": "stream",
          "name": "stdout",
          "text": [
            "precision:  0.972\n",
            "recall:  0.981\n",
            "fscore:  0.977\n",
            "accuracy:  0.989\n",
            "Number of data:  3638\n",
            "--------------------------------------------------\n",
            "26/276:  /content/Resources/BEST_I_CORPUS/TrainingSet/news/news_00094.txt\n"
          ]
        },
        {
          "output_type": "stream",
          "name": "stderr",
          "text": [
            "/usr/local/lib/python3.7/dist-packages/ipykernel_launcher.py:11: DeprecationWarning: `np.bool` is a deprecated alias for the builtin `bool`. To silence this warning, use `bool` by itself. Doing this will not modify any behavior and is safe. If you specifically wanted the numpy scalar type, use `np.bool_` here.\n",
            "Deprecated in NumPy 1.20; for more details and guidance: https://numpy.org/devdocs/release/1.20.0-notes.html#deprecations\n",
            "  # This is added back by InteractiveShellApp.init_path()\n"
          ]
        },
        {
          "output_type": "stream",
          "name": "stdout",
          "text": [
            "precision:  0.94\n",
            "recall:  0.952\n",
            "fscore:  0.946\n",
            "accuracy:  0.971\n",
            "Number of data:  64490\n",
            "--------------------------------------------------\n",
            "27/276:  /content/Resources/BEST_I_CORPUS/TrainingSet/LST20_train_prep/T00976_prep.txt\n",
            "precision:  0.981\n",
            "recall:  0.996\n",
            "fscore:  0.989\n",
            "accuracy:  0.994\n",
            "Number of data:  1084\n",
            "--------------------------------------------------\n",
            "28/276:  /content/Resources/BEST_I_CORPUS/TrainingSet/LST20_train_prep/T10671_prep.txt\n"
          ]
        },
        {
          "output_type": "stream",
          "name": "stderr",
          "text": [
            "/usr/local/lib/python3.7/dist-packages/ipykernel_launcher.py:11: DeprecationWarning: `np.bool` is a deprecated alias for the builtin `bool`. To silence this warning, use `bool` by itself. Doing this will not modify any behavior and is safe. If you specifically wanted the numpy scalar type, use `np.bool_` here.\n",
            "Deprecated in NumPy 1.20; for more details and guidance: https://numpy.org/devdocs/release/1.20.0-notes.html#deprecations\n",
            "  # This is added back by InteractiveShellApp.init_path()\n",
            "/usr/local/lib/python3.7/dist-packages/ipykernel_launcher.py:11: DeprecationWarning: `np.bool` is a deprecated alias for the builtin `bool`. To silence this warning, use `bool` by itself. Doing this will not modify any behavior and is safe. If you specifically wanted the numpy scalar type, use `np.bool_` here.\n",
            "Deprecated in NumPy 1.20; for more details and guidance: https://numpy.org/devdocs/release/1.20.0-notes.html#deprecations\n",
            "  # This is added back by InteractiveShellApp.init_path()\n"
          ]
        },
        {
          "output_type": "stream",
          "name": "stdout",
          "text": [
            "precision:  0.966\n",
            "recall:  0.981\n",
            "fscore:  0.973\n",
            "accuracy:  0.984\n",
            "Number of data:  863\n",
            "--------------------------------------------------\n",
            "29/276:  /content/Resources/BEST_I_CORPUS/TrainingSet/LST20_train_prep/T12822_prep.txt\n",
            "precision:  0.96\n",
            "recall:  0.984\n",
            "fscore:  0.972\n",
            "accuracy:  0.986\n",
            "Number of data:  991\n",
            "--------------------------------------------------\n",
            "30/276:  /content/Resources/BEST_I_CORPUS/TrainingSet/LST20_train_prep/T11334_prep.txt\n"
          ]
        },
        {
          "output_type": "stream",
          "name": "stderr",
          "text": [
            "/usr/local/lib/python3.7/dist-packages/ipykernel_launcher.py:11: DeprecationWarning: `np.bool` is a deprecated alias for the builtin `bool`. To silence this warning, use `bool` by itself. Doing this will not modify any behavior and is safe. If you specifically wanted the numpy scalar type, use `np.bool_` here.\n",
            "Deprecated in NumPy 1.20; for more details and guidance: https://numpy.org/devdocs/release/1.20.0-notes.html#deprecations\n",
            "  # This is added back by InteractiveShellApp.init_path()\n",
            "/usr/local/lib/python3.7/dist-packages/ipykernel_launcher.py:11: DeprecationWarning: `np.bool` is a deprecated alias for the builtin `bool`. To silence this warning, use `bool` by itself. Doing this will not modify any behavior and is safe. If you specifically wanted the numpy scalar type, use `np.bool_` here.\n",
            "Deprecated in NumPy 1.20; for more details and guidance: https://numpy.org/devdocs/release/1.20.0-notes.html#deprecations\n",
            "  # This is added back by InteractiveShellApp.init_path()\n"
          ]
        },
        {
          "output_type": "stream",
          "name": "stdout",
          "text": [
            "precision:  0.984\n",
            "recall:  0.984\n",
            "fscore:  0.984\n",
            "accuracy:  0.99\n",
            "Number of data:  1951\n",
            "--------------------------------------------------\n",
            "31/276:  /content/Resources/BEST_I_CORPUS/TrainingSet/article/article_00180.txt\n"
          ]
        },
        {
          "output_type": "stream",
          "name": "stderr",
          "text": [
            "/usr/local/lib/python3.7/dist-packages/ipykernel_launcher.py:11: DeprecationWarning: `np.bool` is a deprecated alias for the builtin `bool`. To silence this warning, use `bool` by itself. Doing this will not modify any behavior and is safe. If you specifically wanted the numpy scalar type, use `np.bool_` here.\n",
            "Deprecated in NumPy 1.20; for more details and guidance: https://numpy.org/devdocs/release/1.20.0-notes.html#deprecations\n",
            "  # This is added back by InteractiveShellApp.init_path()\n"
          ]
        },
        {
          "output_type": "stream",
          "name": "stdout",
          "text": [
            "precision:  0.976\n",
            "recall:  0.966\n",
            "fscore:  0.971\n",
            "accuracy:  0.984\n",
            "Number of data:  7379\n",
            "--------------------------------------------------\n",
            "32/276:  /content/Resources/BEST_I_CORPUS/TrainingSet/LST20_train_prep/T10764_prep.txt\n",
            "precision:  0.99\n"
          ]
        },
        {
          "output_type": "stream",
          "name": "stderr",
          "text": [
            "/usr/local/lib/python3.7/dist-packages/ipykernel_launcher.py:11: DeprecationWarning: `np.bool` is a deprecated alias for the builtin `bool`. To silence this warning, use `bool` by itself. Doing this will not modify any behavior and is safe. If you specifically wanted the numpy scalar type, use `np.bool_` here.\n",
            "Deprecated in NumPy 1.20; for more details and guidance: https://numpy.org/devdocs/release/1.20.0-notes.html#deprecations\n",
            "  # This is added back by InteractiveShellApp.init_path()\n",
            "/usr/local/lib/python3.7/dist-packages/ipykernel_launcher.py:11: DeprecationWarning: `np.bool` is a deprecated alias for the builtin `bool`. To silence this warning, use `bool` by itself. Doing this will not modify any behavior and is safe. If you specifically wanted the numpy scalar type, use `np.bool_` here.\n",
            "Deprecated in NumPy 1.20; for more details and guidance: https://numpy.org/devdocs/release/1.20.0-notes.html#deprecations\n",
            "  # This is added back by InteractiveShellApp.init_path()\n"
          ]
        },
        {
          "output_type": "stream",
          "name": "stdout",
          "text": [
            "recall:  0.979\n",
            "fscore:  0.985\n",
            "accuracy:  0.991\n",
            "Number of data:  1384\n",
            "--------------------------------------------------\n",
            "33/276:  /content/Resources/BEST_I_CORPUS/TrainingSet/LST20_train_prep/T00653_prep.txt\n",
            "precision:  0.974\n",
            "recall:  0.987\n",
            "fscore:  0.98\n",
            "accuracy:  0.991\n",
            "Number of data:  1294\n",
            "--------------------------------------------------\n",
            "34/276:  /content/Resources/BEST_I_CORPUS/TrainingSet/LST20_train_prep/T00273_prep.txt\n"
          ]
        },
        {
          "output_type": "stream",
          "name": "stderr",
          "text": [
            "/usr/local/lib/python3.7/dist-packages/ipykernel_launcher.py:11: DeprecationWarning: `np.bool` is a deprecated alias for the builtin `bool`. To silence this warning, use `bool` by itself. Doing this will not modify any behavior and is safe. If you specifically wanted the numpy scalar type, use `np.bool_` here.\n",
            "Deprecated in NumPy 1.20; for more details and guidance: https://numpy.org/devdocs/release/1.20.0-notes.html#deprecations\n",
            "  # This is added back by InteractiveShellApp.init_path()\n",
            "/usr/local/lib/python3.7/dist-packages/ipykernel_launcher.py:11: DeprecationWarning: `np.bool` is a deprecated alias for the builtin `bool`. To silence this warning, use `bool` by itself. Doing this will not modify any behavior and is safe. If you specifically wanted the numpy scalar type, use `np.bool_` here.\n",
            "Deprecated in NumPy 1.20; for more details and guidance: https://numpy.org/devdocs/release/1.20.0-notes.html#deprecations\n",
            "  # This is added back by InteractiveShellApp.init_path()\n"
          ]
        },
        {
          "output_type": "stream",
          "name": "stdout",
          "text": [
            "precision:  0.961\n",
            "recall:  0.97\n",
            "fscore:  0.966\n",
            "accuracy:  0.982\n",
            "Number of data:  1170\n",
            "--------------------------------------------------\n",
            "35/276:  /content/Resources/BEST_I_CORPUS/TrainingSet/LST20_train_prep/T11475_prep.txt\n",
            "precision:  0.975\n",
            "recall:  0.993\n",
            "fscore:  0.984\n",
            "accuracy:  0.991\n",
            "Number of data:  1025\n",
            "--------------------------------------------------\n",
            "36/276:  /content/Resources/BEST_I_CORPUS/TrainingSet/LST20_train_prep/T12950_prep.txt\n"
          ]
        },
        {
          "output_type": "stream",
          "name": "stderr",
          "text": [
            "/usr/local/lib/python3.7/dist-packages/ipykernel_launcher.py:11: DeprecationWarning: `np.bool` is a deprecated alias for the builtin `bool`. To silence this warning, use `bool` by itself. Doing this will not modify any behavior and is safe. If you specifically wanted the numpy scalar type, use `np.bool_` here.\n",
            "Deprecated in NumPy 1.20; for more details and guidance: https://numpy.org/devdocs/release/1.20.0-notes.html#deprecations\n",
            "  # This is added back by InteractiveShellApp.init_path()\n",
            "/usr/local/lib/python3.7/dist-packages/ipykernel_launcher.py:11: DeprecationWarning: `np.bool` is a deprecated alias for the builtin `bool`. To silence this warning, use `bool` by itself. Doing this will not modify any behavior and is safe. If you specifically wanted the numpy scalar type, use `np.bool_` here.\n",
            "Deprecated in NumPy 1.20; for more details and guidance: https://numpy.org/devdocs/release/1.20.0-notes.html#deprecations\n",
            "  # This is added back by InteractiveShellApp.init_path()\n"
          ]
        },
        {
          "output_type": "stream",
          "name": "stdout",
          "text": [
            "precision:  0.986\n",
            "recall:  0.993\n",
            "fscore:  0.989\n",
            "accuracy:  0.995\n",
            "Number of data:  1105\n",
            "--------------------------------------------------\n",
            "37/276:  /content/Resources/BEST_I_CORPUS/TrainingSet/LST20_eval_prep/T13189_prep.txt\n",
            "precision:  0.989\n",
            "recall:  0.994\n",
            "fscore:  0.992\n",
            "accuracy:  0.995\n",
            "Number of data:  1970\n",
            "--------------------------------------------------\n",
            "38/276:  /content/Resources/BEST_I_CORPUS/TrainingSet/LST20_train_prep/T00751_prep.txt\n"
          ]
        },
        {
          "output_type": "stream",
          "name": "stderr",
          "text": [
            "/usr/local/lib/python3.7/dist-packages/ipykernel_launcher.py:11: DeprecationWarning: `np.bool` is a deprecated alias for the builtin `bool`. To silence this warning, use `bool` by itself. Doing this will not modify any behavior and is safe. If you specifically wanted the numpy scalar type, use `np.bool_` here.\n",
            "Deprecated in NumPy 1.20; for more details and guidance: https://numpy.org/devdocs/release/1.20.0-notes.html#deprecations\n",
            "  # This is added back by InteractiveShellApp.init_path()\n"
          ]
        },
        {
          "output_type": "stream",
          "name": "stdout",
          "text": [
            "precision:  0.968\n",
            "recall:  0.948\n",
            "fscore:  0.958\n",
            "accuracy:  0.978\n",
            "Number of data:  9566\n",
            "--------------------------------------------------\n",
            "39/276:  /content/Resources/BEST_I_CORPUS/TrainingSet/LST20_test_prep/T12318_prep.txt\n",
            "precision:  0.975\n",
            "recall:  0.98\n",
            "fscore:  0.978\n",
            "accuracy:  0.987\n",
            "Number of data:  705\n",
            "--------------------------------------------------\n",
            "40/276:  /content/Resources/BEST_I_CORPUS/TrainingSet/LST20_test_prep/T13379_prep.txt\n"
          ]
        },
        {
          "output_type": "stream",
          "name": "stderr",
          "text": [
            "/usr/local/lib/python3.7/dist-packages/ipykernel_launcher.py:11: DeprecationWarning: `np.bool` is a deprecated alias for the builtin `bool`. To silence this warning, use `bool` by itself. Doing this will not modify any behavior and is safe. If you specifically wanted the numpy scalar type, use `np.bool_` here.\n",
            "Deprecated in NumPy 1.20; for more details and guidance: https://numpy.org/devdocs/release/1.20.0-notes.html#deprecations\n",
            "  # This is added back by InteractiveShellApp.init_path()\n",
            "/usr/local/lib/python3.7/dist-packages/ipykernel_launcher.py:11: DeprecationWarning: `np.bool` is a deprecated alias for the builtin `bool`. To silence this warning, use `bool` by itself. Doing this will not modify any behavior and is safe. If you specifically wanted the numpy scalar type, use `np.bool_` here.\n",
            "Deprecated in NumPy 1.20; for more details and guidance: https://numpy.org/devdocs/release/1.20.0-notes.html#deprecations\n",
            "  # This is added back by InteractiveShellApp.init_path()\n"
          ]
        },
        {
          "output_type": "stream",
          "name": "stdout",
          "text": [
            "precision:  0.98\n",
            "recall:  0.973\n",
            "fscore:  0.976\n",
            "accuracy:  0.987\n",
            "Number of data:  1070\n",
            "--------------------------------------------------\n",
            "41/276:  /content/Resources/BEST_I_CORPUS/TrainingSet/LST20_train_prep/T12082_prep.txt\n"
          ]
        },
        {
          "output_type": "stream",
          "name": "stderr",
          "text": [
            "/usr/local/lib/python3.7/dist-packages/ipykernel_launcher.py:11: DeprecationWarning: `np.bool` is a deprecated alias for the builtin `bool`. To silence this warning, use `bool` by itself. Doing this will not modify any behavior and is safe. If you specifically wanted the numpy scalar type, use `np.bool_` here.\n",
            "Deprecated in NumPy 1.20; for more details and guidance: https://numpy.org/devdocs/release/1.20.0-notes.html#deprecations\n",
            "  # This is added back by InteractiveShellApp.init_path()\n"
          ]
        },
        {
          "output_type": "stream",
          "name": "stdout",
          "text": [
            "precision:  0.955\n",
            "recall:  0.983\n",
            "fscore:  0.969\n",
            "accuracy:  0.982\n",
            "Number of data:  2560\n",
            "--------------------------------------------------\n",
            "42/276:  /content/Resources/BEST_I_CORPUS/TrainingSet/LST20_train_prep/T10688_prep.txt\n"
          ]
        },
        {
          "output_type": "stream",
          "name": "stderr",
          "text": [
            "/usr/local/lib/python3.7/dist-packages/ipykernel_launcher.py:11: DeprecationWarning: `np.bool` is a deprecated alias for the builtin `bool`. To silence this warning, use `bool` by itself. Doing this will not modify any behavior and is safe. If you specifically wanted the numpy scalar type, use `np.bool_` here.\n",
            "Deprecated in NumPy 1.20; for more details and guidance: https://numpy.org/devdocs/release/1.20.0-notes.html#deprecations\n",
            "  # This is added back by InteractiveShellApp.init_path()\n"
          ]
        },
        {
          "output_type": "stream",
          "name": "stdout",
          "text": [
            "precision:  0.968\n",
            "recall:  0.971\n",
            "fscore:  0.97\n",
            "accuracy:  0.986\n",
            "Number of data:  2496\n",
            "--------------------------------------------------\n",
            "43/276:  /content/Resources/BEST_I_CORPUS/TrainingSet/LST20_train_prep/T10186_prep.txt\n"
          ]
        },
        {
          "output_type": "stream",
          "name": "stderr",
          "text": [
            "/usr/local/lib/python3.7/dist-packages/ipykernel_launcher.py:11: DeprecationWarning: `np.bool` is a deprecated alias for the builtin `bool`. To silence this warning, use `bool` by itself. Doing this will not modify any behavior and is safe. If you specifically wanted the numpy scalar type, use `np.bool_` here.\n",
            "Deprecated in NumPy 1.20; for more details and guidance: https://numpy.org/devdocs/release/1.20.0-notes.html#deprecations\n",
            "  # This is added back by InteractiveShellApp.init_path()\n"
          ]
        },
        {
          "output_type": "stream",
          "name": "stdout",
          "text": [
            "precision:  0.967\n",
            "recall:  0.974\n",
            "fscore:  0.97\n",
            "accuracy:  0.985\n",
            "Number of data:  1790\n",
            "--------------------------------------------------\n",
            "44/276:  /content/Resources/BEST_I_CORPUS/TrainingSet/news/news_00054.txt\n"
          ]
        },
        {
          "output_type": "stream",
          "name": "stderr",
          "text": [
            "/usr/local/lib/python3.7/dist-packages/ipykernel_launcher.py:11: DeprecationWarning: `np.bool` is a deprecated alias for the builtin `bool`. To silence this warning, use `bool` by itself. Doing this will not modify any behavior and is safe. If you specifically wanted the numpy scalar type, use `np.bool_` here.\n",
            "Deprecated in NumPy 1.20; for more details and guidance: https://numpy.org/devdocs/release/1.20.0-notes.html#deprecations\n",
            "  # This is added back by InteractiveShellApp.init_path()\n"
          ]
        },
        {
          "output_type": "stream",
          "name": "stdout",
          "text": [
            "precision:  0.933\n",
            "recall:  0.953\n",
            "fscore:  0.943\n",
            "accuracy:  0.97\n",
            "Number of data:  62771\n",
            "--------------------------------------------------\n",
            "45/276:  /content/Resources/BEST_I_CORPUS/TrainingSet/LST20_train_prep/T01338_prep.txt\n"
          ]
        },
        {
          "output_type": "stream",
          "name": "stderr",
          "text": [
            "/usr/local/lib/python3.7/dist-packages/ipykernel_launcher.py:11: DeprecationWarning: `np.bool` is a deprecated alias for the builtin `bool`. To silence this warning, use `bool` by itself. Doing this will not modify any behavior and is safe. If you specifically wanted the numpy scalar type, use `np.bool_` here.\n",
            "Deprecated in NumPy 1.20; for more details and guidance: https://numpy.org/devdocs/release/1.20.0-notes.html#deprecations\n",
            "  # This is added back by InteractiveShellApp.init_path()\n"
          ]
        },
        {
          "output_type": "stream",
          "name": "stdout",
          "text": [
            "precision:  0.971\n",
            "recall:  0.983\n",
            "fscore:  0.977\n",
            "accuracy:  0.985\n",
            "Number of data:  2479\n",
            "--------------------------------------------------\n",
            "46/276:  /content/Resources/BEST_I_CORPUS/TrainingSet/LST20_train_prep/T10131_prep.txt\n"
          ]
        },
        {
          "output_type": "stream",
          "name": "stderr",
          "text": [
            "/usr/local/lib/python3.7/dist-packages/ipykernel_launcher.py:11: DeprecationWarning: `np.bool` is a deprecated alias for the builtin `bool`. To silence this warning, use `bool` by itself. Doing this will not modify any behavior and is safe. If you specifically wanted the numpy scalar type, use `np.bool_` here.\n",
            "Deprecated in NumPy 1.20; for more details and guidance: https://numpy.org/devdocs/release/1.20.0-notes.html#deprecations\n",
            "  # This is added back by InteractiveShellApp.init_path()\n"
          ]
        },
        {
          "output_type": "stream",
          "name": "stdout",
          "text": [
            "precision:  0.965\n",
            "recall:  0.985\n",
            "fscore:  0.975\n",
            "accuracy:  0.984\n",
            "Number of data:  2455\n",
            "--------------------------------------------------\n",
            "47/276:  /content/Resources/BEST_I_CORPUS/TrainingSet/LST20_eval_prep/T12084_prep.txt\n",
            "precision:  0.961\n",
            "recall:  0.996\n",
            "fscore:  0.978\n",
            "accuracy:  0.987\n",
            "Number of data:  956\n",
            "--------------------------------------------------\n",
            "48/276:  /content/Resources/BEST_I_CORPUS/TrainingSet/LST20_train_prep/T01692_prep.txt\n"
          ]
        },
        {
          "output_type": "stream",
          "name": "stderr",
          "text": [
            "/usr/local/lib/python3.7/dist-packages/ipykernel_launcher.py:11: DeprecationWarning: `np.bool` is a deprecated alias for the builtin `bool`. To silence this warning, use `bool` by itself. Doing this will not modify any behavior and is safe. If you specifically wanted the numpy scalar type, use `np.bool_` here.\n",
            "Deprecated in NumPy 1.20; for more details and guidance: https://numpy.org/devdocs/release/1.20.0-notes.html#deprecations\n",
            "  # This is added back by InteractiveShellApp.init_path()\n",
            "/usr/local/lib/python3.7/dist-packages/ipykernel_launcher.py:11: DeprecationWarning: `np.bool` is a deprecated alias for the builtin `bool`. To silence this warning, use `bool` by itself. Doing this will not modify any behavior and is safe. If you specifically wanted the numpy scalar type, use `np.bool_` here.\n",
            "Deprecated in NumPy 1.20; for more details and guidance: https://numpy.org/devdocs/release/1.20.0-notes.html#deprecations\n",
            "  # This is added back by InteractiveShellApp.init_path()\n"
          ]
        },
        {
          "output_type": "stream",
          "name": "stdout",
          "text": [
            "precision:  0.98\n",
            "recall:  0.982\n",
            "fscore:  0.981\n",
            "accuracy:  0.99\n",
            "Number of data:  2376\n",
            "--------------------------------------------------\n",
            "49/276:  /content/Resources/BEST_I_CORPUS/TrainingSet/LST20_eval_prep/T12206_prep.txt\n",
            "precision:  0.977\n",
            "recall:  0.983\n",
            "fscore:  0.98\n",
            "accuracy:  0.988\n",
            "Number of data:  602\n",
            "--------------------------------------------------\n",
            "50/276:  /content/Resources/BEST_I_CORPUS/TrainingSet/LST20_train_prep/T10278_prep.txt\n"
          ]
        },
        {
          "output_type": "stream",
          "name": "stderr",
          "text": [
            "/usr/local/lib/python3.7/dist-packages/ipykernel_launcher.py:11: DeprecationWarning: `np.bool` is a deprecated alias for the builtin `bool`. To silence this warning, use `bool` by itself. Doing this will not modify any behavior and is safe. If you specifically wanted the numpy scalar type, use `np.bool_` here.\n",
            "Deprecated in NumPy 1.20; for more details and guidance: https://numpy.org/devdocs/release/1.20.0-notes.html#deprecations\n",
            "  # This is added back by InteractiveShellApp.init_path()\n",
            "/usr/local/lib/python3.7/dist-packages/ipykernel_launcher.py:11: DeprecationWarning: `np.bool` is a deprecated alias for the builtin `bool`. To silence this warning, use `bool` by itself. Doing this will not modify any behavior and is safe. If you specifically wanted the numpy scalar type, use `np.bool_` here.\n",
            "Deprecated in NumPy 1.20; for more details and guidance: https://numpy.org/devdocs/release/1.20.0-notes.html#deprecations\n",
            "  # This is added back by InteractiveShellApp.init_path()\n"
          ]
        },
        {
          "output_type": "stream",
          "name": "stdout",
          "text": [
            "precision:  0.967\n",
            "recall:  0.979\n",
            "fscore:  0.973\n",
            "accuracy:  0.986\n",
            "Number of data:  1308\n",
            "--------------------------------------------------\n",
            "51/276:  /content/Resources/BEST_I_CORPUS/TrainingSet/LST20_train_prep/T00617_prep.txt\n"
          ]
        },
        {
          "output_type": "stream",
          "name": "stderr",
          "text": [
            "/usr/local/lib/python3.7/dist-packages/ipykernel_launcher.py:11: DeprecationWarning: `np.bool` is a deprecated alias for the builtin `bool`. To silence this warning, use `bool` by itself. Doing this will not modify any behavior and is safe. If you specifically wanted the numpy scalar type, use `np.bool_` here.\n",
            "Deprecated in NumPy 1.20; for more details and guidance: https://numpy.org/devdocs/release/1.20.0-notes.html#deprecations\n",
            "  # This is added back by InteractiveShellApp.init_path()\n"
          ]
        },
        {
          "output_type": "stream",
          "name": "stdout",
          "text": [
            "precision:  0.958\n",
            "recall:  0.958\n",
            "fscore:  0.958\n",
            "accuracy:  0.976\n",
            "Number of data:  4413\n",
            "--------------------------------------------------\n",
            "52/276:  /content/Resources/BEST_I_CORPUS/TrainingSet/LST20_train_prep/T01414_prep.txt\n"
          ]
        },
        {
          "output_type": "stream",
          "name": "stderr",
          "text": [
            "/usr/local/lib/python3.7/dist-packages/ipykernel_launcher.py:11: DeprecationWarning: `np.bool` is a deprecated alias for the builtin `bool`. To silence this warning, use `bool` by itself. Doing this will not modify any behavior and is safe. If you specifically wanted the numpy scalar type, use `np.bool_` here.\n",
            "Deprecated in NumPy 1.20; for more details and guidance: https://numpy.org/devdocs/release/1.20.0-notes.html#deprecations\n",
            "  # This is added back by InteractiveShellApp.init_path()\n"
          ]
        },
        {
          "output_type": "stream",
          "name": "stdout",
          "text": [
            "precision:  0.958\n",
            "recall:  0.985\n",
            "fscore:  0.971\n",
            "accuracy:  0.985\n",
            "Number of data:  4665\n",
            "--------------------------------------------------\n",
            "53/276:  /content/Resources/BEST_I_CORPUS/TrainingSet/LST20_train_prep/T11991_prep.txt\n"
          ]
        },
        {
          "output_type": "stream",
          "name": "stderr",
          "text": [
            "/usr/local/lib/python3.7/dist-packages/ipykernel_launcher.py:11: DeprecationWarning: `np.bool` is a deprecated alias for the builtin `bool`. To silence this warning, use `bool` by itself. Doing this will not modify any behavior and is safe. If you specifically wanted the numpy scalar type, use `np.bool_` here.\n",
            "Deprecated in NumPy 1.20; for more details and guidance: https://numpy.org/devdocs/release/1.20.0-notes.html#deprecations\n",
            "  # This is added back by InteractiveShellApp.init_path()\n"
          ]
        },
        {
          "output_type": "stream",
          "name": "stdout",
          "text": [
            "precision:  0.968\n",
            "recall:  0.986\n",
            "fscore:  0.977\n",
            "accuracy:  0.988\n",
            "Number of data:  2756\n",
            "--------------------------------------------------\n",
            "54/276:  /content/Resources/BEST_I_CORPUS/TrainingSet/LST20_eval_prep/T11389_prep.txt\n"
          ]
        },
        {
          "output_type": "stream",
          "name": "stderr",
          "text": [
            "/usr/local/lib/python3.7/dist-packages/ipykernel_launcher.py:11: DeprecationWarning: `np.bool` is a deprecated alias for the builtin `bool`. To silence this warning, use `bool` by itself. Doing this will not modify any behavior and is safe. If you specifically wanted the numpy scalar type, use `np.bool_` here.\n",
            "Deprecated in NumPy 1.20; for more details and guidance: https://numpy.org/devdocs/release/1.20.0-notes.html#deprecations\n",
            "  # This is added back by InteractiveShellApp.init_path()\n"
          ]
        },
        {
          "output_type": "stream",
          "name": "stdout",
          "text": [
            "precision:  0.966\n",
            "recall:  0.976\n",
            "fscore:  0.971\n",
            "accuracy:  0.987\n",
            "Number of data:  1754\n",
            "--------------------------------------------------\n",
            "55/276:  /content/Resources/BEST_I_CORPUS/TrainingSet/LST20_train_prep/T10268_prep.txt\n"
          ]
        },
        {
          "output_type": "stream",
          "name": "stderr",
          "text": [
            "/usr/local/lib/python3.7/dist-packages/ipykernel_launcher.py:11: DeprecationWarning: `np.bool` is a deprecated alias for the builtin `bool`. To silence this warning, use `bool` by itself. Doing this will not modify any behavior and is safe. If you specifically wanted the numpy scalar type, use `np.bool_` here.\n",
            "Deprecated in NumPy 1.20; for more details and guidance: https://numpy.org/devdocs/release/1.20.0-notes.html#deprecations\n",
            "  # This is added back by InteractiveShellApp.init_path()\n"
          ]
        },
        {
          "output_type": "stream",
          "name": "stdout",
          "text": [
            "precision:  0.923\n",
            "recall:  0.99\n",
            "fscore:  0.955\n",
            "accuracy:  0.973\n",
            "Number of data:  1721\n",
            "--------------------------------------------------\n",
            "56/276:  /content/Resources/BEST_I_CORPUS/TrainingSet/article/article_00135.txt\n"
          ]
        },
        {
          "output_type": "stream",
          "name": "stderr",
          "text": [
            "/usr/local/lib/python3.7/dist-packages/ipykernel_launcher.py:11: DeprecationWarning: `np.bool` is a deprecated alias for the builtin `bool`. To silence this warning, use `bool` by itself. Doing this will not modify any behavior and is safe. If you specifically wanted the numpy scalar type, use `np.bool_` here.\n",
            "Deprecated in NumPy 1.20; for more details and guidance: https://numpy.org/devdocs/release/1.20.0-notes.html#deprecations\n",
            "  # This is added back by InteractiveShellApp.init_path()\n"
          ]
        },
        {
          "output_type": "stream",
          "name": "stdout",
          "text": [
            "precision:  0.978\n",
            "recall:  0.969\n",
            "fscore:  0.973\n",
            "accuracy:  0.985\n",
            "Number of data:  18018\n",
            "--------------------------------------------------\n",
            "57/276:  /content/Resources/BEST_I_CORPUS/TrainingSet/LST20_train_prep/T10680_prep.txt\n"
          ]
        },
        {
          "output_type": "stream",
          "name": "stderr",
          "text": [
            "/usr/local/lib/python3.7/dist-packages/ipykernel_launcher.py:11: DeprecationWarning: `np.bool` is a deprecated alias for the builtin `bool`. To silence this warning, use `bool` by itself. Doing this will not modify any behavior and is safe. If you specifically wanted the numpy scalar type, use `np.bool_` here.\n",
            "Deprecated in NumPy 1.20; for more details and guidance: https://numpy.org/devdocs/release/1.20.0-notes.html#deprecations\n",
            "  # This is added back by InteractiveShellApp.init_path()\n"
          ]
        },
        {
          "output_type": "stream",
          "name": "stdout",
          "text": [
            "precision:  0.941\n",
            "recall:  0.988\n",
            "fscore:  0.964\n",
            "accuracy:  0.982\n",
            "Number of data:  1684\n",
            "--------------------------------------------------\n",
            "58/276:  /content/Resources/BEST_I_CORPUS/TrainingSet/LST20_train_prep/T13030_prep.txt\n",
            "precision:  0.983\n",
            "recall:  0.992\n",
            "fscore:  0.987\n",
            "accuracy:  0.993\n",
            "Number of data:  1334\n",
            "--------------------------------------------------\n",
            "59/276:  /content/Resources/BEST_I_CORPUS/TrainingSet/LST20_train_prep/T11609_prep.txt\n"
          ]
        },
        {
          "output_type": "stream",
          "name": "stderr",
          "text": [
            "/usr/local/lib/python3.7/dist-packages/ipykernel_launcher.py:11: DeprecationWarning: `np.bool` is a deprecated alias for the builtin `bool`. To silence this warning, use `bool` by itself. Doing this will not modify any behavior and is safe. If you specifically wanted the numpy scalar type, use `np.bool_` here.\n",
            "Deprecated in NumPy 1.20; for more details and guidance: https://numpy.org/devdocs/release/1.20.0-notes.html#deprecations\n",
            "  # This is added back by InteractiveShellApp.init_path()\n",
            "/usr/local/lib/python3.7/dist-packages/ipykernel_launcher.py:11: DeprecationWarning: `np.bool` is a deprecated alias for the builtin `bool`. To silence this warning, use `bool` by itself. Doing this will not modify any behavior and is safe. If you specifically wanted the numpy scalar type, use `np.bool_` here.\n",
            "Deprecated in NumPy 1.20; for more details and guidance: https://numpy.org/devdocs/release/1.20.0-notes.html#deprecations\n",
            "  # This is added back by InteractiveShellApp.init_path()\n"
          ]
        },
        {
          "output_type": "stream",
          "name": "stdout",
          "text": [
            "precision:  0.962\n",
            "recall:  0.971\n",
            "fscore:  0.966\n",
            "accuracy:  0.983\n",
            "Number of data:  1234\n",
            "--------------------------------------------------\n",
            "60/276:  /content/Resources/BEST_I_CORPUS/TrainingSet/LST20_train_prep/T13110_prep.txt\n",
            "precision:  0.993\n",
            "recall:  0.989\n",
            "fscore:  0.991\n",
            "accuracy:  0.996\n",
            "Number of data:  1153\n",
            "--------------------------------------------------\n",
            "61/276:  /content/Resources/BEST_I_CORPUS/TrainingSet/LST20_train_prep/T11619_prep.txt\n"
          ]
        },
        {
          "output_type": "stream",
          "name": "stderr",
          "text": [
            "/usr/local/lib/python3.7/dist-packages/ipykernel_launcher.py:11: DeprecationWarning: `np.bool` is a deprecated alias for the builtin `bool`. To silence this warning, use `bool` by itself. Doing this will not modify any behavior and is safe. If you specifically wanted the numpy scalar type, use `np.bool_` here.\n",
            "Deprecated in NumPy 1.20; for more details and guidance: https://numpy.org/devdocs/release/1.20.0-notes.html#deprecations\n",
            "  # This is added back by InteractiveShellApp.init_path()\n",
            "/usr/local/lib/python3.7/dist-packages/ipykernel_launcher.py:11: DeprecationWarning: `np.bool` is a deprecated alias for the builtin `bool`. To silence this warning, use `bool` by itself. Doing this will not modify any behavior and is safe. If you specifically wanted the numpy scalar type, use `np.bool_` here.\n",
            "Deprecated in NumPy 1.20; for more details and guidance: https://numpy.org/devdocs/release/1.20.0-notes.html#deprecations\n",
            "  # This is added back by InteractiveShellApp.init_path()\n"
          ]
        },
        {
          "output_type": "stream",
          "name": "stdout",
          "text": [
            "precision:  0.967\n",
            "recall:  0.953\n",
            "fscore:  0.96\n",
            "accuracy:  0.979\n",
            "Number of data:  796\n",
            "--------------------------------------------------\n",
            "62/276:  /content/Resources/BEST_I_CORPUS/TrainingSet/LST20_train_prep/T00844_prep.txt\n"
          ]
        },
        {
          "output_type": "stream",
          "name": "stderr",
          "text": [
            "/usr/local/lib/python3.7/dist-packages/ipykernel_launcher.py:11: DeprecationWarning: `np.bool` is a deprecated alias for the builtin `bool`. To silence this warning, use `bool` by itself. Doing this will not modify any behavior and is safe. If you specifically wanted the numpy scalar type, use `np.bool_` here.\n",
            "Deprecated in NumPy 1.20; for more details and guidance: https://numpy.org/devdocs/release/1.20.0-notes.html#deprecations\n",
            "  # This is added back by InteractiveShellApp.init_path()\n"
          ]
        },
        {
          "output_type": "stream",
          "name": "stdout",
          "text": [
            "precision:  0.969\n",
            "recall:  0.976\n",
            "fscore:  0.973\n",
            "accuracy:  0.984\n",
            "Number of data:  1869\n",
            "--------------------------------------------------\n",
            "63/276:  /content/Resources/BEST_I_CORPUS/TrainingSet/LST20_train_prep/T11101_prep.txt\n"
          ]
        },
        {
          "output_type": "stream",
          "name": "stderr",
          "text": [
            "/usr/local/lib/python3.7/dist-packages/ipykernel_launcher.py:11: DeprecationWarning: `np.bool` is a deprecated alias for the builtin `bool`. To silence this warning, use `bool` by itself. Doing this will not modify any behavior and is safe. If you specifically wanted the numpy scalar type, use `np.bool_` here.\n",
            "Deprecated in NumPy 1.20; for more details and guidance: https://numpy.org/devdocs/release/1.20.0-notes.html#deprecations\n",
            "  # This is added back by InteractiveShellApp.init_path()\n"
          ]
        },
        {
          "output_type": "stream",
          "name": "stdout",
          "text": [
            "precision:  0.965\n",
            "recall:  0.99\n",
            "fscore:  0.977\n",
            "accuracy:  0.988\n",
            "Number of data:  1502\n",
            "--------------------------------------------------\n",
            "64/276:  /content/Resources/BEST_I_CORPUS/TrainingSet/LST20_train_prep/T10400_prep.txt\n"
          ]
        },
        {
          "output_type": "stream",
          "name": "stderr",
          "text": [
            "/usr/local/lib/python3.7/dist-packages/ipykernel_launcher.py:11: DeprecationWarning: `np.bool` is a deprecated alias for the builtin `bool`. To silence this warning, use `bool` by itself. Doing this will not modify any behavior and is safe. If you specifically wanted the numpy scalar type, use `np.bool_` here.\n",
            "Deprecated in NumPy 1.20; for more details and guidance: https://numpy.org/devdocs/release/1.20.0-notes.html#deprecations\n",
            "  # This is added back by InteractiveShellApp.init_path()\n"
          ]
        },
        {
          "output_type": "stream",
          "name": "stdout",
          "text": [
            "precision:  0.966\n",
            "recall:  0.983\n",
            "fscore:  0.974\n",
            "accuracy:  0.985\n",
            "Number of data:  1599\n",
            "--------------------------------------------------\n",
            "65/276:  /content/Resources/BEST_I_CORPUS/TrainingSet/LST20_eval_prep/T12457_prep.txt\n",
            "precision:  0.986\n",
            "recall:  0.986\n",
            "fscore:  0.986\n",
            "accuracy:  0.993\n",
            "Number of data:  1157\n",
            "--------------------------------------------------\n",
            "66/276:  /content/Resources/BEST_I_CORPUS/TrainingSet/LST20_train_prep/T10409_prep.txt\n"
          ]
        },
        {
          "output_type": "stream",
          "name": "stderr",
          "text": [
            "/usr/local/lib/python3.7/dist-packages/ipykernel_launcher.py:11: DeprecationWarning: `np.bool` is a deprecated alias for the builtin `bool`. To silence this warning, use `bool` by itself. Doing this will not modify any behavior and is safe. If you specifically wanted the numpy scalar type, use `np.bool_` here.\n",
            "Deprecated in NumPy 1.20; for more details and guidance: https://numpy.org/devdocs/release/1.20.0-notes.html#deprecations\n",
            "  # This is added back by InteractiveShellApp.init_path()\n",
            "/usr/local/lib/python3.7/dist-packages/ipykernel_launcher.py:11: DeprecationWarning: `np.bool` is a deprecated alias for the builtin `bool`. To silence this warning, use `bool` by itself. Doing this will not modify any behavior and is safe. If you specifically wanted the numpy scalar type, use `np.bool_` here.\n",
            "Deprecated in NumPy 1.20; for more details and guidance: https://numpy.org/devdocs/release/1.20.0-notes.html#deprecations\n",
            "  # This is added back by InteractiveShellApp.init_path()\n"
          ]
        },
        {
          "output_type": "stream",
          "name": "stdout",
          "text": [
            "precision:  0.982\n",
            "recall:  0.995\n",
            "fscore:  0.988\n",
            "accuracy:  0.994\n",
            "Number of data:  1425\n",
            "--------------------------------------------------\n",
            "67/276:  /content/Resources/BEST_I_CORPUS/TrainingSet/LST20_train_prep/T01448_prep.txt\n",
            "precision:  0.961\n",
            "recall:  0.961\n",
            "fscore:  0.961\n",
            "accuracy:  0.981\n",
            "Number of data:  1262\n",
            "--------------------------------------------------\n",
            "68/276:  /content/Resources/BEST_I_CORPUS/TrainingSet/LST20_test_prep/T13366_prep.txt\n"
          ]
        },
        {
          "output_type": "stream",
          "name": "stderr",
          "text": [
            "/usr/local/lib/python3.7/dist-packages/ipykernel_launcher.py:11: DeprecationWarning: `np.bool` is a deprecated alias for the builtin `bool`. To silence this warning, use `bool` by itself. Doing this will not modify any behavior and is safe. If you specifically wanted the numpy scalar type, use `np.bool_` here.\n",
            "Deprecated in NumPy 1.20; for more details and guidance: https://numpy.org/devdocs/release/1.20.0-notes.html#deprecations\n",
            "  # This is added back by InteractiveShellApp.init_path()\n",
            "/usr/local/lib/python3.7/dist-packages/ipykernel_launcher.py:11: DeprecationWarning: `np.bool` is a deprecated alias for the builtin `bool`. To silence this warning, use `bool` by itself. Doing this will not modify any behavior and is safe. If you specifically wanted the numpy scalar type, use `np.bool_` here.\n",
            "Deprecated in NumPy 1.20; for more details and guidance: https://numpy.org/devdocs/release/1.20.0-notes.html#deprecations\n",
            "  # This is added back by InteractiveShellApp.init_path()\n"
          ]
        },
        {
          "output_type": "stream",
          "name": "stdout",
          "text": [
            "precision:  0.985\n",
            "recall:  0.991\n",
            "fscore:  0.988\n",
            "accuracy:  0.994\n",
            "Number of data:  1297\n",
            "--------------------------------------------------\n",
            "69/276:  /content/Resources/BEST_I_CORPUS/TrainingSet/LST20_train_prep/T10109_prep.txt\n",
            "precision:  0.981\n",
            "recall:  0.994\n",
            "fscore:  0.987\n",
            "accuracy:  0.994\n",
            "Number of data:  650\n",
            "--------------------------------------------------\n",
            "70/276:  /content/Resources/BEST_I_CORPUS/TrainingSet/LST20_train_prep/T10189_prep.txt\n"
          ]
        },
        {
          "output_type": "stream",
          "name": "stderr",
          "text": [
            "/usr/local/lib/python3.7/dist-packages/ipykernel_launcher.py:11: DeprecationWarning: `np.bool` is a deprecated alias for the builtin `bool`. To silence this warning, use `bool` by itself. Doing this will not modify any behavior and is safe. If you specifically wanted the numpy scalar type, use `np.bool_` here.\n",
            "Deprecated in NumPy 1.20; for more details and guidance: https://numpy.org/devdocs/release/1.20.0-notes.html#deprecations\n",
            "  # This is added back by InteractiveShellApp.init_path()\n",
            "/usr/local/lib/python3.7/dist-packages/ipykernel_launcher.py:11: DeprecationWarning: `np.bool` is a deprecated alias for the builtin `bool`. To silence this warning, use `bool` by itself. Doing this will not modify any behavior and is safe. If you specifically wanted the numpy scalar type, use `np.bool_` here.\n",
            "Deprecated in NumPy 1.20; for more details and guidance: https://numpy.org/devdocs/release/1.20.0-notes.html#deprecations\n",
            "  # This is added back by InteractiveShellApp.init_path()\n"
          ]
        },
        {
          "output_type": "stream",
          "name": "stdout",
          "text": [
            "precision:  0.975\n",
            "recall:  0.986\n",
            "fscore:  0.98\n",
            "accuracy:  0.99\n",
            "Number of data:  2388\n",
            "--------------------------------------------------\n",
            "71/276:  /content/Resources/BEST_I_CORPUS/TrainingSet/novel/novel_00048.txt\n"
          ]
        },
        {
          "output_type": "stream",
          "name": "stderr",
          "text": [
            "/usr/local/lib/python3.7/dist-packages/ipykernel_launcher.py:11: DeprecationWarning: `np.bool` is a deprecated alias for the builtin `bool`. To silence this warning, use `bool` by itself. Doing this will not modify any behavior and is safe. If you specifically wanted the numpy scalar type, use `np.bool_` here.\n",
            "Deprecated in NumPy 1.20; for more details and guidance: https://numpy.org/devdocs/release/1.20.0-notes.html#deprecations\n",
            "  # This is added back by InteractiveShellApp.init_path()\n"
          ]
        },
        {
          "output_type": "stream",
          "name": "stdout",
          "text": [
            "precision:  0.968\n",
            "recall:  0.97\n",
            "fscore:  0.969\n",
            "accuracy:  0.981\n",
            "Number of data:  36138\n",
            "--------------------------------------------------\n",
            "72/276:  /content/Resources/BEST_I_CORPUS/TrainingSet/LST20_train_prep/T10625_prep.txt\n",
            "precision:  0.968\n",
            "recall:  0.973\n",
            "fscore:  0.97\n",
            "accuracy:  0.986\n",
            "Number of data:  811\n",
            "--------------------------------------------------\n",
            "73/276:  /content/Resources/BEST_I_CORPUS/TrainingSet/LST20_train_prep/T11854_prep.txt\n"
          ]
        },
        {
          "output_type": "stream",
          "name": "stderr",
          "text": [
            "/usr/local/lib/python3.7/dist-packages/ipykernel_launcher.py:11: DeprecationWarning: `np.bool` is a deprecated alias for the builtin `bool`. To silence this warning, use `bool` by itself. Doing this will not modify any behavior and is safe. If you specifically wanted the numpy scalar type, use `np.bool_` here.\n",
            "Deprecated in NumPy 1.20; for more details and guidance: https://numpy.org/devdocs/release/1.20.0-notes.html#deprecations\n",
            "  # This is added back by InteractiveShellApp.init_path()\n",
            "/usr/local/lib/python3.7/dist-packages/ipykernel_launcher.py:11: DeprecationWarning: `np.bool` is a deprecated alias for the builtin `bool`. To silence this warning, use `bool` by itself. Doing this will not modify any behavior and is safe. If you specifically wanted the numpy scalar type, use `np.bool_` here.\n",
            "Deprecated in NumPy 1.20; for more details and guidance: https://numpy.org/devdocs/release/1.20.0-notes.html#deprecations\n",
            "  # This is added back by InteractiveShellApp.init_path()\n"
          ]
        },
        {
          "output_type": "stream",
          "name": "stdout",
          "text": [
            "precision:  0.977\n",
            "recall:  0.966\n",
            "fscore:  0.971\n",
            "accuracy:  0.985\n",
            "Number of data:  1342\n",
            "--------------------------------------------------\n",
            "74/276:  /content/Resources/BEST_I_CORPUS/TrainingSet/LST20_train_prep/T00350_prep.txt\n"
          ]
        },
        {
          "output_type": "stream",
          "name": "stderr",
          "text": [
            "/usr/local/lib/python3.7/dist-packages/ipykernel_launcher.py:11: DeprecationWarning: `np.bool` is a deprecated alias for the builtin `bool`. To silence this warning, use `bool` by itself. Doing this will not modify any behavior and is safe. If you specifically wanted the numpy scalar type, use `np.bool_` here.\n",
            "Deprecated in NumPy 1.20; for more details and guidance: https://numpy.org/devdocs/release/1.20.0-notes.html#deprecations\n",
            "  # This is added back by InteractiveShellApp.init_path()\n"
          ]
        },
        {
          "output_type": "stream",
          "name": "stdout",
          "text": [
            "precision:  0.959\n",
            "recall:  0.987\n",
            "fscore:  0.972\n",
            "accuracy:  0.985\n",
            "Number of data:  6519\n",
            "--------------------------------------------------\n",
            "75/276:  /content/Resources/BEST_I_CORPUS/TrainingSet/LST20_train_prep/T11552_prep.txt\n"
          ]
        },
        {
          "output_type": "stream",
          "name": "stderr",
          "text": [
            "/usr/local/lib/python3.7/dist-packages/ipykernel_launcher.py:11: DeprecationWarning: `np.bool` is a deprecated alias for the builtin `bool`. To silence this warning, use `bool` by itself. Doing this will not modify any behavior and is safe. If you specifically wanted the numpy scalar type, use `np.bool_` here.\n",
            "Deprecated in NumPy 1.20; for more details and guidance: https://numpy.org/devdocs/release/1.20.0-notes.html#deprecations\n",
            "  # This is added back by InteractiveShellApp.init_path()\n"
          ]
        },
        {
          "output_type": "stream",
          "name": "stdout",
          "text": [
            "precision:  0.98\n",
            "recall:  0.98\n",
            "fscore:  0.98\n",
            "accuracy:  0.989\n",
            "Number of data:  1888\n",
            "--------------------------------------------------\n",
            "76/276:  /content/Resources/BEST_I_CORPUS/TrainingSet/LST20_test_prep/T12949_prep.txt\n",
            "precision:  0.988\n",
            "recall:  0.967\n",
            "fscore:  0.977\n",
            "accuracy:  0.988\n",
            "Number of data:  954\n",
            "--------------------------------------------------\n",
            "77/276:  /content/Resources/BEST_I_CORPUS/TrainingSet/LST20_train_prep/T11309_prep.txt\n"
          ]
        },
        {
          "output_type": "stream",
          "name": "stderr",
          "text": [
            "/usr/local/lib/python3.7/dist-packages/ipykernel_launcher.py:11: DeprecationWarning: `np.bool` is a deprecated alias for the builtin `bool`. To silence this warning, use `bool` by itself. Doing this will not modify any behavior and is safe. If you specifically wanted the numpy scalar type, use `np.bool_` here.\n",
            "Deprecated in NumPy 1.20; for more details and guidance: https://numpy.org/devdocs/release/1.20.0-notes.html#deprecations\n",
            "  # This is added back by InteractiveShellApp.init_path()\n",
            "/usr/local/lib/python3.7/dist-packages/ipykernel_launcher.py:11: DeprecationWarning: `np.bool` is a deprecated alias for the builtin `bool`. To silence this warning, use `bool` by itself. Doing this will not modify any behavior and is safe. If you specifically wanted the numpy scalar type, use `np.bool_` here.\n",
            "Deprecated in NumPy 1.20; for more details and guidance: https://numpy.org/devdocs/release/1.20.0-notes.html#deprecations\n",
            "  # This is added back by InteractiveShellApp.init_path()\n"
          ]
        },
        {
          "output_type": "stream",
          "name": "stdout",
          "text": [
            "precision:  0.979\n",
            "recall:  0.989\n",
            "fscore:  0.984\n",
            "accuracy:  0.991\n",
            "Number of data:  2528\n",
            "--------------------------------------------------\n",
            "78/276:  /content/Resources/BEST_I_CORPUS/TrainingSet/LST20_train_prep/T00676_prep.txt\n"
          ]
        },
        {
          "output_type": "stream",
          "name": "stderr",
          "text": [
            "/usr/local/lib/python3.7/dist-packages/ipykernel_launcher.py:11: DeprecationWarning: `np.bool` is a deprecated alias for the builtin `bool`. To silence this warning, use `bool` by itself. Doing this will not modify any behavior and is safe. If you specifically wanted the numpy scalar type, use `np.bool_` here.\n",
            "Deprecated in NumPy 1.20; for more details and guidance: https://numpy.org/devdocs/release/1.20.0-notes.html#deprecations\n",
            "  # This is added back by InteractiveShellApp.init_path()\n"
          ]
        },
        {
          "output_type": "stream",
          "name": "stdout",
          "text": [
            "precision:  0.982\n",
            "recall:  0.981\n",
            "fscore:  0.982\n",
            "accuracy:  0.991\n",
            "Number of data:  2856\n",
            "--------------------------------------------------\n",
            "79/276:  /content/Resources/BEST_I_CORPUS/TrainingSet/LST20_train_prep/T00515_prep.txt\n"
          ]
        },
        {
          "output_type": "stream",
          "name": "stderr",
          "text": [
            "/usr/local/lib/python3.7/dist-packages/ipykernel_launcher.py:11: DeprecationWarning: `np.bool` is a deprecated alias for the builtin `bool`. To silence this warning, use `bool` by itself. Doing this will not modify any behavior and is safe. If you specifically wanted the numpy scalar type, use `np.bool_` here.\n",
            "Deprecated in NumPy 1.20; for more details and guidance: https://numpy.org/devdocs/release/1.20.0-notes.html#deprecations\n",
            "  # This is added back by InteractiveShellApp.init_path()\n"
          ]
        },
        {
          "output_type": "stream",
          "name": "stdout",
          "text": [
            "precision:  0.972\n",
            "recall:  0.972\n",
            "fscore:  0.972\n",
            "accuracy:  0.987\n",
            "Number of data:  9160\n",
            "--------------------------------------------------\n",
            "80/276:  /content/Resources/BEST_I_CORPUS/TrainingSet/LST20_train_prep/T01175_prep.txt\n"
          ]
        },
        {
          "output_type": "stream",
          "name": "stderr",
          "text": [
            "/usr/local/lib/python3.7/dist-packages/ipykernel_launcher.py:11: DeprecationWarning: `np.bool` is a deprecated alias for the builtin `bool`. To silence this warning, use `bool` by itself. Doing this will not modify any behavior and is safe. If you specifically wanted the numpy scalar type, use `np.bool_` here.\n",
            "Deprecated in NumPy 1.20; for more details and guidance: https://numpy.org/devdocs/release/1.20.0-notes.html#deprecations\n",
            "  # This is added back by InteractiveShellApp.init_path()\n"
          ]
        },
        {
          "output_type": "stream",
          "name": "stdout",
          "text": [
            "precision:  0.957\n",
            "recall:  0.955\n",
            "fscore:  0.956\n",
            "accuracy:  0.976\n",
            "Number of data:  1959\n",
            "--------------------------------------------------\n",
            "81/276:  /content/Resources/BEST_I_CORPUS/TrainingSet/LST20_train_prep/T00511_prep.txt\n"
          ]
        },
        {
          "output_type": "stream",
          "name": "stderr",
          "text": [
            "/usr/local/lib/python3.7/dist-packages/ipykernel_launcher.py:11: DeprecationWarning: `np.bool` is a deprecated alias for the builtin `bool`. To silence this warning, use `bool` by itself. Doing this will not modify any behavior and is safe. If you specifically wanted the numpy scalar type, use `np.bool_` here.\n",
            "Deprecated in NumPy 1.20; for more details and guidance: https://numpy.org/devdocs/release/1.20.0-notes.html#deprecations\n",
            "  # This is added back by InteractiveShellApp.init_path()\n"
          ]
        },
        {
          "output_type": "stream",
          "name": "stdout",
          "text": [
            "precision:  0.97\n",
            "recall:  0.981\n",
            "fscore:  0.976\n",
            "accuracy:  0.987\n",
            "Number of data:  2064\n",
            "--------------------------------------------------\n",
            "82/276:  /content/Resources/BEST_I_CORPUS/TrainingSet/LST20_train_prep/T01299_prep.txt\n"
          ]
        },
        {
          "output_type": "stream",
          "name": "stderr",
          "text": [
            "/usr/local/lib/python3.7/dist-packages/ipykernel_launcher.py:11: DeprecationWarning: `np.bool` is a deprecated alias for the builtin `bool`. To silence this warning, use `bool` by itself. Doing this will not modify any behavior and is safe. If you specifically wanted the numpy scalar type, use `np.bool_` here.\n",
            "Deprecated in NumPy 1.20; for more details and guidance: https://numpy.org/devdocs/release/1.20.0-notes.html#deprecations\n",
            "  # This is added back by InteractiveShellApp.init_path()\n"
          ]
        },
        {
          "output_type": "stream",
          "name": "stdout",
          "text": [
            "precision:  0.974\n",
            "recall:  0.978\n",
            "fscore:  0.976\n",
            "accuracy:  0.988\n",
            "Number of data:  3635\n",
            "--------------------------------------------------\n",
            "83/276:  /content/Resources/BEST_I_CORPUS/TrainingSet/LST20_train_prep/T12304_prep.txt\n",
            "precision:  0.987\n",
            "recall:  0.975\n",
            "fscore:  0.981\n",
            "accuracy:  0.992\n",
            "Number of data:  1107\n",
            "--------------------------------------------------\n",
            "84/276:  /content/Resources/BEST_I_CORPUS/TrainingSet/LST20_train_prep/T11617_prep.txt\n"
          ]
        },
        {
          "output_type": "stream",
          "name": "stderr",
          "text": [
            "/usr/local/lib/python3.7/dist-packages/ipykernel_launcher.py:11: DeprecationWarning: `np.bool` is a deprecated alias for the builtin `bool`. To silence this warning, use `bool` by itself. Doing this will not modify any behavior and is safe. If you specifically wanted the numpy scalar type, use `np.bool_` here.\n",
            "Deprecated in NumPy 1.20; for more details and guidance: https://numpy.org/devdocs/release/1.20.0-notes.html#deprecations\n",
            "  # This is added back by InteractiveShellApp.init_path()\n",
            "/usr/local/lib/python3.7/dist-packages/ipykernel_launcher.py:11: DeprecationWarning: `np.bool` is a deprecated alias for the builtin `bool`. To silence this warning, use `bool` by itself. Doing this will not modify any behavior and is safe. If you specifically wanted the numpy scalar type, use `np.bool_` here.\n",
            "Deprecated in NumPy 1.20; for more details and guidance: https://numpy.org/devdocs/release/1.20.0-notes.html#deprecations\n",
            "  # This is added back by InteractiveShellApp.init_path()\n"
          ]
        },
        {
          "output_type": "stream",
          "name": "stdout",
          "text": [
            "precision:  0.972\n",
            "recall:  0.979\n",
            "fscore:  0.975\n",
            "accuracy:  0.987\n",
            "Number of data:  5132\n",
            "--------------------------------------------------\n",
            "85/276:  /content/Resources/BEST_I_CORPUS/TrainingSet/LST20_eval_prep/T12045_prep.txt\n",
            "precision:  0.963\n",
            "recall:  0.986\n",
            "fscore:  0.975\n",
            "accuracy:  0.986\n",
            "Number of data:  1058\n",
            "--------------------------------------------------\n",
            "86/276:  /content/Resources/BEST_I_CORPUS/TrainingSet/LST20_train_prep/T00547_prep.txt\n"
          ]
        },
        {
          "output_type": "stream",
          "name": "stderr",
          "text": [
            "/usr/local/lib/python3.7/dist-packages/ipykernel_launcher.py:11: DeprecationWarning: `np.bool` is a deprecated alias for the builtin `bool`. To silence this warning, use `bool` by itself. Doing this will not modify any behavior and is safe. If you specifically wanted the numpy scalar type, use `np.bool_` here.\n",
            "Deprecated in NumPy 1.20; for more details and guidance: https://numpy.org/devdocs/release/1.20.0-notes.html#deprecations\n",
            "  # This is added back by InteractiveShellApp.init_path()\n",
            "/usr/local/lib/python3.7/dist-packages/ipykernel_launcher.py:11: DeprecationWarning: `np.bool` is a deprecated alias for the builtin `bool`. To silence this warning, use `bool` by itself. Doing this will not modify any behavior and is safe. If you specifically wanted the numpy scalar type, use `np.bool_` here.\n",
            "Deprecated in NumPy 1.20; for more details and guidance: https://numpy.org/devdocs/release/1.20.0-notes.html#deprecations\n",
            "  # This is added back by InteractiveShellApp.init_path()\n"
          ]
        },
        {
          "output_type": "stream",
          "name": "stdout",
          "text": [
            "precision:  0.97\n",
            "recall:  0.976\n",
            "fscore:  0.973\n",
            "accuracy:  0.987\n",
            "Number of data:  2393\n",
            "--------------------------------------------------\n",
            "87/276:  /content/Resources/BEST_I_CORPUS/TrainingSet/IMDB_train/imdb_150.txt\n"
          ]
        },
        {
          "output_type": "stream",
          "name": "stderr",
          "text": [
            "/usr/local/lib/python3.7/dist-packages/ipykernel_launcher.py:11: DeprecationWarning: `np.bool` is a deprecated alias for the builtin `bool`. To silence this warning, use `bool` by itself. Doing this will not modify any behavior and is safe. If you specifically wanted the numpy scalar type, use `np.bool_` here.\n",
            "Deprecated in NumPy 1.20; for more details and guidance: https://numpy.org/devdocs/release/1.20.0-notes.html#deprecations\n",
            "  # This is added back by InteractiveShellApp.init_path()\n"
          ]
        },
        {
          "output_type": "stream",
          "name": "stdout",
          "text": [
            "precision:  0.923\n",
            "recall:  0.886\n",
            "fscore:  0.904\n",
            "accuracy:  0.952\n",
            "Number of data:  1654\n",
            "--------------------------------------------------\n",
            "88/276:  /content/Resources/BEST_I_CORPUS/TrainingSet/LST20_train_prep/T01421_prep.txt\n"
          ]
        },
        {
          "output_type": "stream",
          "name": "stderr",
          "text": [
            "/usr/local/lib/python3.7/dist-packages/ipykernel_launcher.py:11: DeprecationWarning: `np.bool` is a deprecated alias for the builtin `bool`. To silence this warning, use `bool` by itself. Doing this will not modify any behavior and is safe. If you specifically wanted the numpy scalar type, use `np.bool_` here.\n",
            "Deprecated in NumPy 1.20; for more details and guidance: https://numpy.org/devdocs/release/1.20.0-notes.html#deprecations\n",
            "  # This is added back by InteractiveShellApp.init_path()\n"
          ]
        },
        {
          "output_type": "stream",
          "name": "stdout",
          "text": [
            "precision:  0.941\n",
            "recall:  0.963\n",
            "fscore:  0.952\n",
            "accuracy:  0.975\n",
            "Number of data:  2945\n",
            "--------------------------------------------------\n",
            "89/276:  /content/Resources/BEST_I_CORPUS/TrainingSet/LST20_train_prep/T12050_prep.txt\n"
          ]
        },
        {
          "output_type": "stream",
          "name": "stderr",
          "text": [
            "/usr/local/lib/python3.7/dist-packages/ipykernel_launcher.py:11: DeprecationWarning: `np.bool` is a deprecated alias for the builtin `bool`. To silence this warning, use `bool` by itself. Doing this will not modify any behavior and is safe. If you specifically wanted the numpy scalar type, use `np.bool_` here.\n",
            "Deprecated in NumPy 1.20; for more details and guidance: https://numpy.org/devdocs/release/1.20.0-notes.html#deprecations\n",
            "  # This is added back by InteractiveShellApp.init_path()\n"
          ]
        },
        {
          "output_type": "stream",
          "name": "stdout",
          "text": [
            "precision:  0.976\n",
            "recall:  0.981\n",
            "fscore:  0.979\n",
            "accuracy:  0.988\n",
            "Number of data:  2846\n",
            "--------------------------------------------------\n",
            "90/276:  /content/Resources/BEST_I_CORPUS/TrainingSet/LST20_test_prep/T12523_prep.txt\n"
          ]
        },
        {
          "output_type": "stream",
          "name": "stderr",
          "text": [
            "/usr/local/lib/python3.7/dist-packages/ipykernel_launcher.py:11: DeprecationWarning: `np.bool` is a deprecated alias for the builtin `bool`. To silence this warning, use `bool` by itself. Doing this will not modify any behavior and is safe. If you specifically wanted the numpy scalar type, use `np.bool_` here.\n",
            "Deprecated in NumPy 1.20; for more details and guidance: https://numpy.org/devdocs/release/1.20.0-notes.html#deprecations\n",
            "  # This is added back by InteractiveShellApp.init_path()\n"
          ]
        },
        {
          "output_type": "stream",
          "name": "stdout",
          "text": [
            "precision:  0.981\n",
            "recall:  0.984\n",
            "fscore:  0.983\n",
            "accuracy:  0.992\n",
            "Number of data:  1830\n",
            "--------------------------------------------------\n",
            "91/276:  /content/Resources/BEST_I_CORPUS/TrainingSet/LST20_train_prep/T00992_prep.txt\n",
            "precision:  0.943\n",
            "recall:  0.973\n",
            "fscore:  0.958\n",
            "accuracy:  0.976\n",
            "Number of data:  1358\n",
            "--------------------------------------------------\n",
            "92/276:  /content/Resources/BEST_I_CORPUS/TrainingSet/LST20_train_prep/T00849_prep.txt\n"
          ]
        },
        {
          "output_type": "stream",
          "name": "stderr",
          "text": [
            "/usr/local/lib/python3.7/dist-packages/ipykernel_launcher.py:11: DeprecationWarning: `np.bool` is a deprecated alias for the builtin `bool`. To silence this warning, use `bool` by itself. Doing this will not modify any behavior and is safe. If you specifically wanted the numpy scalar type, use `np.bool_` here.\n",
            "Deprecated in NumPy 1.20; for more details and guidance: https://numpy.org/devdocs/release/1.20.0-notes.html#deprecations\n",
            "  # This is added back by InteractiveShellApp.init_path()\n",
            "/usr/local/lib/python3.7/dist-packages/ipykernel_launcher.py:11: DeprecationWarning: `np.bool` is a deprecated alias for the builtin `bool`. To silence this warning, use `bool` by itself. Doing this will not modify any behavior and is safe. If you specifically wanted the numpy scalar type, use `np.bool_` here.\n",
            "Deprecated in NumPy 1.20; for more details and guidance: https://numpy.org/devdocs/release/1.20.0-notes.html#deprecations\n",
            "  # This is added back by InteractiveShellApp.init_path()\n"
          ]
        },
        {
          "output_type": "stream",
          "name": "stdout",
          "text": [
            "precision:  0.964\n",
            "recall:  0.983\n",
            "fscore:  0.974\n",
            "accuracy:  0.987\n",
            "Number of data:  2278\n",
            "--------------------------------------------------\n",
            "93/276:  /content/Resources/BEST_I_CORPUS/TrainingSet/LST20_train_prep/T01637_prep.txt\n"
          ]
        },
        {
          "output_type": "stream",
          "name": "stderr",
          "text": [
            "/usr/local/lib/python3.7/dist-packages/ipykernel_launcher.py:11: DeprecationWarning: `np.bool` is a deprecated alias for the builtin `bool`. To silence this warning, use `bool` by itself. Doing this will not modify any behavior and is safe. If you specifically wanted the numpy scalar type, use `np.bool_` here.\n",
            "Deprecated in NumPy 1.20; for more details and guidance: https://numpy.org/devdocs/release/1.20.0-notes.html#deprecations\n",
            "  # This is added back by InteractiveShellApp.init_path()\n"
          ]
        },
        {
          "output_type": "stream",
          "name": "stdout",
          "text": [
            "precision:  0.957\n",
            "recall:  0.977\n",
            "fscore:  0.967\n",
            "accuracy:  0.983\n",
            "Number of data:  2631\n",
            "--------------------------------------------------\n",
            "94/276:  /content/Resources/BEST_I_CORPUS/TrainingSet/novel/novel_00074.txt\n"
          ]
        },
        {
          "output_type": "stream",
          "name": "stderr",
          "text": [
            "/usr/local/lib/python3.7/dist-packages/ipykernel_launcher.py:11: DeprecationWarning: `np.bool` is a deprecated alias for the builtin `bool`. To silence this warning, use `bool` by itself. Doing this will not modify any behavior and is safe. If you specifically wanted the numpy scalar type, use `np.bool_` here.\n",
            "Deprecated in NumPy 1.20; for more details and guidance: https://numpy.org/devdocs/release/1.20.0-notes.html#deprecations\n",
            "  # This is added back by InteractiveShellApp.init_path()\n"
          ]
        },
        {
          "output_type": "stream",
          "name": "stdout",
          "text": [
            "precision:  0.966\n",
            "recall:  0.967\n",
            "fscore:  0.966\n",
            "accuracy:  0.981\n",
            "Number of data:  42336\n",
            "--------------------------------------------------\n",
            "95/276:  /content/Resources/BEST_I_CORPUS/TrainingSet/LST20_train_prep/T01208_prep.txt\n"
          ]
        },
        {
          "output_type": "stream",
          "name": "stderr",
          "text": [
            "/usr/local/lib/python3.7/dist-packages/ipykernel_launcher.py:11: DeprecationWarning: `np.bool` is a deprecated alias for the builtin `bool`. To silence this warning, use `bool` by itself. Doing this will not modify any behavior and is safe. If you specifically wanted the numpy scalar type, use `np.bool_` here.\n",
            "Deprecated in NumPy 1.20; for more details and guidance: https://numpy.org/devdocs/release/1.20.0-notes.html#deprecations\n",
            "  # This is added back by InteractiveShellApp.init_path()\n"
          ]
        },
        {
          "output_type": "stream",
          "name": "stdout",
          "text": [
            "precision:  0.969\n",
            "recall:  0.973\n",
            "fscore:  0.971\n",
            "accuracy:  0.985\n",
            "Number of data:  3674\n",
            "--------------------------------------------------\n",
            "96/276:  /content/Resources/BEST_I_CORPUS/TrainingSet/LST20_train_prep/T12047_prep.txt\n",
            "precision:  0.971\n",
            "recall:  0.993\n",
            "fscore:  0.982\n",
            "accuracy:  0.99\n",
            "Number of data:  1142\n",
            "--------------------------------------------------\n",
            "97/276:  /content/Resources/BEST_I_CORPUS/TrainingSet/LST20_test_prep/T12771_prep.txt\n"
          ]
        },
        {
          "output_type": "stream",
          "name": "stderr",
          "text": [
            "/usr/local/lib/python3.7/dist-packages/ipykernel_launcher.py:11: DeprecationWarning: `np.bool` is a deprecated alias for the builtin `bool`. To silence this warning, use `bool` by itself. Doing this will not modify any behavior and is safe. If you specifically wanted the numpy scalar type, use `np.bool_` here.\n",
            "Deprecated in NumPy 1.20; for more details and guidance: https://numpy.org/devdocs/release/1.20.0-notes.html#deprecations\n",
            "  # This is added back by InteractiveShellApp.init_path()\n",
            "/usr/local/lib/python3.7/dist-packages/ipykernel_launcher.py:11: DeprecationWarning: `np.bool` is a deprecated alias for the builtin `bool`. To silence this warning, use `bool` by itself. Doing this will not modify any behavior and is safe. If you specifically wanted the numpy scalar type, use `np.bool_` here.\n",
            "Deprecated in NumPy 1.20; for more details and guidance: https://numpy.org/devdocs/release/1.20.0-notes.html#deprecations\n",
            "  # This is added back by InteractiveShellApp.init_path()\n"
          ]
        },
        {
          "output_type": "stream",
          "name": "stdout",
          "text": [
            "precision:  0.973\n",
            "recall:  0.977\n",
            "fscore:  0.975\n",
            "accuracy:  0.987\n",
            "Number of data:  1840\n",
            "--------------------------------------------------\n",
            "98/276:  /content/Resources/BEST_I_CORPUS/TrainingSet/LST20_test_prep/T11668_prep.txt\n"
          ]
        },
        {
          "output_type": "stream",
          "name": "stderr",
          "text": [
            "/usr/local/lib/python3.7/dist-packages/ipykernel_launcher.py:11: DeprecationWarning: `np.bool` is a deprecated alias for the builtin `bool`. To silence this warning, use `bool` by itself. Doing this will not modify any behavior and is safe. If you specifically wanted the numpy scalar type, use `np.bool_` here.\n",
            "Deprecated in NumPy 1.20; for more details and guidance: https://numpy.org/devdocs/release/1.20.0-notes.html#deprecations\n",
            "  # This is added back by InteractiveShellApp.init_path()\n"
          ]
        },
        {
          "output_type": "stream",
          "name": "stdout",
          "text": [
            "precision:  0.954\n",
            "recall:  0.958\n",
            "fscore:  0.956\n",
            "accuracy:  0.979\n",
            "Number of data:  2121\n",
            "--------------------------------------------------\n",
            "99/276:  /content/Resources/BEST_I_CORPUS/TrainingSet/news/news_00078.txt\n"
          ]
        },
        {
          "output_type": "stream",
          "name": "stderr",
          "text": [
            "/usr/local/lib/python3.7/dist-packages/ipykernel_launcher.py:11: DeprecationWarning: `np.bool` is a deprecated alias for the builtin `bool`. To silence this warning, use `bool` by itself. Doing this will not modify any behavior and is safe. If you specifically wanted the numpy scalar type, use `np.bool_` here.\n",
            "Deprecated in NumPy 1.20; for more details and guidance: https://numpy.org/devdocs/release/1.20.0-notes.html#deprecations\n",
            "  # This is added back by InteractiveShellApp.init_path()\n"
          ]
        },
        {
          "output_type": "stream",
          "name": "stdout",
          "text": [
            "precision:  0.931\n",
            "recall:  0.959\n",
            "fscore:  0.945\n",
            "accuracy:  0.971\n",
            "Number of data:  110742\n",
            "--------------------------------------------------\n",
            "100/276:  /content/Resources/BEST_I_CORPUS/TrainingSet/LST20_train_prep/T10158_prep.txt\n",
            "precision:  0.97\n",
            "recall:  0.99\n",
            "fscore:  0.98\n",
            "accuracy:  0.987\n",
            "Number of data:  630\n",
            "--------------------------------------------------\n",
            "101/276:  /content/Resources/BEST_I_CORPUS/TrainingSet/LST20_eval_prep/T13284_prep.txt\n"
          ]
        },
        {
          "output_type": "stream",
          "name": "stderr",
          "text": [
            "/usr/local/lib/python3.7/dist-packages/ipykernel_launcher.py:11: DeprecationWarning: `np.bool` is a deprecated alias for the builtin `bool`. To silence this warning, use `bool` by itself. Doing this will not modify any behavior and is safe. If you specifically wanted the numpy scalar type, use `np.bool_` here.\n",
            "Deprecated in NumPy 1.20; for more details and guidance: https://numpy.org/devdocs/release/1.20.0-notes.html#deprecations\n",
            "  # This is added back by InteractiveShellApp.init_path()\n",
            "/usr/local/lib/python3.7/dist-packages/ipykernel_launcher.py:11: DeprecationWarning: `np.bool` is a deprecated alias for the builtin `bool`. To silence this warning, use `bool` by itself. Doing this will not modify any behavior and is safe. If you specifically wanted the numpy scalar type, use `np.bool_` here.\n",
            "Deprecated in NumPy 1.20; for more details and guidance: https://numpy.org/devdocs/release/1.20.0-notes.html#deprecations\n",
            "  # This is added back by InteractiveShellApp.init_path()\n"
          ]
        },
        {
          "output_type": "stream",
          "name": "stdout",
          "text": [
            "precision:  0.994\n",
            "recall:  1.0\n",
            "fscore:  0.997\n",
            "accuracy:  0.998\n",
            "Number of data:  656\n",
            "--------------------------------------------------\n",
            "102/276:  /content/Resources/BEST_I_CORPUS/TrainingSet/LST20_train_prep/T11425_prep.txt\n"
          ]
        },
        {
          "output_type": "stream",
          "name": "stderr",
          "text": [
            "/usr/local/lib/python3.7/dist-packages/ipykernel_launcher.py:11: DeprecationWarning: `np.bool` is a deprecated alias for the builtin `bool`. To silence this warning, use `bool` by itself. Doing this will not modify any behavior and is safe. If you specifically wanted the numpy scalar type, use `np.bool_` here.\n",
            "Deprecated in NumPy 1.20; for more details and guidance: https://numpy.org/devdocs/release/1.20.0-notes.html#deprecations\n",
            "  # This is added back by InteractiveShellApp.init_path()\n"
          ]
        },
        {
          "output_type": "stream",
          "name": "stdout",
          "text": [
            "precision:  0.955\n",
            "recall:  0.978\n",
            "fscore:  0.966\n",
            "accuracy:  0.982\n",
            "Number of data:  2559\n",
            "--------------------------------------------------\n",
            "103/276:  /content/Resources/BEST_I_CORPUS/TrainingSet/LST20_train_prep/T01172_prep.txt\n"
          ]
        },
        {
          "output_type": "stream",
          "name": "stderr",
          "text": [
            "/usr/local/lib/python3.7/dist-packages/ipykernel_launcher.py:11: DeprecationWarning: `np.bool` is a deprecated alias for the builtin `bool`. To silence this warning, use `bool` by itself. Doing this will not modify any behavior and is safe. If you specifically wanted the numpy scalar type, use `np.bool_` here.\n",
            "Deprecated in NumPy 1.20; for more details and guidance: https://numpy.org/devdocs/release/1.20.0-notes.html#deprecations\n",
            "  # This is added back by InteractiveShellApp.init_path()\n"
          ]
        },
        {
          "output_type": "stream",
          "name": "stdout",
          "text": [
            "precision:  0.976\n",
            "recall:  0.952\n",
            "fscore:  0.964\n",
            "accuracy:  0.979\n",
            "Number of data:  2146\n",
            "--------------------------------------------------\n",
            "104/276:  /content/Resources/BEST_I_CORPUS/TrainingSet/LST20_train_prep/T10815_prep.txt\n"
          ]
        },
        {
          "output_type": "stream",
          "name": "stderr",
          "text": [
            "/usr/local/lib/python3.7/dist-packages/ipykernel_launcher.py:11: DeprecationWarning: `np.bool` is a deprecated alias for the builtin `bool`. To silence this warning, use `bool` by itself. Doing this will not modify any behavior and is safe. If you specifically wanted the numpy scalar type, use `np.bool_` here.\n",
            "Deprecated in NumPy 1.20; for more details and guidance: https://numpy.org/devdocs/release/1.20.0-notes.html#deprecations\n",
            "  # This is added back by InteractiveShellApp.init_path()\n"
          ]
        },
        {
          "output_type": "stream",
          "name": "stdout",
          "text": [
            "precision:  0.951\n",
            "recall:  0.965\n",
            "fscore:  0.958\n",
            "accuracy:  0.977\n",
            "Number of data:  2488\n",
            "--------------------------------------------------\n",
            "105/276:  /content/Resources/BEST_I_CORPUS/TrainingSet/LST20_train_prep/T00655_prep.txt\n"
          ]
        },
        {
          "output_type": "stream",
          "name": "stderr",
          "text": [
            "/usr/local/lib/python3.7/dist-packages/ipykernel_launcher.py:11: DeprecationWarning: `np.bool` is a deprecated alias for the builtin `bool`. To silence this warning, use `bool` by itself. Doing this will not modify any behavior and is safe. If you specifically wanted the numpy scalar type, use `np.bool_` here.\n",
            "Deprecated in NumPy 1.20; for more details and guidance: https://numpy.org/devdocs/release/1.20.0-notes.html#deprecations\n",
            "  # This is added back by InteractiveShellApp.init_path()\n"
          ]
        },
        {
          "output_type": "stream",
          "name": "stdout",
          "text": [
            "precision:  0.972\n",
            "recall:  0.963\n",
            "fscore:  0.967\n",
            "accuracy:  0.983\n",
            "Number of data:  2107\n",
            "--------------------------------------------------\n",
            "106/276:  /content/Resources/BEST_I_CORPUS/TrainingSet/LST20_train_prep/T01348_prep.txt\n"
          ]
        },
        {
          "output_type": "stream",
          "name": "stderr",
          "text": [
            "/usr/local/lib/python3.7/dist-packages/ipykernel_launcher.py:11: DeprecationWarning: `np.bool` is a deprecated alias for the builtin `bool`. To silence this warning, use `bool` by itself. Doing this will not modify any behavior and is safe. If you specifically wanted the numpy scalar type, use `np.bool_` here.\n",
            "Deprecated in NumPy 1.20; for more details and guidance: https://numpy.org/devdocs/release/1.20.0-notes.html#deprecations\n",
            "  # This is added back by InteractiveShellApp.init_path()\n"
          ]
        },
        {
          "output_type": "stream",
          "name": "stdout",
          "text": [
            "precision:  0.929\n",
            "recall:  0.989\n",
            "fscore:  0.958\n",
            "accuracy:  0.979\n",
            "Number of data:  1492\n",
            "--------------------------------------------------\n",
            "107/276:  /content/Resources/BEST_I_CORPUS/TrainingSet/LST20_train_prep/T00484_prep.txt\n"
          ]
        },
        {
          "output_type": "stream",
          "name": "stderr",
          "text": [
            "/usr/local/lib/python3.7/dist-packages/ipykernel_launcher.py:11: DeprecationWarning: `np.bool` is a deprecated alias for the builtin `bool`. To silence this warning, use `bool` by itself. Doing this will not modify any behavior and is safe. If you specifically wanted the numpy scalar type, use `np.bool_` here.\n",
            "Deprecated in NumPy 1.20; for more details and guidance: https://numpy.org/devdocs/release/1.20.0-notes.html#deprecations\n",
            "  # This is added back by InteractiveShellApp.init_path()\n"
          ]
        },
        {
          "output_type": "stream",
          "name": "stdout",
          "text": [
            "precision:  0.971\n",
            "recall:  0.986\n",
            "fscore:  0.979\n",
            "accuracy:  0.989\n",
            "Number of data:  2727\n",
            "--------------------------------------------------\n",
            "108/276:  /content/Resources/BEST_I_CORPUS/TrainingSet/LST20_eval_prep/T13237_prep.txt\n"
          ]
        },
        {
          "output_type": "stream",
          "name": "stderr",
          "text": [
            "/usr/local/lib/python3.7/dist-packages/ipykernel_launcher.py:11: DeprecationWarning: `np.bool` is a deprecated alias for the builtin `bool`. To silence this warning, use `bool` by itself. Doing this will not modify any behavior and is safe. If you specifically wanted the numpy scalar type, use `np.bool_` here.\n",
            "Deprecated in NumPy 1.20; for more details and guidance: https://numpy.org/devdocs/release/1.20.0-notes.html#deprecations\n",
            "  # This is added back by InteractiveShellApp.init_path()\n"
          ]
        },
        {
          "output_type": "stream",
          "name": "stdout",
          "text": [
            "precision:  0.967\n",
            "recall:  0.997\n",
            "fscore:  0.982\n",
            "accuracy:  0.991\n",
            "Number of data:  1547\n",
            "--------------------------------------------------\n",
            "109/276:  /content/Resources/BEST_I_CORPUS/TrainingSet/IMDB_train/imdb_207.txt\n",
            "precision:  0.914\n",
            "recall:  0.852\n",
            "fscore:  0.882\n",
            "accuracy:  0.935\n",
            "Number of data:  829\n",
            "--------------------------------------------------\n",
            "110/276:  /content/Resources/BEST_I_CORPUS/TrainingSet/LST20_train_prep/T10696_prep.txt\n"
          ]
        },
        {
          "output_type": "stream",
          "name": "stderr",
          "text": [
            "/usr/local/lib/python3.7/dist-packages/ipykernel_launcher.py:11: DeprecationWarning: `np.bool` is a deprecated alias for the builtin `bool`. To silence this warning, use `bool` by itself. Doing this will not modify any behavior and is safe. If you specifically wanted the numpy scalar type, use `np.bool_` here.\n",
            "Deprecated in NumPy 1.20; for more details and guidance: https://numpy.org/devdocs/release/1.20.0-notes.html#deprecations\n",
            "  # This is added back by InteractiveShellApp.init_path()\n",
            "/usr/local/lib/python3.7/dist-packages/ipykernel_launcher.py:11: DeprecationWarning: `np.bool` is a deprecated alias for the builtin `bool`. To silence this warning, use `bool` by itself. Doing this will not modify any behavior and is safe. If you specifically wanted the numpy scalar type, use `np.bool_` here.\n",
            "Deprecated in NumPy 1.20; for more details and guidance: https://numpy.org/devdocs/release/1.20.0-notes.html#deprecations\n",
            "  # This is added back by InteractiveShellApp.init_path()\n"
          ]
        },
        {
          "output_type": "stream",
          "name": "stdout",
          "text": [
            "precision:  0.964\n",
            "recall:  0.987\n",
            "fscore:  0.975\n",
            "accuracy:  0.987\n",
            "Number of data:  5424\n",
            "--------------------------------------------------\n",
            "111/276:  /content/Resources/BEST_I_CORPUS/TrainingSet/IMDB_train/imdb_221.txt\n",
            "precision:  0.956\n",
            "recall:  0.867\n",
            "fscore:  0.909\n",
            "accuracy:  0.953\n",
            "Number of data:  549\n",
            "--------------------------------------------------\n",
            "112/276:  /content/Resources/BEST_I_CORPUS/TrainingSet/LST20_train_prep/T00694_prep.txt\n"
          ]
        },
        {
          "output_type": "stream",
          "name": "stderr",
          "text": [
            "/usr/local/lib/python3.7/dist-packages/ipykernel_launcher.py:11: DeprecationWarning: `np.bool` is a deprecated alias for the builtin `bool`. To silence this warning, use `bool` by itself. Doing this will not modify any behavior and is safe. If you specifically wanted the numpy scalar type, use `np.bool_` here.\n",
            "Deprecated in NumPy 1.20; for more details and guidance: https://numpy.org/devdocs/release/1.20.0-notes.html#deprecations\n",
            "  # This is added back by InteractiveShellApp.init_path()\n",
            "/usr/local/lib/python3.7/dist-packages/ipykernel_launcher.py:11: DeprecationWarning: `np.bool` is a deprecated alias for the builtin `bool`. To silence this warning, use `bool` by itself. Doing this will not modify any behavior and is safe. If you specifically wanted the numpy scalar type, use `np.bool_` here.\n",
            "Deprecated in NumPy 1.20; for more details and guidance: https://numpy.org/devdocs/release/1.20.0-notes.html#deprecations\n",
            "  # This is added back by InteractiveShellApp.init_path()\n"
          ]
        },
        {
          "output_type": "stream",
          "name": "stdout",
          "text": [
            "precision:  0.95\n",
            "recall:  0.97\n",
            "fscore:  0.96\n",
            "accuracy:  0.979\n",
            "Number of data:  5495\n",
            "--------------------------------------------------\n",
            "113/276:  /content/Resources/BEST_I_CORPUS/TrainingSet/LST20_train_prep/T11211_prep.txt\n"
          ]
        },
        {
          "output_type": "stream",
          "name": "stderr",
          "text": [
            "/usr/local/lib/python3.7/dist-packages/ipykernel_launcher.py:11: DeprecationWarning: `np.bool` is a deprecated alias for the builtin `bool`. To silence this warning, use `bool` by itself. Doing this will not modify any behavior and is safe. If you specifically wanted the numpy scalar type, use `np.bool_` here.\n",
            "Deprecated in NumPy 1.20; for more details and guidance: https://numpy.org/devdocs/release/1.20.0-notes.html#deprecations\n",
            "  # This is added back by InteractiveShellApp.init_path()\n"
          ]
        },
        {
          "output_type": "stream",
          "name": "stdout",
          "text": [
            "precision:  0.974\n",
            "recall:  0.975\n",
            "fscore:  0.975\n",
            "accuracy:  0.984\n",
            "Number of data:  2989\n",
            "--------------------------------------------------\n",
            "114/276:  /content/Resources/BEST_I_CORPUS/TrainingSet/LST20_train_prep/T13089_prep.txt\n"
          ]
        },
        {
          "output_type": "stream",
          "name": "stderr",
          "text": [
            "/usr/local/lib/python3.7/dist-packages/ipykernel_launcher.py:11: DeprecationWarning: `np.bool` is a deprecated alias for the builtin `bool`. To silence this warning, use `bool` by itself. Doing this will not modify any behavior and is safe. If you specifically wanted the numpy scalar type, use `np.bool_` here.\n",
            "Deprecated in NumPy 1.20; for more details and guidance: https://numpy.org/devdocs/release/1.20.0-notes.html#deprecations\n",
            "  # This is added back by InteractiveShellApp.init_path()\n"
          ]
        },
        {
          "output_type": "stream",
          "name": "stdout",
          "text": [
            "precision:  0.974\n",
            "recall:  0.987\n",
            "fscore:  0.98\n",
            "accuracy:  0.99\n",
            "Number of data:  5243\n",
            "--------------------------------------------------\n",
            "115/276:  /content/Resources/BEST_I_CORPUS/TrainingSet/LST20_train_prep/T11912_prep.txt\n",
            "precision:  0.97\n",
            "recall:  0.966\n",
            "fscore:  0.968\n",
            "accuracy:  0.981\n",
            "Number of data:  691\n",
            "--------------------------------------------------\n",
            "116/276:  /content/Resources/BEST_I_CORPUS/TrainingSet/LST20_train_prep/T10927_prep.txt\n"
          ]
        },
        {
          "output_type": "stream",
          "name": "stderr",
          "text": [
            "/usr/local/lib/python3.7/dist-packages/ipykernel_launcher.py:11: DeprecationWarning: `np.bool` is a deprecated alias for the builtin `bool`. To silence this warning, use `bool` by itself. Doing this will not modify any behavior and is safe. If you specifically wanted the numpy scalar type, use `np.bool_` here.\n",
            "Deprecated in NumPy 1.20; for more details and guidance: https://numpy.org/devdocs/release/1.20.0-notes.html#deprecations\n",
            "  # This is added back by InteractiveShellApp.init_path()\n",
            "/usr/local/lib/python3.7/dist-packages/ipykernel_launcher.py:11: DeprecationWarning: `np.bool` is a deprecated alias for the builtin `bool`. To silence this warning, use `bool` by itself. Doing this will not modify any behavior and is safe. If you specifically wanted the numpy scalar type, use `np.bool_` here.\n",
            "Deprecated in NumPy 1.20; for more details and guidance: https://numpy.org/devdocs/release/1.20.0-notes.html#deprecations\n",
            "  # This is added back by InteractiveShellApp.init_path()\n"
          ]
        },
        {
          "output_type": "stream",
          "name": "stdout",
          "text": [
            "precision:  0.989\n",
            "recall:  0.954\n",
            "fscore:  0.971\n",
            "accuracy:  0.985\n",
            "Number of data:  1069\n",
            "--------------------------------------------------\n",
            "117/276:  /content/Resources/BEST_I_CORPUS/TrainingSet/IMDB_train/imdb_246.txt\n",
            "precision:  0.905\n",
            "recall:  0.888\n",
            "fscore:  0.897\n",
            "accuracy:  0.949\n",
            "Number of data:  868\n",
            "--------------------------------------------------\n",
            "118/276:  /content/Resources/BEST_I_CORPUS/TrainingSet/LST20_train_prep/T11539_prep.txt\n"
          ]
        },
        {
          "output_type": "stream",
          "name": "stderr",
          "text": [
            "/usr/local/lib/python3.7/dist-packages/ipykernel_launcher.py:11: DeprecationWarning: `np.bool` is a deprecated alias for the builtin `bool`. To silence this warning, use `bool` by itself. Doing this will not modify any behavior and is safe. If you specifically wanted the numpy scalar type, use `np.bool_` here.\n",
            "Deprecated in NumPy 1.20; for more details and guidance: https://numpy.org/devdocs/release/1.20.0-notes.html#deprecations\n",
            "  # This is added back by InteractiveShellApp.init_path()\n",
            "/usr/local/lib/python3.7/dist-packages/ipykernel_launcher.py:11: DeprecationWarning: `np.bool` is a deprecated alias for the builtin `bool`. To silence this warning, use `bool` by itself. Doing this will not modify any behavior and is safe. If you specifically wanted the numpy scalar type, use `np.bool_` here.\n",
            "Deprecated in NumPy 1.20; for more details and guidance: https://numpy.org/devdocs/release/1.20.0-notes.html#deprecations\n",
            "  # This is added back by InteractiveShellApp.init_path()\n"
          ]
        },
        {
          "output_type": "stream",
          "name": "stdout",
          "text": [
            "precision:  0.97\n",
            "recall:  0.979\n",
            "fscore:  0.974\n",
            "accuracy:  0.987\n",
            "Number of data:  2587\n",
            "--------------------------------------------------\n",
            "119/276:  /content/Resources/BEST_I_CORPUS/TrainingSet/LST20_train_prep/T00827_prep.txt\n",
            "precision:  0.969\n",
            "recall:  0.978\n",
            "fscore:  0.974\n",
            "accuracy:  0.985\n",
            "Number of data:  1458\n",
            "--------------------------------------------------\n",
            "120/276:  /content/Resources/BEST_I_CORPUS/TrainingSet/LST20_train_prep/T00958_prep.txt\n"
          ]
        },
        {
          "output_type": "stream",
          "name": "stderr",
          "text": [
            "/usr/local/lib/python3.7/dist-packages/ipykernel_launcher.py:11: DeprecationWarning: `np.bool` is a deprecated alias for the builtin `bool`. To silence this warning, use `bool` by itself. Doing this will not modify any behavior and is safe. If you specifically wanted the numpy scalar type, use `np.bool_` here.\n",
            "Deprecated in NumPy 1.20; for more details and guidance: https://numpy.org/devdocs/release/1.20.0-notes.html#deprecations\n",
            "  # This is added back by InteractiveShellApp.init_path()\n",
            "/usr/local/lib/python3.7/dist-packages/ipykernel_launcher.py:11: DeprecationWarning: `np.bool` is a deprecated alias for the builtin `bool`. To silence this warning, use `bool` by itself. Doing this will not modify any behavior and is safe. If you specifically wanted the numpy scalar type, use `np.bool_` here.\n",
            "Deprecated in NumPy 1.20; for more details and guidance: https://numpy.org/devdocs/release/1.20.0-notes.html#deprecations\n",
            "  # This is added back by InteractiveShellApp.init_path()\n"
          ]
        },
        {
          "output_type": "stream",
          "name": "stdout",
          "text": [
            "precision:  0.973\n",
            "recall:  0.987\n",
            "fscore:  0.98\n",
            "accuracy:  0.989\n",
            "Number of data:  6159\n",
            "--------------------------------------------------\n",
            "121/276:  /content/Resources/BEST_I_CORPUS/TrainingSet/LST20_test_prep/T12729_prep.txt\n"
          ]
        },
        {
          "output_type": "stream",
          "name": "stderr",
          "text": [
            "/usr/local/lib/python3.7/dist-packages/ipykernel_launcher.py:11: DeprecationWarning: `np.bool` is a deprecated alias for the builtin `bool`. To silence this warning, use `bool` by itself. Doing this will not modify any behavior and is safe. If you specifically wanted the numpy scalar type, use `np.bool_` here.\n",
            "Deprecated in NumPy 1.20; for more details and guidance: https://numpy.org/devdocs/release/1.20.0-notes.html#deprecations\n",
            "  # This is added back by InteractiveShellApp.init_path()\n"
          ]
        },
        {
          "output_type": "stream",
          "name": "stdout",
          "text": [
            "precision:  0.967\n",
            "recall:  0.975\n",
            "fscore:  0.971\n",
            "accuracy:  0.984\n",
            "Number of data:  2104\n",
            "--------------------------------------------------\n",
            "122/276:  /content/Resources/BEST_I_CORPUS/TrainingSet/LST20_train_prep/T12968_prep.txt\n",
            "precision:  0.988\n",
            "recall:  0.996\n",
            "fscore:  0.992\n",
            "accuracy:  0.996\n",
            "Number of data:  1046\n",
            "--------------------------------------------------\n",
            "123/276:  /content/Resources/BEST_I_CORPUS/TrainingSet/LST20_train_prep/T00623_prep.txt\n"
          ]
        },
        {
          "output_type": "stream",
          "name": "stderr",
          "text": [
            "/usr/local/lib/python3.7/dist-packages/ipykernel_launcher.py:11: DeprecationWarning: `np.bool` is a deprecated alias for the builtin `bool`. To silence this warning, use `bool` by itself. Doing this will not modify any behavior and is safe. If you specifically wanted the numpy scalar type, use `np.bool_` here.\n",
            "Deprecated in NumPy 1.20; for more details and guidance: https://numpy.org/devdocs/release/1.20.0-notes.html#deprecations\n",
            "  # This is added back by InteractiveShellApp.init_path()\n",
            "/usr/local/lib/python3.7/dist-packages/ipykernel_launcher.py:11: DeprecationWarning: `np.bool` is a deprecated alias for the builtin `bool`. To silence this warning, use `bool` by itself. Doing this will not modify any behavior and is safe. If you specifically wanted the numpy scalar type, use `np.bool_` here.\n",
            "Deprecated in NumPy 1.20; for more details and guidance: https://numpy.org/devdocs/release/1.20.0-notes.html#deprecations\n",
            "  # This is added back by InteractiveShellApp.init_path()\n"
          ]
        },
        {
          "output_type": "stream",
          "name": "stdout",
          "text": [
            "precision:  0.971\n",
            "recall:  0.974\n",
            "fscore:  0.972\n",
            "accuracy:  0.985\n",
            "Number of data:  8420\n",
            "--------------------------------------------------\n",
            "124/276:  /content/Resources/BEST_I_CORPUS/TrainingSet/LST20_train_prep/T01705_prep.txt\n"
          ]
        },
        {
          "output_type": "stream",
          "name": "stderr",
          "text": [
            "/usr/local/lib/python3.7/dist-packages/ipykernel_launcher.py:11: DeprecationWarning: `np.bool` is a deprecated alias for the builtin `bool`. To silence this warning, use `bool` by itself. Doing this will not modify any behavior and is safe. If you specifically wanted the numpy scalar type, use `np.bool_` here.\n",
            "Deprecated in NumPy 1.20; for more details and guidance: https://numpy.org/devdocs/release/1.20.0-notes.html#deprecations\n",
            "  # This is added back by InteractiveShellApp.init_path()\n"
          ]
        },
        {
          "output_type": "stream",
          "name": "stdout",
          "text": [
            "precision:  0.976\n",
            "recall:  0.969\n",
            "fscore:  0.972\n",
            "accuracy:  0.983\n",
            "Number of data:  3856\n",
            "--------------------------------------------------\n",
            "125/276:  /content/Resources/BEST_I_CORPUS/TrainingSet/LST20_train_prep/T11006_prep.txt\n"
          ]
        },
        {
          "output_type": "stream",
          "name": "stderr",
          "text": [
            "/usr/local/lib/python3.7/dist-packages/ipykernel_launcher.py:11: DeprecationWarning: `np.bool` is a deprecated alias for the builtin `bool`. To silence this warning, use `bool` by itself. Doing this will not modify any behavior and is safe. If you specifically wanted the numpy scalar type, use `np.bool_` here.\n",
            "Deprecated in NumPy 1.20; for more details and guidance: https://numpy.org/devdocs/release/1.20.0-notes.html#deprecations\n",
            "  # This is added back by InteractiveShellApp.init_path()\n"
          ]
        },
        {
          "output_type": "stream",
          "name": "stdout",
          "text": [
            "precision:  0.974\n",
            "recall:  0.98\n",
            "fscore:  0.977\n",
            "accuracy:  0.988\n",
            "Number of data:  2519\n",
            "--------------------------------------------------\n",
            "126/276:  /content/Resources/BEST_I_CORPUS/TrainingSet/LST20_train_prep/T11077_prep.txt\n"
          ]
        },
        {
          "output_type": "stream",
          "name": "stderr",
          "text": [
            "/usr/local/lib/python3.7/dist-packages/ipykernel_launcher.py:11: DeprecationWarning: `np.bool` is a deprecated alias for the builtin `bool`. To silence this warning, use `bool` by itself. Doing this will not modify any behavior and is safe. If you specifically wanted the numpy scalar type, use `np.bool_` here.\n",
            "Deprecated in NumPy 1.20; for more details and guidance: https://numpy.org/devdocs/release/1.20.0-notes.html#deprecations\n",
            "  # This is added back by InteractiveShellApp.init_path()\n"
          ]
        },
        {
          "output_type": "stream",
          "name": "stdout",
          "text": [
            "precision:  0.961\n",
            "recall:  0.984\n",
            "fscore:  0.972\n",
            "accuracy:  0.986\n",
            "Number of data:  3057\n",
            "--------------------------------------------------\n",
            "127/276:  /content/Resources/BEST_I_CORPUS/TrainingSet/LST20_train_prep/T01422_prep.txt\n"
          ]
        },
        {
          "output_type": "stream",
          "name": "stderr",
          "text": [
            "/usr/local/lib/python3.7/dist-packages/ipykernel_launcher.py:11: DeprecationWarning: `np.bool` is a deprecated alias for the builtin `bool`. To silence this warning, use `bool` by itself. Doing this will not modify any behavior and is safe. If you specifically wanted the numpy scalar type, use `np.bool_` here.\n",
            "Deprecated in NumPy 1.20; for more details and guidance: https://numpy.org/devdocs/release/1.20.0-notes.html#deprecations\n",
            "  # This is added back by InteractiveShellApp.init_path()\n"
          ]
        },
        {
          "output_type": "stream",
          "name": "stdout",
          "text": [
            "precision:  0.98\n",
            "recall:  0.989\n",
            "fscore:  0.984\n",
            "accuracy:  0.992\n",
            "Number of data:  3479\n",
            "--------------------------------------------------\n",
            "128/276:  /content/Resources/BEST_I_CORPUS/TrainingSet/LST20_train_prep/T01452_prep.txt\n"
          ]
        },
        {
          "output_type": "stream",
          "name": "stderr",
          "text": [
            "/usr/local/lib/python3.7/dist-packages/ipykernel_launcher.py:11: DeprecationWarning: `np.bool` is a deprecated alias for the builtin `bool`. To silence this warning, use `bool` by itself. Doing this will not modify any behavior and is safe. If you specifically wanted the numpy scalar type, use `np.bool_` here.\n",
            "Deprecated in NumPy 1.20; for more details and guidance: https://numpy.org/devdocs/release/1.20.0-notes.html#deprecations\n",
            "  # This is added back by InteractiveShellApp.init_path()\n"
          ]
        },
        {
          "output_type": "stream",
          "name": "stdout",
          "text": [
            "precision:  0.962\n",
            "recall:  0.986\n",
            "fscore:  0.974\n",
            "accuracy:  0.986\n",
            "Number of data:  5613\n",
            "--------------------------------------------------\n",
            "129/276:  /content/Resources/BEST_I_CORPUS/TrainingSet/LST20_train_prep/T00526_prep.txt\n"
          ]
        },
        {
          "output_type": "stream",
          "name": "stderr",
          "text": [
            "/usr/local/lib/python3.7/dist-packages/ipykernel_launcher.py:11: DeprecationWarning: `np.bool` is a deprecated alias for the builtin `bool`. To silence this warning, use `bool` by itself. Doing this will not modify any behavior and is safe. If you specifically wanted the numpy scalar type, use `np.bool_` here.\n",
            "Deprecated in NumPy 1.20; for more details and guidance: https://numpy.org/devdocs/release/1.20.0-notes.html#deprecations\n",
            "  # This is added back by InteractiveShellApp.init_path()\n"
          ]
        },
        {
          "output_type": "stream",
          "name": "stdout",
          "text": [
            "precision:  0.965\n",
            "recall:  0.969\n",
            "fscore:  0.967\n",
            "accuracy:  0.983\n",
            "Number of data:  6191\n",
            "--------------------------------------------------\n",
            "130/276:  /content/Resources/BEST_I_CORPUS/TrainingSet/LST20_train_prep/T01265_prep.txt\n"
          ]
        },
        {
          "output_type": "stream",
          "name": "stderr",
          "text": [
            "/usr/local/lib/python3.7/dist-packages/ipykernel_launcher.py:11: DeprecationWarning: `np.bool` is a deprecated alias for the builtin `bool`. To silence this warning, use `bool` by itself. Doing this will not modify any behavior and is safe. If you specifically wanted the numpy scalar type, use `np.bool_` here.\n",
            "Deprecated in NumPy 1.20; for more details and guidance: https://numpy.org/devdocs/release/1.20.0-notes.html#deprecations\n",
            "  # This is added back by InteractiveShellApp.init_path()\n"
          ]
        },
        {
          "output_type": "stream",
          "name": "stdout",
          "text": [
            "precision:  0.959\n",
            "recall:  0.984\n",
            "fscore:  0.971\n",
            "accuracy:  0.985\n",
            "Number of data:  1626\n",
            "--------------------------------------------------\n",
            "131/276:  /content/Resources/BEST_I_CORPUS/TrainingSet/LST20_train_prep/T13075_prep.txt\n"
          ]
        },
        {
          "output_type": "stream",
          "name": "stderr",
          "text": [
            "/usr/local/lib/python3.7/dist-packages/ipykernel_launcher.py:11: DeprecationWarning: `np.bool` is a deprecated alias for the builtin `bool`. To silence this warning, use `bool` by itself. Doing this will not modify any behavior and is safe. If you specifically wanted the numpy scalar type, use `np.bool_` here.\n",
            "Deprecated in NumPy 1.20; for more details and guidance: https://numpy.org/devdocs/release/1.20.0-notes.html#deprecations\n",
            "  # This is added back by InteractiveShellApp.init_path()\n"
          ]
        },
        {
          "output_type": "stream",
          "name": "stdout",
          "text": [
            "precision:  0.981\n",
            "recall:  0.986\n",
            "fscore:  0.983\n",
            "accuracy:  0.991\n",
            "Number of data:  1622\n",
            "--------------------------------------------------\n",
            "132/276:  /content/Resources/BEST_I_CORPUS/TrainingSet/novel/novel_00084.txt\n"
          ]
        },
        {
          "output_type": "stream",
          "name": "stderr",
          "text": [
            "/usr/local/lib/python3.7/dist-packages/ipykernel_launcher.py:11: DeprecationWarning: `np.bool` is a deprecated alias for the builtin `bool`. To silence this warning, use `bool` by itself. Doing this will not modify any behavior and is safe. If you specifically wanted the numpy scalar type, use `np.bool_` here.\n",
            "Deprecated in NumPy 1.20; for more details and guidance: https://numpy.org/devdocs/release/1.20.0-notes.html#deprecations\n",
            "  # This is added back by InteractiveShellApp.init_path()\n"
          ]
        },
        {
          "output_type": "stream",
          "name": "stdout",
          "text": [
            "precision:  0.966\n",
            "recall:  0.967\n",
            "fscore:  0.967\n",
            "accuracy:  0.98\n",
            "Number of data:  33674\n",
            "--------------------------------------------------\n",
            "133/276:  /content/Resources/BEST_I_CORPUS/TrainingSet/LST20_eval_prep/T12553_prep.txt\n",
            "precision:  0.95\n",
            "recall:  0.967\n",
            "fscore:  0.959\n",
            "accuracy:  0.98\n",
            "Number of data:  1154\n",
            "--------------------------------------------------\n",
            "134/276:  /content/Resources/BEST_I_CORPUS/TrainingSet/LST20_train_prep/T10394_prep.txt\n"
          ]
        },
        {
          "output_type": "stream",
          "name": "stderr",
          "text": [
            "/usr/local/lib/python3.7/dist-packages/ipykernel_launcher.py:11: DeprecationWarning: `np.bool` is a deprecated alias for the builtin `bool`. To silence this warning, use `bool` by itself. Doing this will not modify any behavior and is safe. If you specifically wanted the numpy scalar type, use `np.bool_` here.\n",
            "Deprecated in NumPy 1.20; for more details and guidance: https://numpy.org/devdocs/release/1.20.0-notes.html#deprecations\n",
            "  # This is added back by InteractiveShellApp.init_path()\n",
            "/usr/local/lib/python3.7/dist-packages/ipykernel_launcher.py:11: DeprecationWarning: `np.bool` is a deprecated alias for the builtin `bool`. To silence this warning, use `bool` by itself. Doing this will not modify any behavior and is safe. If you specifically wanted the numpy scalar type, use `np.bool_` here.\n",
            "Deprecated in NumPy 1.20; for more details and guidance: https://numpy.org/devdocs/release/1.20.0-notes.html#deprecations\n",
            "  # This is added back by InteractiveShellApp.init_path()\n"
          ]
        },
        {
          "output_type": "stream",
          "name": "stdout",
          "text": [
            "precision:  0.97\n",
            "recall:  0.978\n",
            "fscore:  0.974\n",
            "accuracy:  0.986\n",
            "Number of data:  2312\n",
            "--------------------------------------------------\n",
            "135/276:  /content/Resources/BEST_I_CORPUS/TrainingSet/LST20_train_prep/T01167_prep.txt\n",
            "precision:  0.989\n",
            "recall:  0.953\n",
            "fscore:  0.971\n",
            "accuracy:  0.983\n",
            "Number of data:  629\n",
            "--------------------------------------------------\n",
            "136/276:  /content/Resources/BEST_I_CORPUS/TrainingSet/LST20_train_prep/T12882_prep.txt\n"
          ]
        },
        {
          "output_type": "stream",
          "name": "stderr",
          "text": [
            "/usr/local/lib/python3.7/dist-packages/ipykernel_launcher.py:11: DeprecationWarning: `np.bool` is a deprecated alias for the builtin `bool`. To silence this warning, use `bool` by itself. Doing this will not modify any behavior and is safe. If you specifically wanted the numpy scalar type, use `np.bool_` here.\n",
            "Deprecated in NumPy 1.20; for more details and guidance: https://numpy.org/devdocs/release/1.20.0-notes.html#deprecations\n",
            "  # This is added back by InteractiveShellApp.init_path()\n",
            "/usr/local/lib/python3.7/dist-packages/ipykernel_launcher.py:11: DeprecationWarning: `np.bool` is a deprecated alias for the builtin `bool`. To silence this warning, use `bool` by itself. Doing this will not modify any behavior and is safe. If you specifically wanted the numpy scalar type, use `np.bool_` here.\n",
            "Deprecated in NumPy 1.20; for more details and guidance: https://numpy.org/devdocs/release/1.20.0-notes.html#deprecations\n",
            "  # This is added back by InteractiveShellApp.init_path()\n"
          ]
        },
        {
          "output_type": "stream",
          "name": "stdout",
          "text": [
            "precision:  0.98\n",
            "recall:  0.978\n",
            "fscore:  0.979\n",
            "accuracy:  0.99\n",
            "Number of data:  1779\n",
            "--------------------------------------------------\n",
            "137/276:  /content/Resources/BEST_I_CORPUS/TrainingSet/article/article_00051.txt\n"
          ]
        },
        {
          "output_type": "stream",
          "name": "stderr",
          "text": [
            "/usr/local/lib/python3.7/dist-packages/ipykernel_launcher.py:11: DeprecationWarning: `np.bool` is a deprecated alias for the builtin `bool`. To silence this warning, use `bool` by itself. Doing this will not modify any behavior and is safe. If you specifically wanted the numpy scalar type, use `np.bool_` here.\n",
            "Deprecated in NumPy 1.20; for more details and guidance: https://numpy.org/devdocs/release/1.20.0-notes.html#deprecations\n",
            "  # This is added back by InteractiveShellApp.init_path()\n"
          ]
        },
        {
          "output_type": "stream",
          "name": "stdout",
          "text": [
            "precision:  0.967\n",
            "recall:  0.974\n",
            "fscore:  0.97\n",
            "accuracy:  0.984\n",
            "Number of data:  20798\n",
            "--------------------------------------------------\n",
            "138/276:  /content/Resources/BEST_I_CORPUS/TrainingSet/LST20_train_prep/T01516_prep.txt\n",
            "precision:  0.952\n",
            "recall:  0.957\n",
            "fscore:  0.954\n",
            "accuracy:  0.978\n",
            "Number of data:  692\n",
            "--------------------------------------------------\n",
            "139/276:  /content/Resources/BEST_I_CORPUS/TrainingSet/LST20_test_prep/T12618_prep.txt\n"
          ]
        },
        {
          "output_type": "stream",
          "name": "stderr",
          "text": [
            "/usr/local/lib/python3.7/dist-packages/ipykernel_launcher.py:11: DeprecationWarning: `np.bool` is a deprecated alias for the builtin `bool`. To silence this warning, use `bool` by itself. Doing this will not modify any behavior and is safe. If you specifically wanted the numpy scalar type, use `np.bool_` here.\n",
            "Deprecated in NumPy 1.20; for more details and guidance: https://numpy.org/devdocs/release/1.20.0-notes.html#deprecations\n",
            "  # This is added back by InteractiveShellApp.init_path()\n",
            "/usr/local/lib/python3.7/dist-packages/ipykernel_launcher.py:11: DeprecationWarning: `np.bool` is a deprecated alias for the builtin `bool`. To silence this warning, use `bool` by itself. Doing this will not modify any behavior and is safe. If you specifically wanted the numpy scalar type, use `np.bool_` here.\n",
            "Deprecated in NumPy 1.20; for more details and guidance: https://numpy.org/devdocs/release/1.20.0-notes.html#deprecations\n",
            "  # This is added back by InteractiveShellApp.init_path()\n"
          ]
        },
        {
          "output_type": "stream",
          "name": "stdout",
          "text": [
            "precision:  0.971\n",
            "recall:  0.984\n",
            "fscore:  0.977\n",
            "accuracy:  0.986\n",
            "Number of data:  2591\n",
            "--------------------------------------------------\n",
            "140/276:  /content/Resources/BEST_I_CORPUS/TrainingSet/LST20_train_prep/T00206_prep.txt\n"
          ]
        },
        {
          "output_type": "stream",
          "name": "stderr",
          "text": [
            "/usr/local/lib/python3.7/dist-packages/ipykernel_launcher.py:11: DeprecationWarning: `np.bool` is a deprecated alias for the builtin `bool`. To silence this warning, use `bool` by itself. Doing this will not modify any behavior and is safe. If you specifically wanted the numpy scalar type, use `np.bool_` here.\n",
            "Deprecated in NumPy 1.20; for more details and guidance: https://numpy.org/devdocs/release/1.20.0-notes.html#deprecations\n",
            "  # This is added back by InteractiveShellApp.init_path()\n"
          ]
        },
        {
          "output_type": "stream",
          "name": "stdout",
          "text": [
            "precision:  0.965\n",
            "recall:  0.974\n",
            "fscore:  0.97\n",
            "accuracy:  0.985\n",
            "Number of data:  4855\n",
            "--------------------------------------------------\n",
            "141/276:  /content/Resources/BEST_I_CORPUS/TrainingSet/LST20_train_prep/T13036_prep.txt\n",
            "precision:  1.0\n",
            "recall:  1.0\n",
            "fscore:  1.0\n",
            "accuracy:  1.0\n",
            "Number of data:  526\n",
            "--------------------------------------------------\n",
            "142/276:  /content/Resources/BEST_I_CORPUS/TrainingSet/LST20_test_prep/T12619_prep.txt\n"
          ]
        },
        {
          "output_type": "stream",
          "name": "stderr",
          "text": [
            "/usr/local/lib/python3.7/dist-packages/ipykernel_launcher.py:11: DeprecationWarning: `np.bool` is a deprecated alias for the builtin `bool`. To silence this warning, use `bool` by itself. Doing this will not modify any behavior and is safe. If you specifically wanted the numpy scalar type, use `np.bool_` here.\n",
            "Deprecated in NumPy 1.20; for more details and guidance: https://numpy.org/devdocs/release/1.20.0-notes.html#deprecations\n",
            "  # This is added back by InteractiveShellApp.init_path()\n",
            "/usr/local/lib/python3.7/dist-packages/ipykernel_launcher.py:11: DeprecationWarning: `np.bool` is a deprecated alias for the builtin `bool`. To silence this warning, use `bool` by itself. Doing this will not modify any behavior and is safe. If you specifically wanted the numpy scalar type, use `np.bool_` here.\n",
            "Deprecated in NumPy 1.20; for more details and guidance: https://numpy.org/devdocs/release/1.20.0-notes.html#deprecations\n",
            "  # This is added back by InteractiveShellApp.init_path()\n"
          ]
        },
        {
          "output_type": "stream",
          "name": "stdout",
          "text": [
            "precision:  0.956\n",
            "recall:  0.974\n",
            "fscore:  0.965\n",
            "accuracy:  0.982\n",
            "Number of data:  3715\n",
            "--------------------------------------------------\n",
            "143/276:  /content/Resources/BEST_I_CORPUS/TrainingSet/LST20_train_prep/T00464_prep.txt\n"
          ]
        },
        {
          "output_type": "stream",
          "name": "stderr",
          "text": [
            "/usr/local/lib/python3.7/dist-packages/ipykernel_launcher.py:11: DeprecationWarning: `np.bool` is a deprecated alias for the builtin `bool`. To silence this warning, use `bool` by itself. Doing this will not modify any behavior and is safe. If you specifically wanted the numpy scalar type, use `np.bool_` here.\n",
            "Deprecated in NumPy 1.20; for more details and guidance: https://numpy.org/devdocs/release/1.20.0-notes.html#deprecations\n",
            "  # This is added back by InteractiveShellApp.init_path()\n"
          ]
        },
        {
          "output_type": "stream",
          "name": "stdout",
          "text": [
            "precision:  0.974\n",
            "recall:  0.971\n",
            "fscore:  0.972\n",
            "accuracy:  0.985\n",
            "Number of data:  1447\n",
            "--------------------------------------------------\n",
            "144/276:  /content/Resources/BEST_I_CORPUS/TrainingSet/LST20_train_prep/T10301_prep.txt\n"
          ]
        },
        {
          "output_type": "stream",
          "name": "stderr",
          "text": [
            "/usr/local/lib/python3.7/dist-packages/ipykernel_launcher.py:11: DeprecationWarning: `np.bool` is a deprecated alias for the builtin `bool`. To silence this warning, use `bool` by itself. Doing this will not modify any behavior and is safe. If you specifically wanted the numpy scalar type, use `np.bool_` here.\n",
            "Deprecated in NumPy 1.20; for more details and guidance: https://numpy.org/devdocs/release/1.20.0-notes.html#deprecations\n",
            "  # This is added back by InteractiveShellApp.init_path()\n"
          ]
        },
        {
          "output_type": "stream",
          "name": "stdout",
          "text": [
            "precision:  0.987\n",
            "recall:  0.997\n",
            "fscore:  0.992\n",
            "accuracy:  0.995\n",
            "Number of data:  2338\n",
            "--------------------------------------------------\n",
            "145/276:  /content/Resources/BEST_I_CORPUS/TrainingSet/LST20_train_prep/T10943_prep.txt\n",
            "precision:  0.982\n",
            "recall:  0.987\n",
            "fscore:  0.985\n",
            "accuracy:  0.991\n",
            "Number of data:  1405\n",
            "--------------------------------------------------\n",
            "146/276:  /content/Resources/BEST_I_CORPUS/TrainingSet/LST20_train_prep/T00683_prep.txt\n"
          ]
        },
        {
          "output_type": "stream",
          "name": "stderr",
          "text": [
            "/usr/local/lib/python3.7/dist-packages/ipykernel_launcher.py:11: DeprecationWarning: `np.bool` is a deprecated alias for the builtin `bool`. To silence this warning, use `bool` by itself. Doing this will not modify any behavior and is safe. If you specifically wanted the numpy scalar type, use `np.bool_` here.\n",
            "Deprecated in NumPy 1.20; for more details and guidance: https://numpy.org/devdocs/release/1.20.0-notes.html#deprecations\n",
            "  # This is added back by InteractiveShellApp.init_path()\n",
            "/usr/local/lib/python3.7/dist-packages/ipykernel_launcher.py:11: DeprecationWarning: `np.bool` is a deprecated alias for the builtin `bool`. To silence this warning, use `bool` by itself. Doing this will not modify any behavior and is safe. If you specifically wanted the numpy scalar type, use `np.bool_` here.\n",
            "Deprecated in NumPy 1.20; for more details and guidance: https://numpy.org/devdocs/release/1.20.0-notes.html#deprecations\n",
            "  # This is added back by InteractiveShellApp.init_path()\n"
          ]
        },
        {
          "output_type": "stream",
          "name": "stdout",
          "text": [
            "precision:  0.953\n",
            "recall:  0.988\n",
            "fscore:  0.97\n",
            "accuracy:  0.984\n",
            "Number of data:  3448\n",
            "--------------------------------------------------\n",
            "147/276:  /content/Resources/BEST_I_CORPUS/TrainingSet/encyclopedia/encyclopedia_00008.txt\n"
          ]
        },
        {
          "output_type": "stream",
          "name": "stderr",
          "text": [
            "/usr/local/lib/python3.7/dist-packages/ipykernel_launcher.py:11: DeprecationWarning: `np.bool` is a deprecated alias for the builtin `bool`. To silence this warning, use `bool` by itself. Doing this will not modify any behavior and is safe. If you specifically wanted the numpy scalar type, use `np.bool_` here.\n",
            "Deprecated in NumPy 1.20; for more details and guidance: https://numpy.org/devdocs/release/1.20.0-notes.html#deprecations\n",
            "  # This is added back by InteractiveShellApp.init_path()\n"
          ]
        },
        {
          "output_type": "stream",
          "name": "stdout",
          "text": [
            "precision:  0.943\n",
            "recall:  0.973\n",
            "fscore:  0.958\n",
            "accuracy:  0.979\n",
            "Number of data:  43724\n",
            "--------------------------------------------------\n",
            "148/276:  /content/Resources/BEST_I_CORPUS/TrainingSet/LST20_eval_prep/T13259_prep.txt\n"
          ]
        },
        {
          "output_type": "stream",
          "name": "stderr",
          "text": [
            "/usr/local/lib/python3.7/dist-packages/ipykernel_launcher.py:11: DeprecationWarning: `np.bool` is a deprecated alias for the builtin `bool`. To silence this warning, use `bool` by itself. Doing this will not modify any behavior and is safe. If you specifically wanted the numpy scalar type, use `np.bool_` here.\n",
            "Deprecated in NumPy 1.20; for more details and guidance: https://numpy.org/devdocs/release/1.20.0-notes.html#deprecations\n",
            "  # This is added back by InteractiveShellApp.init_path()\n"
          ]
        },
        {
          "output_type": "stream",
          "name": "stdout",
          "text": [
            "precision:  0.948\n",
            "recall:  0.979\n",
            "fscore:  0.963\n",
            "accuracy:  0.981\n",
            "Number of data:  1679\n",
            "--------------------------------------------------\n",
            "149/276:  /content/Resources/BEST_I_CORPUS/TrainingSet/article/article_00088.txt\n"
          ]
        },
        {
          "output_type": "stream",
          "name": "stderr",
          "text": [
            "/usr/local/lib/python3.7/dist-packages/ipykernel_launcher.py:11: DeprecationWarning: `np.bool` is a deprecated alias for the builtin `bool`. To silence this warning, use `bool` by itself. Doing this will not modify any behavior and is safe. If you specifically wanted the numpy scalar type, use `np.bool_` here.\n",
            "Deprecated in NumPy 1.20; for more details and guidance: https://numpy.org/devdocs/release/1.20.0-notes.html#deprecations\n",
            "  # This is added back by InteractiveShellApp.init_path()\n"
          ]
        },
        {
          "output_type": "stream",
          "name": "stdout",
          "text": [
            "precision:  0.973\n",
            "recall:  0.968\n",
            "fscore:  0.97\n",
            "accuracy:  0.983\n",
            "Number of data:  10609\n",
            "--------------------------------------------------\n",
            "150/276:  /content/Resources/BEST_I_CORPUS/TrainingSet/LST20_test_prep/T12778_prep.txt\n"
          ]
        },
        {
          "output_type": "stream",
          "name": "stderr",
          "text": [
            "/usr/local/lib/python3.7/dist-packages/ipykernel_launcher.py:11: DeprecationWarning: `np.bool` is a deprecated alias for the builtin `bool`. To silence this warning, use `bool` by itself. Doing this will not modify any behavior and is safe. If you specifically wanted the numpy scalar type, use `np.bool_` here.\n",
            "Deprecated in NumPy 1.20; for more details and guidance: https://numpy.org/devdocs/release/1.20.0-notes.html#deprecations\n",
            "  # This is added back by InteractiveShellApp.init_path()\n"
          ]
        },
        {
          "output_type": "stream",
          "name": "stdout",
          "text": [
            "precision:  0.951\n",
            "recall:  0.964\n",
            "fscore:  0.957\n",
            "accuracy:  0.98\n",
            "Number of data:  2233\n",
            "--------------------------------------------------\n",
            "151/276:  /content/Resources/BEST_I_CORPUS/TrainingSet/LST20_train_prep/T10075_prep.txt\n",
            "precision:  0.968\n",
            "recall:  0.965\n",
            "fscore:  0.967\n",
            "accuracy:  0.983\n",
            "Number of data:  1206\n",
            "--------------------------------------------------\n",
            "152/276:  /content/Resources/BEST_I_CORPUS/TrainingSet/LST20_train_prep/T01390_prep.txt\n"
          ]
        },
        {
          "output_type": "stream",
          "name": "stderr",
          "text": [
            "/usr/local/lib/python3.7/dist-packages/ipykernel_launcher.py:11: DeprecationWarning: `np.bool` is a deprecated alias for the builtin `bool`. To silence this warning, use `bool` by itself. Doing this will not modify any behavior and is safe. If you specifically wanted the numpy scalar type, use `np.bool_` here.\n",
            "Deprecated in NumPy 1.20; for more details and guidance: https://numpy.org/devdocs/release/1.20.0-notes.html#deprecations\n",
            "  # This is added back by InteractiveShellApp.init_path()\n",
            "/usr/local/lib/python3.7/dist-packages/ipykernel_launcher.py:11: DeprecationWarning: `np.bool` is a deprecated alias for the builtin `bool`. To silence this warning, use `bool` by itself. Doing this will not modify any behavior and is safe. If you specifically wanted the numpy scalar type, use `np.bool_` here.\n",
            "Deprecated in NumPy 1.20; for more details and guidance: https://numpy.org/devdocs/release/1.20.0-notes.html#deprecations\n",
            "  # This is added back by InteractiveShellApp.init_path()\n"
          ]
        },
        {
          "output_type": "stream",
          "name": "stdout",
          "text": [
            "precision:  0.968\n",
            "recall:  0.971\n",
            "fscore:  0.969\n",
            "accuracy:  0.984\n",
            "Number of data:  11574\n",
            "--------------------------------------------------\n",
            "153/276:  /content/Resources/BEST_I_CORPUS/TrainingSet/LST20_train_prep/T13004_prep.txt\n"
          ]
        },
        {
          "output_type": "stream",
          "name": "stderr",
          "text": [
            "/usr/local/lib/python3.7/dist-packages/ipykernel_launcher.py:11: DeprecationWarning: `np.bool` is a deprecated alias for the builtin `bool`. To silence this warning, use `bool` by itself. Doing this will not modify any behavior and is safe. If you specifically wanted the numpy scalar type, use `np.bool_` here.\n",
            "Deprecated in NumPy 1.20; for more details and guidance: https://numpy.org/devdocs/release/1.20.0-notes.html#deprecations\n",
            "  # This is added back by InteractiveShellApp.init_path()\n"
          ]
        },
        {
          "output_type": "stream",
          "name": "stdout",
          "text": [
            "precision:  0.973\n",
            "recall:  0.996\n",
            "fscore:  0.984\n",
            "accuracy:  0.991\n",
            "Number of data:  3651\n",
            "--------------------------------------------------\n",
            "154/276:  /content/Resources/BEST_I_CORPUS/TrainingSet/LST20_train_prep/T11697_prep.txt\n",
            "precision:  0.973\n",
            "recall:  0.987\n",
            "fscore:  0.98\n",
            "accuracy:  0.988\n",
            "Number of data:  1233\n",
            "--------------------------------------------------\n",
            "155/276:  /content/Resources/BEST_I_CORPUS/TrainingSet/LST20_train_prep/T11135_prep.txt\n"
          ]
        },
        {
          "output_type": "stream",
          "name": "stderr",
          "text": [
            "/usr/local/lib/python3.7/dist-packages/ipykernel_launcher.py:11: DeprecationWarning: `np.bool` is a deprecated alias for the builtin `bool`. To silence this warning, use `bool` by itself. Doing this will not modify any behavior and is safe. If you specifically wanted the numpy scalar type, use `np.bool_` here.\n",
            "Deprecated in NumPy 1.20; for more details and guidance: https://numpy.org/devdocs/release/1.20.0-notes.html#deprecations\n",
            "  # This is added back by InteractiveShellApp.init_path()\n",
            "/usr/local/lib/python3.7/dist-packages/ipykernel_launcher.py:11: DeprecationWarning: `np.bool` is a deprecated alias for the builtin `bool`. To silence this warning, use `bool` by itself. Doing this will not modify any behavior and is safe. If you specifically wanted the numpy scalar type, use `np.bool_` here.\n",
            "Deprecated in NumPy 1.20; for more details and guidance: https://numpy.org/devdocs/release/1.20.0-notes.html#deprecations\n",
            "  # This is added back by InteractiveShellApp.init_path()\n"
          ]
        },
        {
          "output_type": "stream",
          "name": "stdout",
          "text": [
            "precision:  0.92\n",
            "recall:  0.98\n",
            "fscore:  0.949\n",
            "accuracy:  0.974\n",
            "Number of data:  1003\n",
            "--------------------------------------------------\n",
            "156/276:  /content/Resources/BEST_I_CORPUS/TrainingSet/LST20_train_prep/T00715_prep.txt\n"
          ]
        },
        {
          "output_type": "stream",
          "name": "stderr",
          "text": [
            "/usr/local/lib/python3.7/dist-packages/ipykernel_launcher.py:11: DeprecationWarning: `np.bool` is a deprecated alias for the builtin `bool`. To silence this warning, use `bool` by itself. Doing this will not modify any behavior and is safe. If you specifically wanted the numpy scalar type, use `np.bool_` here.\n",
            "Deprecated in NumPy 1.20; for more details and guidance: https://numpy.org/devdocs/release/1.20.0-notes.html#deprecations\n",
            "  # This is added back by InteractiveShellApp.init_path()\n"
          ]
        },
        {
          "output_type": "stream",
          "name": "stdout",
          "text": [
            "precision:  0.973\n",
            "recall:  0.981\n",
            "fscore:  0.977\n",
            "accuracy:  0.988\n",
            "Number of data:  3140\n",
            "--------------------------------------------------\n",
            "157/276:  /content/Resources/BEST_I_CORPUS/TrainingSet/LST20_train_prep/T11431_prep.txt\n",
            "precision:  0.991\n",
            "recall:  0.987\n",
            "fscore:  0.989\n",
            "accuracy:  0.994\n",
            "Number of data:  851\n",
            "--------------------------------------------------\n",
            "158/276:  /content/Resources/BEST_I_CORPUS/TrainingSet/LST20_train_prep/T10705_prep.txt\n"
          ]
        },
        {
          "output_type": "stream",
          "name": "stderr",
          "text": [
            "/usr/local/lib/python3.7/dist-packages/ipykernel_launcher.py:11: DeprecationWarning: `np.bool` is a deprecated alias for the builtin `bool`. To silence this warning, use `bool` by itself. Doing this will not modify any behavior and is safe. If you specifically wanted the numpy scalar type, use `np.bool_` here.\n",
            "Deprecated in NumPy 1.20; for more details and guidance: https://numpy.org/devdocs/release/1.20.0-notes.html#deprecations\n",
            "  # This is added back by InteractiveShellApp.init_path()\n",
            "/usr/local/lib/python3.7/dist-packages/ipykernel_launcher.py:11: DeprecationWarning: `np.bool` is a deprecated alias for the builtin `bool`. To silence this warning, use `bool` by itself. Doing this will not modify any behavior and is safe. If you specifically wanted the numpy scalar type, use `np.bool_` here.\n",
            "Deprecated in NumPy 1.20; for more details and guidance: https://numpy.org/devdocs/release/1.20.0-notes.html#deprecations\n",
            "  # This is added back by InteractiveShellApp.init_path()\n"
          ]
        },
        {
          "output_type": "stream",
          "name": "stdout",
          "text": [
            "precision:  0.966\n",
            "recall:  0.982\n",
            "fscore:  0.974\n",
            "accuracy:  0.986\n",
            "Number of data:  1651\n",
            "--------------------------------------------------\n",
            "159/276:  /content/Resources/BEST_I_CORPUS/TrainingSet/LST20_train_prep/T10274_prep.txt\n",
            "precision:  0.986\n",
            "recall:  0.979\n",
            "fscore:  0.982\n",
            "accuracy:  0.99\n",
            "Number of data:  1051\n",
            "--------------------------------------------------\n",
            "160/276:  /content/Resources/BEST_I_CORPUS/TrainingSet/news/news_00083.txt\n"
          ]
        },
        {
          "output_type": "stream",
          "name": "stderr",
          "text": [
            "/usr/local/lib/python3.7/dist-packages/ipykernel_launcher.py:11: DeprecationWarning: `np.bool` is a deprecated alias for the builtin `bool`. To silence this warning, use `bool` by itself. Doing this will not modify any behavior and is safe. If you specifically wanted the numpy scalar type, use `np.bool_` here.\n",
            "Deprecated in NumPy 1.20; for more details and guidance: https://numpy.org/devdocs/release/1.20.0-notes.html#deprecations\n",
            "  # This is added back by InteractiveShellApp.init_path()\n",
            "/usr/local/lib/python3.7/dist-packages/ipykernel_launcher.py:11: DeprecationWarning: `np.bool` is a deprecated alias for the builtin `bool`. To silence this warning, use `bool` by itself. Doing this will not modify any behavior and is safe. If you specifically wanted the numpy scalar type, use `np.bool_` here.\n",
            "Deprecated in NumPy 1.20; for more details and guidance: https://numpy.org/devdocs/release/1.20.0-notes.html#deprecations\n",
            "  # This is added back by InteractiveShellApp.init_path()\n"
          ]
        },
        {
          "output_type": "stream",
          "name": "stdout",
          "text": [
            "precision:  0.933\n",
            "recall:  0.961\n",
            "fscore:  0.947\n",
            "accuracy:  0.972\n",
            "Number of data:  58042\n",
            "--------------------------------------------------\n",
            "161/276:  /content/Resources/BEST_I_CORPUS/TrainingSet/LST20_train_prep/T00885_prep.txt\n"
          ]
        },
        {
          "output_type": "stream",
          "name": "stderr",
          "text": [
            "/usr/local/lib/python3.7/dist-packages/ipykernel_launcher.py:11: DeprecationWarning: `np.bool` is a deprecated alias for the builtin `bool`. To silence this warning, use `bool` by itself. Doing this will not modify any behavior and is safe. If you specifically wanted the numpy scalar type, use `np.bool_` here.\n",
            "Deprecated in NumPy 1.20; for more details and guidance: https://numpy.org/devdocs/release/1.20.0-notes.html#deprecations\n",
            "  # This is added back by InteractiveShellApp.init_path()\n"
          ]
        },
        {
          "output_type": "stream",
          "name": "stdout",
          "text": [
            "precision:  0.972\n",
            "recall:  0.984\n",
            "fscore:  0.978\n",
            "accuracy:  0.988\n",
            "Number of data:  14504\n",
            "--------------------------------------------------\n",
            "162/276:  /content/Resources/BEST_I_CORPUS/TrainingSet/LST20_train_prep/T01189_prep.txt\n"
          ]
        },
        {
          "output_type": "stream",
          "name": "stderr",
          "text": [
            "/usr/local/lib/python3.7/dist-packages/ipykernel_launcher.py:11: DeprecationWarning: `np.bool` is a deprecated alias for the builtin `bool`. To silence this warning, use `bool` by itself. Doing this will not modify any behavior and is safe. If you specifically wanted the numpy scalar type, use `np.bool_` here.\n",
            "Deprecated in NumPy 1.20; for more details and guidance: https://numpy.org/devdocs/release/1.20.0-notes.html#deprecations\n",
            "  # This is added back by InteractiveShellApp.init_path()\n"
          ]
        },
        {
          "output_type": "stream",
          "name": "stdout",
          "text": [
            "precision:  0.946\n",
            "recall:  0.972\n",
            "fscore:  0.959\n",
            "accuracy:  0.977\n",
            "Number of data:  2109\n",
            "--------------------------------------------------\n",
            "163/276:  /content/Resources/BEST_I_CORPUS/TrainingSet/LST20_train_prep/T01563_prep.txt\n",
            "precision:  0.959\n",
            "recall:  0.981\n",
            "fscore:  0.97\n",
            "accuracy:  0.984\n",
            "Number of data:  1167\n",
            "--------------------------------------------------\n",
            "164/276:  /content/Resources/BEST_I_CORPUS/TrainingSet/LST20_train_prep/T11352_prep.txt\n"
          ]
        },
        {
          "output_type": "stream",
          "name": "stderr",
          "text": [
            "/usr/local/lib/python3.7/dist-packages/ipykernel_launcher.py:11: DeprecationWarning: `np.bool` is a deprecated alias for the builtin `bool`. To silence this warning, use `bool` by itself. Doing this will not modify any behavior and is safe. If you specifically wanted the numpy scalar type, use `np.bool_` here.\n",
            "Deprecated in NumPy 1.20; for more details and guidance: https://numpy.org/devdocs/release/1.20.0-notes.html#deprecations\n",
            "  # This is added back by InteractiveShellApp.init_path()\n",
            "/usr/local/lib/python3.7/dist-packages/ipykernel_launcher.py:11: DeprecationWarning: `np.bool` is a deprecated alias for the builtin `bool`. To silence this warning, use `bool` by itself. Doing this will not modify any behavior and is safe. If you specifically wanted the numpy scalar type, use `np.bool_` here.\n",
            "Deprecated in NumPy 1.20; for more details and guidance: https://numpy.org/devdocs/release/1.20.0-notes.html#deprecations\n",
            "  # This is added back by InteractiveShellApp.init_path()\n"
          ]
        },
        {
          "output_type": "stream",
          "name": "stdout",
          "text": [
            "precision:  0.968\n",
            "recall:  0.974\n",
            "fscore:  0.971\n",
            "accuracy:  0.987\n",
            "Number of data:  3215\n",
            "--------------------------------------------------\n",
            "165/276:  /content/Resources/BEST_I_CORPUS/TrainingSet/novel/novel_00073.txt\n"
          ]
        },
        {
          "output_type": "stream",
          "name": "stderr",
          "text": [
            "/usr/local/lib/python3.7/dist-packages/ipykernel_launcher.py:11: DeprecationWarning: `np.bool` is a deprecated alias for the builtin `bool`. To silence this warning, use `bool` by itself. Doing this will not modify any behavior and is safe. If you specifically wanted the numpy scalar type, use `np.bool_` here.\n",
            "Deprecated in NumPy 1.20; for more details and guidance: https://numpy.org/devdocs/release/1.20.0-notes.html#deprecations\n",
            "  # This is added back by InteractiveShellApp.init_path()\n"
          ]
        },
        {
          "output_type": "stream",
          "name": "stdout",
          "text": [
            "precision:  0.968\n",
            "recall:  0.973\n",
            "fscore:  0.971\n",
            "accuracy:  0.982\n",
            "Number of data:  41506\n",
            "--------------------------------------------------\n",
            "166/276:  /content/Resources/BEST_I_CORPUS/TrainingSet/LST20_train_prep/T10679_prep.txt\n"
          ]
        },
        {
          "output_type": "stream",
          "name": "stderr",
          "text": [
            "/usr/local/lib/python3.7/dist-packages/ipykernel_launcher.py:11: DeprecationWarning: `np.bool` is a deprecated alias for the builtin `bool`. To silence this warning, use `bool` by itself. Doing this will not modify any behavior and is safe. If you specifically wanted the numpy scalar type, use `np.bool_` here.\n",
            "Deprecated in NumPy 1.20; for more details and guidance: https://numpy.org/devdocs/release/1.20.0-notes.html#deprecations\n",
            "  # This is added back by InteractiveShellApp.init_path()\n"
          ]
        },
        {
          "output_type": "stream",
          "name": "stdout",
          "text": [
            "precision:  0.967\n",
            "recall:  0.968\n",
            "fscore:  0.968\n",
            "accuracy:  0.983\n",
            "Number of data:  2370\n",
            "--------------------------------------------------\n",
            "167/276:  /content/Resources/BEST_I_CORPUS/TrainingSet/IMDB_train/imdb_110.txt\n"
          ]
        },
        {
          "output_type": "stream",
          "name": "stderr",
          "text": [
            "/usr/local/lib/python3.7/dist-packages/ipykernel_launcher.py:11: DeprecationWarning: `np.bool` is a deprecated alias for the builtin `bool`. To silence this warning, use `bool` by itself. Doing this will not modify any behavior and is safe. If you specifically wanted the numpy scalar type, use `np.bool_` here.\n",
            "Deprecated in NumPy 1.20; for more details and guidance: https://numpy.org/devdocs/release/1.20.0-notes.html#deprecations\n",
            "  # This is added back by InteractiveShellApp.init_path()\n"
          ]
        },
        {
          "output_type": "stream",
          "name": "stdout",
          "text": [
            "precision:  0.912\n",
            "recall:  0.9\n",
            "fscore:  0.906\n",
            "accuracy:  0.95\n",
            "Number of data:  1602\n",
            "--------------------------------------------------\n",
            "168/276:  /content/Resources/BEST_I_CORPUS/TrainingSet/LST20_train_prep/T01728_prep.txt\n"
          ]
        },
        {
          "output_type": "stream",
          "name": "stderr",
          "text": [
            "/usr/local/lib/python3.7/dist-packages/ipykernel_launcher.py:11: DeprecationWarning: `np.bool` is a deprecated alias for the builtin `bool`. To silence this warning, use `bool` by itself. Doing this will not modify any behavior and is safe. If you specifically wanted the numpy scalar type, use `np.bool_` here.\n",
            "Deprecated in NumPy 1.20; for more details and guidance: https://numpy.org/devdocs/release/1.20.0-notes.html#deprecations\n",
            "  # This is added back by InteractiveShellApp.init_path()\n"
          ]
        },
        {
          "output_type": "stream",
          "name": "stdout",
          "text": [
            "precision:  0.961\n",
            "recall:  0.979\n",
            "fscore:  0.97\n",
            "accuracy:  0.982\n",
            "Number of data:  3187\n",
            "--------------------------------------------------\n",
            "169/276:  /content/Resources/BEST_I_CORPUS/TrainingSet/LST20_train_prep/T12359_prep.txt\n",
            "precision:  0.976\n",
            "recall:  0.976\n",
            "fscore:  0.976\n",
            "accuracy:  0.988\n",
            "Number of data:  505\n",
            "--------------------------------------------------\n",
            "170/276:  /content/Resources/BEST_I_CORPUS/TrainingSet/LST20_train_prep/T11422_prep.txt\n"
          ]
        },
        {
          "output_type": "stream",
          "name": "stderr",
          "text": [
            "/usr/local/lib/python3.7/dist-packages/ipykernel_launcher.py:11: DeprecationWarning: `np.bool` is a deprecated alias for the builtin `bool`. To silence this warning, use `bool` by itself. Doing this will not modify any behavior and is safe. If you specifically wanted the numpy scalar type, use `np.bool_` here.\n",
            "Deprecated in NumPy 1.20; for more details and guidance: https://numpy.org/devdocs/release/1.20.0-notes.html#deprecations\n",
            "  # This is added back by InteractiveShellApp.init_path()\n",
            "/usr/local/lib/python3.7/dist-packages/ipykernel_launcher.py:11: DeprecationWarning: `np.bool` is a deprecated alias for the builtin `bool`. To silence this warning, use `bool` by itself. Doing this will not modify any behavior and is safe. If you specifically wanted the numpy scalar type, use `np.bool_` here.\n",
            "Deprecated in NumPy 1.20; for more details and guidance: https://numpy.org/devdocs/release/1.20.0-notes.html#deprecations\n",
            "  # This is added back by InteractiveShellApp.init_path()\n"
          ]
        },
        {
          "output_type": "stream",
          "name": "stdout",
          "text": [
            "precision:  0.961\n",
            "recall:  0.977\n",
            "fscore:  0.969\n",
            "accuracy:  0.983\n",
            "Number of data:  2026\n",
            "--------------------------------------------------\n",
            "171/276:  /content/Resources/BEST_I_CORPUS/TrainingSet/news/news_00070.txt\n"
          ]
        },
        {
          "output_type": "stream",
          "name": "stderr",
          "text": [
            "/usr/local/lib/python3.7/dist-packages/ipykernel_launcher.py:11: DeprecationWarning: `np.bool` is a deprecated alias for the builtin `bool`. To silence this warning, use `bool` by itself. Doing this will not modify any behavior and is safe. If you specifically wanted the numpy scalar type, use `np.bool_` here.\n",
            "Deprecated in NumPy 1.20; for more details and guidance: https://numpy.org/devdocs/release/1.20.0-notes.html#deprecations\n",
            "  # This is added back by InteractiveShellApp.init_path()\n"
          ]
        },
        {
          "output_type": "stream",
          "name": "stdout",
          "text": [
            "precision:  0.925\n",
            "recall:  0.952\n",
            "fscore:  0.938\n",
            "accuracy:  0.967\n",
            "Number of data:  55890\n",
            "--------------------------------------------------\n",
            "172/276:  /content/Resources/BEST_I_CORPUS/TrainingSet/IMDB_train/imdb_248.txt\n"
          ]
        },
        {
          "output_type": "stream",
          "name": "stderr",
          "text": [
            "/usr/local/lib/python3.7/dist-packages/ipykernel_launcher.py:11: DeprecationWarning: `np.bool` is a deprecated alias for the builtin `bool`. To silence this warning, use `bool` by itself. Doing this will not modify any behavior and is safe. If you specifically wanted the numpy scalar type, use `np.bool_` here.\n",
            "Deprecated in NumPy 1.20; for more details and guidance: https://numpy.org/devdocs/release/1.20.0-notes.html#deprecations\n",
            "  # This is added back by InteractiveShellApp.init_path()\n"
          ]
        },
        {
          "output_type": "stream",
          "name": "stdout",
          "text": [
            "precision:  0.875\n",
            "recall:  0.883\n",
            "fscore:  0.879\n",
            "accuracy:  0.942\n",
            "Number of data:  3478\n",
            "--------------------------------------------------\n",
            "173/276:  /content/Resources/BEST_I_CORPUS/TrainingSet/LST20_eval_prep/T10259_prep.txt\n",
            "precision:  0.973\n",
            "recall:  0.98\n",
            "fscore:  0.976\n",
            "accuracy:  0.987\n",
            "Number of data:  537\n",
            "--------------------------------------------------\n",
            "174/276:  /content/Resources/BEST_I_CORPUS/TrainingSet/LST20_eval_prep/T13202_prep.txt\n"
          ]
        },
        {
          "output_type": "stream",
          "name": "stderr",
          "text": [
            "/usr/local/lib/python3.7/dist-packages/ipykernel_launcher.py:11: DeprecationWarning: `np.bool` is a deprecated alias for the builtin `bool`. To silence this warning, use `bool` by itself. Doing this will not modify any behavior and is safe. If you specifically wanted the numpy scalar type, use `np.bool_` here.\n",
            "Deprecated in NumPy 1.20; for more details and guidance: https://numpy.org/devdocs/release/1.20.0-notes.html#deprecations\n",
            "  # This is added back by InteractiveShellApp.init_path()\n",
            "/usr/local/lib/python3.7/dist-packages/ipykernel_launcher.py:11: DeprecationWarning: `np.bool` is a deprecated alias for the builtin `bool`. To silence this warning, use `bool` by itself. Doing this will not modify any behavior and is safe. If you specifically wanted the numpy scalar type, use `np.bool_` here.\n",
            "Deprecated in NumPy 1.20; for more details and guidance: https://numpy.org/devdocs/release/1.20.0-notes.html#deprecations\n",
            "  # This is added back by InteractiveShellApp.init_path()\n"
          ]
        },
        {
          "output_type": "stream",
          "name": "stdout",
          "text": [
            "precision:  0.962\n",
            "recall:  0.966\n",
            "fscore:  0.964\n",
            "accuracy:  0.983\n",
            "Number of data:  1127\n",
            "--------------------------------------------------\n",
            "175/276:  /content/Resources/BEST_I_CORPUS/TrainingSet/LST20_train_prep/T10173_prep.txt\n"
          ]
        },
        {
          "output_type": "stream",
          "name": "stderr",
          "text": [
            "/usr/local/lib/python3.7/dist-packages/ipykernel_launcher.py:11: DeprecationWarning: `np.bool` is a deprecated alias for the builtin `bool`. To silence this warning, use `bool` by itself. Doing this will not modify any behavior and is safe. If you specifically wanted the numpy scalar type, use `np.bool_` here.\n",
            "Deprecated in NumPy 1.20; for more details and guidance: https://numpy.org/devdocs/release/1.20.0-notes.html#deprecations\n",
            "  # This is added back by InteractiveShellApp.init_path()\n"
          ]
        },
        {
          "output_type": "stream",
          "name": "stdout",
          "text": [
            "precision:  0.967\n",
            "recall:  0.996\n",
            "fscore:  0.981\n",
            "accuracy:  0.99\n",
            "Number of data:  1837\n",
            "--------------------------------------------------\n",
            "176/276:  /content/Resources/BEST_I_CORPUS/TrainingSet/LST20_train_prep/T01631_prep.txt\n",
            "precision:  0.97\n",
            "recall:  0.953\n",
            "fscore:  0.961\n",
            "accuracy:  0.982\n",
            "Number of data:  1306\n",
            "--------------------------------------------------\n",
            "177/276:  /content/Resources/BEST_I_CORPUS/TrainingSet/LST20_train_prep/T11016_prep.txt\n"
          ]
        },
        {
          "output_type": "stream",
          "name": "stderr",
          "text": [
            "/usr/local/lib/python3.7/dist-packages/ipykernel_launcher.py:11: DeprecationWarning: `np.bool` is a deprecated alias for the builtin `bool`. To silence this warning, use `bool` by itself. Doing this will not modify any behavior and is safe. If you specifically wanted the numpy scalar type, use `np.bool_` here.\n",
            "Deprecated in NumPy 1.20; for more details and guidance: https://numpy.org/devdocs/release/1.20.0-notes.html#deprecations\n",
            "  # This is added back by InteractiveShellApp.init_path()\n",
            "/usr/local/lib/python3.7/dist-packages/ipykernel_launcher.py:11: DeprecationWarning: `np.bool` is a deprecated alias for the builtin `bool`. To silence this warning, use `bool` by itself. Doing this will not modify any behavior and is safe. If you specifically wanted the numpy scalar type, use `np.bool_` here.\n",
            "Deprecated in NumPy 1.20; for more details and guidance: https://numpy.org/devdocs/release/1.20.0-notes.html#deprecations\n",
            "  # This is added back by InteractiveShellApp.init_path()\n"
          ]
        },
        {
          "output_type": "stream",
          "name": "stdout",
          "text": [
            "precision:  0.985\n",
            "recall:  0.989\n",
            "fscore:  0.987\n",
            "accuracy:  0.993\n",
            "Number of data:  1686\n",
            "--------------------------------------------------\n",
            "178/276:  /content/Resources/BEST_I_CORPUS/TrainingSet/LST20_train_prep/T12016_prep.txt\n",
            "precision:  0.932\n",
            "recall:  0.967\n",
            "fscore:  0.949\n",
            "accuracy:  0.97\n",
            "Number of data:  933\n",
            "--------------------------------------------------\n",
            "179/276:  /content/Resources/BEST_I_CORPUS/TrainingSet/LST20_train_prep/T00282_prep.txt\n"
          ]
        },
        {
          "output_type": "stream",
          "name": "stderr",
          "text": [
            "/usr/local/lib/python3.7/dist-packages/ipykernel_launcher.py:11: DeprecationWarning: `np.bool` is a deprecated alias for the builtin `bool`. To silence this warning, use `bool` by itself. Doing this will not modify any behavior and is safe. If you specifically wanted the numpy scalar type, use `np.bool_` here.\n",
            "Deprecated in NumPy 1.20; for more details and guidance: https://numpy.org/devdocs/release/1.20.0-notes.html#deprecations\n",
            "  # This is added back by InteractiveShellApp.init_path()\n",
            "/usr/local/lib/python3.7/dist-packages/ipykernel_launcher.py:11: DeprecationWarning: `np.bool` is a deprecated alias for the builtin `bool`. To silence this warning, use `bool` by itself. Doing this will not modify any behavior and is safe. If you specifically wanted the numpy scalar type, use `np.bool_` here.\n",
            "Deprecated in NumPy 1.20; for more details and guidance: https://numpy.org/devdocs/release/1.20.0-notes.html#deprecations\n",
            "  # This is added back by InteractiveShellApp.init_path()\n"
          ]
        },
        {
          "output_type": "stream",
          "name": "stdout",
          "text": [
            "precision:  0.952\n",
            "recall:  0.979\n",
            "fscore:  0.965\n",
            "accuracy:  0.982\n",
            "Number of data:  5505\n",
            "--------------------------------------------------\n",
            "180/276:  /content/Resources/BEST_I_CORPUS/TrainingSet/LST20_train_prep/T10403_prep.txt\n"
          ]
        },
        {
          "output_type": "stream",
          "name": "stderr",
          "text": [
            "/usr/local/lib/python3.7/dist-packages/ipykernel_launcher.py:11: DeprecationWarning: `np.bool` is a deprecated alias for the builtin `bool`. To silence this warning, use `bool` by itself. Doing this will not modify any behavior and is safe. If you specifically wanted the numpy scalar type, use `np.bool_` here.\n",
            "Deprecated in NumPy 1.20; for more details and guidance: https://numpy.org/devdocs/release/1.20.0-notes.html#deprecations\n",
            "  # This is added back by InteractiveShellApp.init_path()\n"
          ]
        },
        {
          "output_type": "stream",
          "name": "stdout",
          "text": [
            "precision:  0.97\n",
            "recall:  0.97\n",
            "fscore:  0.97\n",
            "accuracy:  0.984\n",
            "Number of data:  1483\n",
            "--------------------------------------------------\n",
            "181/276:  /content/Resources/BEST_I_CORPUS/TrainingSet/IMDB_train/imdb_57.txt\n",
            "precision:  0.927\n",
            "recall:  0.913\n",
            "fscore:  0.92\n",
            "accuracy:  0.958\n",
            "Number of data:  734\n",
            "--------------------------------------------------\n",
            "182/276:  /content/Resources/BEST_I_CORPUS/TrainingSet/news/news_00050.txt\n"
          ]
        },
        {
          "output_type": "stream",
          "name": "stderr",
          "text": [
            "/usr/local/lib/python3.7/dist-packages/ipykernel_launcher.py:11: DeprecationWarning: `np.bool` is a deprecated alias for the builtin `bool`. To silence this warning, use `bool` by itself. Doing this will not modify any behavior and is safe. If you specifically wanted the numpy scalar type, use `np.bool_` here.\n",
            "Deprecated in NumPy 1.20; for more details and guidance: https://numpy.org/devdocs/release/1.20.0-notes.html#deprecations\n",
            "  # This is added back by InteractiveShellApp.init_path()\n",
            "/usr/local/lib/python3.7/dist-packages/ipykernel_launcher.py:11: DeprecationWarning: `np.bool` is a deprecated alias for the builtin `bool`. To silence this warning, use `bool` by itself. Doing this will not modify any behavior and is safe. If you specifically wanted the numpy scalar type, use `np.bool_` here.\n",
            "Deprecated in NumPy 1.20; for more details and guidance: https://numpy.org/devdocs/release/1.20.0-notes.html#deprecations\n",
            "  # This is added back by InteractiveShellApp.init_path()\n"
          ]
        },
        {
          "output_type": "stream",
          "name": "stdout",
          "text": [
            "precision:  0.931\n",
            "recall:  0.957\n",
            "fscore:  0.944\n",
            "accuracy:  0.97\n",
            "Number of data:  86949\n",
            "--------------------------------------------------\n",
            "183/276:  /content/Resources/BEST_I_CORPUS/TrainingSet/LST20_train_prep/T11848_prep(1).txt\n",
            "precision:  1.0\n",
            "recall:  0.979\n",
            "fscore:  0.989\n",
            "accuracy:  0.994\n",
            "Number of data:  342\n",
            "--------------------------------------------------\n",
            "184/276:  /content/Resources/BEST_I_CORPUS/TrainingSet/LST20_test_prep/T12484_prep.txt\n"
          ]
        },
        {
          "output_type": "stream",
          "name": "stderr",
          "text": [
            "/usr/local/lib/python3.7/dist-packages/ipykernel_launcher.py:11: DeprecationWarning: `np.bool` is a deprecated alias for the builtin `bool`. To silence this warning, use `bool` by itself. Doing this will not modify any behavior and is safe. If you specifically wanted the numpy scalar type, use `np.bool_` here.\n",
            "Deprecated in NumPy 1.20; for more details and guidance: https://numpy.org/devdocs/release/1.20.0-notes.html#deprecations\n",
            "  # This is added back by InteractiveShellApp.init_path()\n",
            "/usr/local/lib/python3.7/dist-packages/ipykernel_launcher.py:11: DeprecationWarning: `np.bool` is a deprecated alias for the builtin `bool`. To silence this warning, use `bool` by itself. Doing this will not modify any behavior and is safe. If you specifically wanted the numpy scalar type, use `np.bool_` here.\n",
            "Deprecated in NumPy 1.20; for more details and guidance: https://numpy.org/devdocs/release/1.20.0-notes.html#deprecations\n",
            "  # This is added back by InteractiveShellApp.init_path()\n"
          ]
        },
        {
          "output_type": "stream",
          "name": "stdout",
          "text": [
            "precision:  0.975\n",
            "recall:  0.961\n",
            "fscore:  0.968\n",
            "accuracy:  0.982\n",
            "Number of data:  724\n",
            "--------------------------------------------------\n",
            "185/276:  /content/Resources/BEST_I_CORPUS/TrainingSet/LST20_train_prep/T00274_prep.txt\n"
          ]
        },
        {
          "output_type": "stream",
          "name": "stderr",
          "text": [
            "/usr/local/lib/python3.7/dist-packages/ipykernel_launcher.py:11: DeprecationWarning: `np.bool` is a deprecated alias for the builtin `bool`. To silence this warning, use `bool` by itself. Doing this will not modify any behavior and is safe. If you specifically wanted the numpy scalar type, use `np.bool_` here.\n",
            "Deprecated in NumPy 1.20; for more details and guidance: https://numpy.org/devdocs/release/1.20.0-notes.html#deprecations\n",
            "  # This is added back by InteractiveShellApp.init_path()\n"
          ]
        },
        {
          "output_type": "stream",
          "name": "stdout",
          "text": [
            "precision:  0.953\n",
            "recall:  0.988\n",
            "fscore:  0.97\n",
            "accuracy:  0.984\n",
            "Number of data:  2550\n",
            "--------------------------------------------------\n",
            "186/276:  /content/Resources/BEST_I_CORPUS/TrainingSet/LST20_train_prep/T00994_prep.txt\n"
          ]
        },
        {
          "output_type": "stream",
          "name": "stderr",
          "text": [
            "/usr/local/lib/python3.7/dist-packages/ipykernel_launcher.py:11: DeprecationWarning: `np.bool` is a deprecated alias for the builtin `bool`. To silence this warning, use `bool` by itself. Doing this will not modify any behavior and is safe. If you specifically wanted the numpy scalar type, use `np.bool_` here.\n",
            "Deprecated in NumPy 1.20; for more details and guidance: https://numpy.org/devdocs/release/1.20.0-notes.html#deprecations\n",
            "  # This is added back by InteractiveShellApp.init_path()\n"
          ]
        },
        {
          "output_type": "stream",
          "name": "stdout",
          "text": [
            "precision:  0.947\n",
            "recall:  0.972\n",
            "fscore:  0.959\n",
            "accuracy:  0.977\n",
            "Number of data:  3240\n",
            "--------------------------------------------------\n",
            "187/276:  /content/Resources/BEST_I_CORPUS/TrainingSet/LST20_train_prep/T12248_prep.txt\n",
            "precision:  0.971\n",
            "recall:  0.99\n",
            "fscore:  0.98\n",
            "accuracy:  0.989\n",
            "Number of data:  1099\n",
            "--------------------------------------------------\n",
            "188/276:  /content/Resources/BEST_I_CORPUS/TrainingSet/LST20_train_prep/T10137_prep.txt\n"
          ]
        },
        {
          "output_type": "stream",
          "name": "stderr",
          "text": [
            "/usr/local/lib/python3.7/dist-packages/ipykernel_launcher.py:11: DeprecationWarning: `np.bool` is a deprecated alias for the builtin `bool`. To silence this warning, use `bool` by itself. Doing this will not modify any behavior and is safe. If you specifically wanted the numpy scalar type, use `np.bool_` here.\n",
            "Deprecated in NumPy 1.20; for more details and guidance: https://numpy.org/devdocs/release/1.20.0-notes.html#deprecations\n",
            "  # This is added back by InteractiveShellApp.init_path()\n",
            "/usr/local/lib/python3.7/dist-packages/ipykernel_launcher.py:11: DeprecationWarning: `np.bool` is a deprecated alias for the builtin `bool`. To silence this warning, use `bool` by itself. Doing this will not modify any behavior and is safe. If you specifically wanted the numpy scalar type, use `np.bool_` here.\n",
            "Deprecated in NumPy 1.20; for more details and guidance: https://numpy.org/devdocs/release/1.20.0-notes.html#deprecations\n",
            "  # This is added back by InteractiveShellApp.init_path()\n"
          ]
        },
        {
          "output_type": "stream",
          "name": "stdout",
          "text": [
            "precision:  0.974\n",
            "recall:  0.98\n",
            "fscore:  0.977\n",
            "accuracy:  0.988\n",
            "Number of data:  1943\n",
            "--------------------------------------------------\n",
            "189/276:  /content/Resources/BEST_I_CORPUS/TrainingSet/LST20_eval_prep/T12555_prep.txt\n",
            "precision:  0.984\n",
            "recall:  0.992\n",
            "fscore:  0.988\n",
            "accuracy:  0.994\n",
            "Number of data:  1014\n",
            "--------------------------------------------------\n",
            "190/276:  /content/Resources/BEST_I_CORPUS/TrainingSet/LST20_train_prep/T12701_prep.txt\n"
          ]
        },
        {
          "output_type": "stream",
          "name": "stderr",
          "text": [
            "/usr/local/lib/python3.7/dist-packages/ipykernel_launcher.py:11: DeprecationWarning: `np.bool` is a deprecated alias for the builtin `bool`. To silence this warning, use `bool` by itself. Doing this will not modify any behavior and is safe. If you specifically wanted the numpy scalar type, use `np.bool_` here.\n",
            "Deprecated in NumPy 1.20; for more details and guidance: https://numpy.org/devdocs/release/1.20.0-notes.html#deprecations\n",
            "  # This is added back by InteractiveShellApp.init_path()\n",
            "/usr/local/lib/python3.7/dist-packages/ipykernel_launcher.py:11: DeprecationWarning: `np.bool` is a deprecated alias for the builtin `bool`. To silence this warning, use `bool` by itself. Doing this will not modify any behavior and is safe. If you specifically wanted the numpy scalar type, use `np.bool_` here.\n",
            "Deprecated in NumPy 1.20; for more details and guidance: https://numpy.org/devdocs/release/1.20.0-notes.html#deprecations\n",
            "  # This is added back by InteractiveShellApp.init_path()\n"
          ]
        },
        {
          "output_type": "stream",
          "name": "stdout",
          "text": [
            "precision:  0.961\n",
            "recall:  0.973\n",
            "fscore:  0.967\n",
            "accuracy:  0.984\n",
            "Number of data:  1649\n",
            "--------------------------------------------------\n",
            "191/276:  /content/Resources/BEST_I_CORPUS/TrainingSet/LST20_train_prep/T01209_prep.txt\n"
          ]
        },
        {
          "output_type": "stream",
          "name": "stderr",
          "text": [
            "/usr/local/lib/python3.7/dist-packages/ipykernel_launcher.py:11: DeprecationWarning: `np.bool` is a deprecated alias for the builtin `bool`. To silence this warning, use `bool` by itself. Doing this will not modify any behavior and is safe. If you specifically wanted the numpy scalar type, use `np.bool_` here.\n",
            "Deprecated in NumPy 1.20; for more details and guidance: https://numpy.org/devdocs/release/1.20.0-notes.html#deprecations\n",
            "  # This is added back by InteractiveShellApp.init_path()\n"
          ]
        },
        {
          "output_type": "stream",
          "name": "stdout",
          "text": [
            "precision:  0.986\n",
            "recall:  0.988\n",
            "fscore:  0.987\n",
            "accuracy:  0.993\n",
            "Number of data:  3974\n",
            "--------------------------------------------------\n",
            "192/276:  /content/Resources/BEST_I_CORPUS/TrainingSet/encyclopedia/encyclopedia_00098.txt\n"
          ]
        },
        {
          "output_type": "stream",
          "name": "stderr",
          "text": [
            "/usr/local/lib/python3.7/dist-packages/ipykernel_launcher.py:11: DeprecationWarning: `np.bool` is a deprecated alias for the builtin `bool`. To silence this warning, use `bool` by itself. Doing this will not modify any behavior and is safe. If you specifically wanted the numpy scalar type, use `np.bool_` here.\n",
            "Deprecated in NumPy 1.20; for more details and guidance: https://numpy.org/devdocs/release/1.20.0-notes.html#deprecations\n",
            "  # This is added back by InteractiveShellApp.init_path()\n"
          ]
        },
        {
          "output_type": "stream",
          "name": "stdout",
          "text": [
            "precision:  0.98\n",
            "recall:  0.96\n",
            "fscore:  0.97\n",
            "accuracy:  0.983\n",
            "Number of data:  33028\n",
            "--------------------------------------------------\n",
            "193/276:  /content/Resources/BEST_I_CORPUS/TrainingSet/LST20_train_prep/T10557_prep.txt\n"
          ]
        },
        {
          "output_type": "stream",
          "name": "stderr",
          "text": [
            "/usr/local/lib/python3.7/dist-packages/ipykernel_launcher.py:11: DeprecationWarning: `np.bool` is a deprecated alias for the builtin `bool`. To silence this warning, use `bool` by itself. Doing this will not modify any behavior and is safe. If you specifically wanted the numpy scalar type, use `np.bool_` here.\n",
            "Deprecated in NumPy 1.20; for more details and guidance: https://numpy.org/devdocs/release/1.20.0-notes.html#deprecations\n",
            "  # This is added back by InteractiveShellApp.init_path()\n"
          ]
        },
        {
          "output_type": "stream",
          "name": "stdout",
          "text": [
            "precision:  0.984\n",
            "recall:  0.985\n",
            "fscore:  0.985\n",
            "accuracy:  0.99\n",
            "Number of data:  2348\n",
            "--------------------------------------------------\n",
            "194/276:  /content/Resources/BEST_I_CORPUS/TrainingSet/LST20_train_prep/T00388_prep.txt\n"
          ]
        },
        {
          "output_type": "stream",
          "name": "stderr",
          "text": [
            "/usr/local/lib/python3.7/dist-packages/ipykernel_launcher.py:11: DeprecationWarning: `np.bool` is a deprecated alias for the builtin `bool`. To silence this warning, use `bool` by itself. Doing this will not modify any behavior and is safe. If you specifically wanted the numpy scalar type, use `np.bool_` here.\n",
            "Deprecated in NumPy 1.20; for more details and guidance: https://numpy.org/devdocs/release/1.20.0-notes.html#deprecations\n",
            "  # This is added back by InteractiveShellApp.init_path()\n"
          ]
        },
        {
          "output_type": "stream",
          "name": "stdout",
          "text": [
            "precision:  0.947\n",
            "recall:  0.984\n",
            "fscore:  0.965\n",
            "accuracy:  0.982\n",
            "Number of data:  4348\n",
            "--------------------------------------------------\n",
            "195/276:  /content/Resources/BEST_I_CORPUS/TrainingSet/LST20_train_prep/T00892_prep.txt\n"
          ]
        },
        {
          "output_type": "stream",
          "name": "stderr",
          "text": [
            "/usr/local/lib/python3.7/dist-packages/ipykernel_launcher.py:11: DeprecationWarning: `np.bool` is a deprecated alias for the builtin `bool`. To silence this warning, use `bool` by itself. Doing this will not modify any behavior and is safe. If you specifically wanted the numpy scalar type, use `np.bool_` here.\n",
            "Deprecated in NumPy 1.20; for more details and guidance: https://numpy.org/devdocs/release/1.20.0-notes.html#deprecations\n",
            "  # This is added back by InteractiveShellApp.init_path()\n"
          ]
        },
        {
          "output_type": "stream",
          "name": "stdout",
          "text": [
            "precision:  0.959\n",
            "recall:  0.982\n",
            "fscore:  0.97\n",
            "accuracy:  0.984\n",
            "Number of data:  16046\n",
            "--------------------------------------------------\n",
            "196/276:  /content/Resources/BEST_I_CORPUS/TrainingSet/LST20_train_prep/T00736_prep.txt\n"
          ]
        },
        {
          "output_type": "stream",
          "name": "stderr",
          "text": [
            "/usr/local/lib/python3.7/dist-packages/ipykernel_launcher.py:11: DeprecationWarning: `np.bool` is a deprecated alias for the builtin `bool`. To silence this warning, use `bool` by itself. Doing this will not modify any behavior and is safe. If you specifically wanted the numpy scalar type, use `np.bool_` here.\n",
            "Deprecated in NumPy 1.20; for more details and guidance: https://numpy.org/devdocs/release/1.20.0-notes.html#deprecations\n",
            "  # This is added back by InteractiveShellApp.init_path()\n"
          ]
        },
        {
          "output_type": "stream",
          "name": "stdout",
          "text": [
            "precision:  0.959\n",
            "recall:  0.961\n",
            "fscore:  0.96\n",
            "accuracy:  0.98\n",
            "Number of data:  2031\n",
            "--------------------------------------------------\n",
            "197/276:  /content/Resources/BEST_I_CORPUS/TrainingSet/LST20_train_prep/T10643_prep.txt\n",
            "precision:  0.977\n",
            "recall:  0.992\n",
            "fscore:  0.984\n",
            "accuracy:  0.991\n",
            "Number of data:  889\n",
            "--------------------------------------------------\n",
            "198/276:  /content/Resources/BEST_I_CORPUS/TrainingSet/LST20_train_prep/T00761_prep.txt\n"
          ]
        },
        {
          "output_type": "stream",
          "name": "stderr",
          "text": [
            "/usr/local/lib/python3.7/dist-packages/ipykernel_launcher.py:11: DeprecationWarning: `np.bool` is a deprecated alias for the builtin `bool`. To silence this warning, use `bool` by itself. Doing this will not modify any behavior and is safe. If you specifically wanted the numpy scalar type, use `np.bool_` here.\n",
            "Deprecated in NumPy 1.20; for more details and guidance: https://numpy.org/devdocs/release/1.20.0-notes.html#deprecations\n",
            "  # This is added back by InteractiveShellApp.init_path()\n",
            "/usr/local/lib/python3.7/dist-packages/ipykernel_launcher.py:11: DeprecationWarning: `np.bool` is a deprecated alias for the builtin `bool`. To silence this warning, use `bool` by itself. Doing this will not modify any behavior and is safe. If you specifically wanted the numpy scalar type, use `np.bool_` here.\n",
            "Deprecated in NumPy 1.20; for more details and guidance: https://numpy.org/devdocs/release/1.20.0-notes.html#deprecations\n",
            "  # This is added back by InteractiveShellApp.init_path()\n"
          ]
        },
        {
          "output_type": "stream",
          "name": "stdout",
          "text": [
            "precision:  0.905\n",
            "recall:  0.973\n",
            "fscore:  0.938\n",
            "accuracy:  0.968\n",
            "Number of data:  1636\n",
            "--------------------------------------------------\n",
            "199/276:  /content/Resources/BEST_I_CORPUS/TrainingSet/LST20_train_prep/T11992_prep.txt\n"
          ]
        },
        {
          "output_type": "stream",
          "name": "stderr",
          "text": [
            "/usr/local/lib/python3.7/dist-packages/ipykernel_launcher.py:11: DeprecationWarning: `np.bool` is a deprecated alias for the builtin `bool`. To silence this warning, use `bool` by itself. Doing this will not modify any behavior and is safe. If you specifically wanted the numpy scalar type, use `np.bool_` here.\n",
            "Deprecated in NumPy 1.20; for more details and guidance: https://numpy.org/devdocs/release/1.20.0-notes.html#deprecations\n",
            "  # This is added back by InteractiveShellApp.init_path()\n"
          ]
        },
        {
          "output_type": "stream",
          "name": "stdout",
          "text": [
            "precision:  0.973\n",
            "recall:  0.983\n",
            "fscore:  0.978\n",
            "accuracy:  0.986\n",
            "Number of data:  1637\n",
            "--------------------------------------------------\n",
            "200/276:  /content/Resources/BEST_I_CORPUS/TrainingSet/IMDB_train/imdb_120.txt\n",
            "precision:  0.862\n",
            "recall:  0.926\n",
            "fscore:  0.893\n",
            "accuracy:  0.935\n",
            "Number of data:  92\n",
            "--------------------------------------------------\n",
            "201/276:  /content/Resources/BEST_I_CORPUS/TrainingSet/LST20_train_prep/T01549_prep.txt\n"
          ]
        },
        {
          "output_type": "stream",
          "name": "stderr",
          "text": [
            "/usr/local/lib/python3.7/dist-packages/ipykernel_launcher.py:11: DeprecationWarning: `np.bool` is a deprecated alias for the builtin `bool`. To silence this warning, use `bool` by itself. Doing this will not modify any behavior and is safe. If you specifically wanted the numpy scalar type, use `np.bool_` here.\n",
            "Deprecated in NumPy 1.20; for more details and guidance: https://numpy.org/devdocs/release/1.20.0-notes.html#deprecations\n",
            "  # This is added back by InteractiveShellApp.init_path()\n",
            "/usr/local/lib/python3.7/dist-packages/ipykernel_launcher.py:11: DeprecationWarning: `np.bool` is a deprecated alias for the builtin `bool`. To silence this warning, use `bool` by itself. Doing this will not modify any behavior and is safe. If you specifically wanted the numpy scalar type, use `np.bool_` here.\n",
            "Deprecated in NumPy 1.20; for more details and guidance: https://numpy.org/devdocs/release/1.20.0-notes.html#deprecations\n",
            "  # This is added back by InteractiveShellApp.init_path()\n"
          ]
        },
        {
          "output_type": "stream",
          "name": "stdout",
          "text": [
            "precision:  0.955\n",
            "recall:  0.977\n",
            "fscore:  0.966\n",
            "accuracy:  0.982\n",
            "Number of data:  6048\n",
            "--------------------------------------------------\n",
            "202/276:  /content/Resources/BEST_I_CORPUS/TrainingSet/LST20_train_prep/T10296_prep.txt\n"
          ]
        },
        {
          "output_type": "stream",
          "name": "stderr",
          "text": [
            "/usr/local/lib/python3.7/dist-packages/ipykernel_launcher.py:11: DeprecationWarning: `np.bool` is a deprecated alias for the builtin `bool`. To silence this warning, use `bool` by itself. Doing this will not modify any behavior and is safe. If you specifically wanted the numpy scalar type, use `np.bool_` here.\n",
            "Deprecated in NumPy 1.20; for more details and guidance: https://numpy.org/devdocs/release/1.20.0-notes.html#deprecations\n",
            "  # This is added back by InteractiveShellApp.init_path()\n"
          ]
        },
        {
          "output_type": "stream",
          "name": "stdout",
          "text": [
            "precision:  0.98\n",
            "recall:  0.988\n",
            "fscore:  0.984\n",
            "accuracy:  0.992\n",
            "Number of data:  3288\n",
            "--------------------------------------------------\n",
            "203/276:  /content/Resources/BEST_I_CORPUS/TrainingSet/LST20_eval_prep/T13143_prep.txt\n",
            "precision:  0.969\n",
            "recall:  0.988\n",
            "fscore:  0.978\n",
            "accuracy:  0.989\n",
            "Number of data:  1026\n",
            "--------------------------------------------------\n",
            "204/276:  /content/Resources/BEST_I_CORPUS/TrainingSet/LST20_test_prep/T12625_prep.txt\n"
          ]
        },
        {
          "output_type": "stream",
          "name": "stderr",
          "text": [
            "/usr/local/lib/python3.7/dist-packages/ipykernel_launcher.py:11: DeprecationWarning: `np.bool` is a deprecated alias for the builtin `bool`. To silence this warning, use `bool` by itself. Doing this will not modify any behavior and is safe. If you specifically wanted the numpy scalar type, use `np.bool_` here.\n",
            "Deprecated in NumPy 1.20; for more details and guidance: https://numpy.org/devdocs/release/1.20.0-notes.html#deprecations\n",
            "  # This is added back by InteractiveShellApp.init_path()\n",
            "/usr/local/lib/python3.7/dist-packages/ipykernel_launcher.py:11: DeprecationWarning: `np.bool` is a deprecated alias for the builtin `bool`. To silence this warning, use `bool` by itself. Doing this will not modify any behavior and is safe. If you specifically wanted the numpy scalar type, use `np.bool_` here.\n",
            "Deprecated in NumPy 1.20; for more details and guidance: https://numpy.org/devdocs/release/1.20.0-notes.html#deprecations\n",
            "  # This is added back by InteractiveShellApp.init_path()\n"
          ]
        },
        {
          "output_type": "stream",
          "name": "stdout",
          "text": [
            "precision:  0.96\n",
            "recall:  0.977\n",
            "fscore:  0.969\n",
            "accuracy:  0.983\n",
            "Number of data:  1307\n",
            "--------------------------------------------------\n",
            "205/276:  /content/Resources/BEST_I_CORPUS/TrainingSet/LST20_eval_prep/T13218_prep.txt\n",
            "precision:  0.961\n",
            "recall:  0.996\n",
            "fscore:  0.978\n",
            "accuracy:  0.989\n",
            "Number of data:  1039\n",
            "--------------------------------------------------\n",
            "206/276:  /content/Resources/BEST_I_CORPUS/TrainingSet/LST20_train_prep/T10413_prep.txt\n"
          ]
        },
        {
          "output_type": "stream",
          "name": "stderr",
          "text": [
            "/usr/local/lib/python3.7/dist-packages/ipykernel_launcher.py:11: DeprecationWarning: `np.bool` is a deprecated alias for the builtin `bool`. To silence this warning, use `bool` by itself. Doing this will not modify any behavior and is safe. If you specifically wanted the numpy scalar type, use `np.bool_` here.\n",
            "Deprecated in NumPy 1.20; for more details and guidance: https://numpy.org/devdocs/release/1.20.0-notes.html#deprecations\n",
            "  # This is added back by InteractiveShellApp.init_path()\n",
            "/usr/local/lib/python3.7/dist-packages/ipykernel_launcher.py:11: DeprecationWarning: `np.bool` is a deprecated alias for the builtin `bool`. To silence this warning, use `bool` by itself. Doing this will not modify any behavior and is safe. If you specifically wanted the numpy scalar type, use `np.bool_` here.\n",
            "Deprecated in NumPy 1.20; for more details and guidance: https://numpy.org/devdocs/release/1.20.0-notes.html#deprecations\n",
            "  # This is added back by InteractiveShellApp.init_path()\n"
          ]
        },
        {
          "output_type": "stream",
          "name": "stdout",
          "text": [
            "precision:  0.976\n",
            "recall:  0.976\n",
            "fscore:  0.976\n",
            "accuracy:  0.987\n",
            "Number of data:  464\n",
            "--------------------------------------------------\n",
            "207/276:  /content/Resources/BEST_I_CORPUS/TrainingSet/LST20_eval_prep/T12344_prep.txt\n",
            "precision:  0.944\n",
            "recall:  0.995\n",
            "fscore:  0.969\n",
            "accuracy:  0.982\n",
            "Number of data:  733\n",
            "--------------------------------------------------\n",
            "208/276:  /content/Resources/BEST_I_CORPUS/TrainingSet/LST20_train_prep/T11970_prep.txt\n"
          ]
        },
        {
          "output_type": "stream",
          "name": "stderr",
          "text": [
            "/usr/local/lib/python3.7/dist-packages/ipykernel_launcher.py:11: DeprecationWarning: `np.bool` is a deprecated alias for the builtin `bool`. To silence this warning, use `bool` by itself. Doing this will not modify any behavior and is safe. If you specifically wanted the numpy scalar type, use `np.bool_` here.\n",
            "Deprecated in NumPy 1.20; for more details and guidance: https://numpy.org/devdocs/release/1.20.0-notes.html#deprecations\n",
            "  # This is added back by InteractiveShellApp.init_path()\n",
            "/usr/local/lib/python3.7/dist-packages/ipykernel_launcher.py:11: DeprecationWarning: `np.bool` is a deprecated alias for the builtin `bool`. To silence this warning, use `bool` by itself. Doing this will not modify any behavior and is safe. If you specifically wanted the numpy scalar type, use `np.bool_` here.\n",
            "Deprecated in NumPy 1.20; for more details and guidance: https://numpy.org/devdocs/release/1.20.0-notes.html#deprecations\n",
            "  # This is added back by InteractiveShellApp.init_path()\n"
          ]
        },
        {
          "output_type": "stream",
          "name": "stdout",
          "text": [
            "precision:  0.939\n",
            "recall:  0.984\n",
            "fscore:  0.961\n",
            "accuracy:  0.98\n",
            "Number of data:  492\n",
            "--------------------------------------------------\n",
            "209/276:  /content/Resources/BEST_I_CORPUS/TrainingSet/LST20_train_prep/T10740_prep.txt\n"
          ]
        },
        {
          "output_type": "stream",
          "name": "stderr",
          "text": [
            "/usr/local/lib/python3.7/dist-packages/ipykernel_launcher.py:11: DeprecationWarning: `np.bool` is a deprecated alias for the builtin `bool`. To silence this warning, use `bool` by itself. Doing this will not modify any behavior and is safe. If you specifically wanted the numpy scalar type, use `np.bool_` here.\n",
            "Deprecated in NumPy 1.20; for more details and guidance: https://numpy.org/devdocs/release/1.20.0-notes.html#deprecations\n",
            "  # This is added back by InteractiveShellApp.init_path()\n"
          ]
        },
        {
          "output_type": "stream",
          "name": "stdout",
          "text": [
            "precision:  0.964\n",
            "recall:  0.973\n",
            "fscore:  0.968\n",
            "accuracy:  0.983\n",
            "Number of data:  1486\n",
            "--------------------------------------------------\n",
            "210/276:  /content/Resources/BEST_I_CORPUS/TrainingSet/LST20_train_prep/T00699_prep.txt\n"
          ]
        },
        {
          "output_type": "stream",
          "name": "stderr",
          "text": [
            "/usr/local/lib/python3.7/dist-packages/ipykernel_launcher.py:11: DeprecationWarning: `np.bool` is a deprecated alias for the builtin `bool`. To silence this warning, use `bool` by itself. Doing this will not modify any behavior and is safe. If you specifically wanted the numpy scalar type, use `np.bool_` here.\n",
            "Deprecated in NumPy 1.20; for more details and guidance: https://numpy.org/devdocs/release/1.20.0-notes.html#deprecations\n",
            "  # This is added back by InteractiveShellApp.init_path()\n"
          ]
        },
        {
          "output_type": "stream",
          "name": "stdout",
          "text": [
            "precision:  0.972\n",
            "recall:  0.978\n",
            "fscore:  0.975\n",
            "accuracy:  0.987\n",
            "Number of data:  9048\n",
            "--------------------------------------------------\n",
            "211/276:  /content/Resources/BEST_I_CORPUS/TrainingSet/LST20_eval_prep/T12397_prep.txt\n",
            "precision:  0.952\n",
            "recall:  0.947\n",
            "fscore:  0.949\n",
            "accuracy:  0.972\n",
            "Number of data:  745\n",
            "--------------------------------------------------\n",
            "212/276:  /content/Resources/BEST_I_CORPUS/TrainingSet/LST20_train_prep/T01670_prep.txt\n"
          ]
        },
        {
          "output_type": "stream",
          "name": "stderr",
          "text": [
            "/usr/local/lib/python3.7/dist-packages/ipykernel_launcher.py:11: DeprecationWarning: `np.bool` is a deprecated alias for the builtin `bool`. To silence this warning, use `bool` by itself. Doing this will not modify any behavior and is safe. If you specifically wanted the numpy scalar type, use `np.bool_` here.\n",
            "Deprecated in NumPy 1.20; for more details and guidance: https://numpy.org/devdocs/release/1.20.0-notes.html#deprecations\n",
            "  # This is added back by InteractiveShellApp.init_path()\n",
            "/usr/local/lib/python3.7/dist-packages/ipykernel_launcher.py:11: DeprecationWarning: `np.bool` is a deprecated alias for the builtin `bool`. To silence this warning, use `bool` by itself. Doing this will not modify any behavior and is safe. If you specifically wanted the numpy scalar type, use `np.bool_` here.\n",
            "Deprecated in NumPy 1.20; for more details and guidance: https://numpy.org/devdocs/release/1.20.0-notes.html#deprecations\n",
            "  # This is added back by InteractiveShellApp.init_path()\n"
          ]
        },
        {
          "output_type": "stream",
          "name": "stdout",
          "text": [
            "precision:  0.98\n",
            "recall:  0.971\n",
            "fscore:  0.975\n",
            "accuracy:  0.984\n",
            "Number of data:  1923\n",
            "--------------------------------------------------\n",
            "213/276:  /content/Resources/BEST_I_CORPUS/TrainingSet/LST20_train_prep/T11703_prep.txt\n",
            "precision:  0.987\n",
            "recall:  0.977\n",
            "fscore:  0.982\n",
            "accuracy:  0.99\n",
            "Number of data:  1364\n",
            "--------------------------------------------------\n",
            "214/276:  /content/Resources/BEST_I_CORPUS/TrainingSet/LST20_train_prep/T12876_prep.txt\n"
          ]
        },
        {
          "output_type": "stream",
          "name": "stderr",
          "text": [
            "/usr/local/lib/python3.7/dist-packages/ipykernel_launcher.py:11: DeprecationWarning: `np.bool` is a deprecated alias for the builtin `bool`. To silence this warning, use `bool` by itself. Doing this will not modify any behavior and is safe. If you specifically wanted the numpy scalar type, use `np.bool_` here.\n",
            "Deprecated in NumPy 1.20; for more details and guidance: https://numpy.org/devdocs/release/1.20.0-notes.html#deprecations\n",
            "  # This is added back by InteractiveShellApp.init_path()\n",
            "/usr/local/lib/python3.7/dist-packages/ipykernel_launcher.py:11: DeprecationWarning: `np.bool` is a deprecated alias for the builtin `bool`. To silence this warning, use `bool` by itself. Doing this will not modify any behavior and is safe. If you specifically wanted the numpy scalar type, use `np.bool_` here.\n",
            "Deprecated in NumPy 1.20; for more details and guidance: https://numpy.org/devdocs/release/1.20.0-notes.html#deprecations\n",
            "  # This is added back by InteractiveShellApp.init_path()\n"
          ]
        },
        {
          "output_type": "stream",
          "name": "stdout",
          "text": [
            "precision:  0.99\n",
            "recall:  0.957\n",
            "fscore:  0.973\n",
            "accuracy:  0.986\n",
            "Number of data:  780\n",
            "--------------------------------------------------\n",
            "215/276:  /content/Resources/BEST_I_CORPUS/TrainingSet/LST20_train_prep/T11206_prep.txt\n",
            "precision:  0.968\n",
            "recall:  0.961\n",
            "fscore:  0.965\n",
            "accuracy:  0.979\n",
            "Number of data:  1356\n",
            "--------------------------------------------------\n",
            "216/276:  /content/Resources/BEST_I_CORPUS/TrainingSet/LST20_train_prep/T11258_prep.txt\n"
          ]
        },
        {
          "output_type": "stream",
          "name": "stderr",
          "text": [
            "/usr/local/lib/python3.7/dist-packages/ipykernel_launcher.py:11: DeprecationWarning: `np.bool` is a deprecated alias for the builtin `bool`. To silence this warning, use `bool` by itself. Doing this will not modify any behavior and is safe. If you specifically wanted the numpy scalar type, use `np.bool_` here.\n",
            "Deprecated in NumPy 1.20; for more details and guidance: https://numpy.org/devdocs/release/1.20.0-notes.html#deprecations\n",
            "  # This is added back by InteractiveShellApp.init_path()\n",
            "/usr/local/lib/python3.7/dist-packages/ipykernel_launcher.py:11: DeprecationWarning: `np.bool` is a deprecated alias for the builtin `bool`. To silence this warning, use `bool` by itself. Doing this will not modify any behavior and is safe. If you specifically wanted the numpy scalar type, use `np.bool_` here.\n",
            "Deprecated in NumPy 1.20; for more details and guidance: https://numpy.org/devdocs/release/1.20.0-notes.html#deprecations\n",
            "  # This is added back by InteractiveShellApp.init_path()\n"
          ]
        },
        {
          "output_type": "stream",
          "name": "stdout",
          "text": [
            "precision:  0.98\n",
            "recall:  0.988\n",
            "fscore:  0.984\n",
            "accuracy:  0.992\n",
            "Number of data:  1032\n",
            "--------------------------------------------------\n",
            "217/276:  /content/Resources/BEST_I_CORPUS/TrainingSet/LST20_train_prep/T01510_prep.txt\n"
          ]
        },
        {
          "output_type": "stream",
          "name": "stderr",
          "text": [
            "/usr/local/lib/python3.7/dist-packages/ipykernel_launcher.py:11: DeprecationWarning: `np.bool` is a deprecated alias for the builtin `bool`. To silence this warning, use `bool` by itself. Doing this will not modify any behavior and is safe. If you specifically wanted the numpy scalar type, use `np.bool_` here.\n",
            "Deprecated in NumPy 1.20; for more details and guidance: https://numpy.org/devdocs/release/1.20.0-notes.html#deprecations\n",
            "  # This is added back by InteractiveShellApp.init_path()\n"
          ]
        },
        {
          "output_type": "stream",
          "name": "stdout",
          "text": [
            "precision:  0.955\n",
            "recall:  0.973\n",
            "fscore:  0.964\n",
            "accuracy:  0.981\n",
            "Number of data:  2176\n",
            "--------------------------------------------------\n",
            "218/276:  /content/Resources/BEST_I_CORPUS/TrainingSet/LST20_test_prep/T12627_prep.txt\n"
          ]
        },
        {
          "output_type": "stream",
          "name": "stderr",
          "text": [
            "/usr/local/lib/python3.7/dist-packages/ipykernel_launcher.py:11: DeprecationWarning: `np.bool` is a deprecated alias for the builtin `bool`. To silence this warning, use `bool` by itself. Doing this will not modify any behavior and is safe. If you specifically wanted the numpy scalar type, use `np.bool_` here.\n",
            "Deprecated in NumPy 1.20; for more details and guidance: https://numpy.org/devdocs/release/1.20.0-notes.html#deprecations\n",
            "  # This is added back by InteractiveShellApp.init_path()\n"
          ]
        },
        {
          "output_type": "stream",
          "name": "stdout",
          "text": [
            "precision:  0.967\n",
            "recall:  0.972\n",
            "fscore:  0.97\n",
            "accuracy:  0.984\n",
            "Number of data:  2068\n",
            "--------------------------------------------------\n",
            "219/276:  /content/Resources/BEST_I_CORPUS/TrainingSet/LST20_train_prep/T11771_prep.txt\n"
          ]
        },
        {
          "output_type": "stream",
          "name": "stderr",
          "text": [
            "/usr/local/lib/python3.7/dist-packages/ipykernel_launcher.py:11: DeprecationWarning: `np.bool` is a deprecated alias for the builtin `bool`. To silence this warning, use `bool` by itself. Doing this will not modify any behavior and is safe. If you specifically wanted the numpy scalar type, use `np.bool_` here.\n",
            "Deprecated in NumPy 1.20; for more details and guidance: https://numpy.org/devdocs/release/1.20.0-notes.html#deprecations\n",
            "  # This is added back by InteractiveShellApp.init_path()\n"
          ]
        },
        {
          "output_type": "stream",
          "name": "stdout",
          "text": [
            "precision:  0.972\n",
            "recall:  0.977\n",
            "fscore:  0.974\n",
            "accuracy:  0.985\n",
            "Number of data:  1880\n",
            "--------------------------------------------------\n",
            "220/276:  /content/Resources/BEST_I_CORPUS/TrainingSet/novel/novel_00006.txt\n"
          ]
        },
        {
          "output_type": "stream",
          "name": "stderr",
          "text": [
            "/usr/local/lib/python3.7/dist-packages/ipykernel_launcher.py:11: DeprecationWarning: `np.bool` is a deprecated alias for the builtin `bool`. To silence this warning, use `bool` by itself. Doing this will not modify any behavior and is safe. If you specifically wanted the numpy scalar type, use `np.bool_` here.\n",
            "Deprecated in NumPy 1.20; for more details and guidance: https://numpy.org/devdocs/release/1.20.0-notes.html#deprecations\n",
            "  # This is added back by InteractiveShellApp.init_path()\n"
          ]
        },
        {
          "output_type": "stream",
          "name": "stdout",
          "text": [
            "precision:  0.965\n",
            "recall:  0.96\n",
            "fscore:  0.962\n",
            "accuracy:  0.978\n",
            "Number of data:  32419\n",
            "--------------------------------------------------\n",
            "221/276:  /content/Resources/BEST_I_CORPUS/TrainingSet/LST20_eval_prep/T13226_prep.txt\n",
            "precision:  0.987\n",
            "recall:  0.969\n",
            "fscore:  0.978\n",
            "accuracy:  0.99\n",
            "Number of data:  696\n",
            "--------------------------------------------------\n",
            "222/276:  /content/Resources/BEST_I_CORPUS/TrainingSet/LST20_train_prep/T11833_prep.txt\n"
          ]
        },
        {
          "output_type": "stream",
          "name": "stderr",
          "text": [
            "/usr/local/lib/python3.7/dist-packages/ipykernel_launcher.py:11: DeprecationWarning: `np.bool` is a deprecated alias for the builtin `bool`. To silence this warning, use `bool` by itself. Doing this will not modify any behavior and is safe. If you specifically wanted the numpy scalar type, use `np.bool_` here.\n",
            "Deprecated in NumPy 1.20; for more details and guidance: https://numpy.org/devdocs/release/1.20.0-notes.html#deprecations\n",
            "  # This is added back by InteractiveShellApp.init_path()\n",
            "/usr/local/lib/python3.7/dist-packages/ipykernel_launcher.py:11: DeprecationWarning: `np.bool` is a deprecated alias for the builtin `bool`. To silence this warning, use `bool` by itself. Doing this will not modify any behavior and is safe. If you specifically wanted the numpy scalar type, use `np.bool_` here.\n",
            "Deprecated in NumPy 1.20; for more details and guidance: https://numpy.org/devdocs/release/1.20.0-notes.html#deprecations\n",
            "  # This is added back by InteractiveShellApp.init_path()\n"
          ]
        },
        {
          "output_type": "stream",
          "name": "stdout",
          "text": [
            "precision:  0.981\n",
            "recall:  0.981\n",
            "fscore:  0.981\n",
            "accuracy:  0.989\n",
            "Number of data:  1417\n",
            "--------------------------------------------------\n",
            "223/276:  /content/Resources/BEST_I_CORPUS/TrainingSet/LST20_train_prep/T00300_prep.txt\n"
          ]
        },
        {
          "output_type": "stream",
          "name": "stderr",
          "text": [
            "/usr/local/lib/python3.7/dist-packages/ipykernel_launcher.py:11: DeprecationWarning: `np.bool` is a deprecated alias for the builtin `bool`. To silence this warning, use `bool` by itself. Doing this will not modify any behavior and is safe. If you specifically wanted the numpy scalar type, use `np.bool_` here.\n",
            "Deprecated in NumPy 1.20; for more details and guidance: https://numpy.org/devdocs/release/1.20.0-notes.html#deprecations\n",
            "  # This is added back by InteractiveShellApp.init_path()\n"
          ]
        },
        {
          "output_type": "stream",
          "name": "stdout",
          "text": [
            "precision:  0.967\n",
            "recall:  0.977\n",
            "fscore:  0.972\n",
            "accuracy:  0.986\n",
            "Number of data:  3327\n",
            "--------------------------------------------------\n",
            "224/276:  /content/Resources/BEST_I_CORPUS/TrainingSet/novel/novel_00054.txt\n"
          ]
        },
        {
          "output_type": "stream",
          "name": "stderr",
          "text": [
            "/usr/local/lib/python3.7/dist-packages/ipykernel_launcher.py:11: DeprecationWarning: `np.bool` is a deprecated alias for the builtin `bool`. To silence this warning, use `bool` by itself. Doing this will not modify any behavior and is safe. If you specifically wanted the numpy scalar type, use `np.bool_` here.\n",
            "Deprecated in NumPy 1.20; for more details and guidance: https://numpy.org/devdocs/release/1.20.0-notes.html#deprecations\n",
            "  # This is added back by InteractiveShellApp.init_path()\n"
          ]
        },
        {
          "output_type": "stream",
          "name": "stdout",
          "text": [
            "precision:  0.967\n",
            "recall:  0.968\n",
            "fscore:  0.967\n",
            "accuracy:  0.98\n",
            "Number of data:  37774\n",
            "--------------------------------------------------\n",
            "225/276:  /content/Resources/BEST_I_CORPUS/TrainingSet/LST20_eval_prep/T12276_prep.txt\n"
          ]
        },
        {
          "output_type": "stream",
          "name": "stderr",
          "text": [
            "/usr/local/lib/python3.7/dist-packages/ipykernel_launcher.py:11: DeprecationWarning: `np.bool` is a deprecated alias for the builtin `bool`. To silence this warning, use `bool` by itself. Doing this will not modify any behavior and is safe. If you specifically wanted the numpy scalar type, use `np.bool_` here.\n",
            "Deprecated in NumPy 1.20; for more details and guidance: https://numpy.org/devdocs/release/1.20.0-notes.html#deprecations\n",
            "  # This is added back by InteractiveShellApp.init_path()\n"
          ]
        },
        {
          "output_type": "stream",
          "name": "stdout",
          "text": [
            "precision:  0.978\n",
            "recall:  0.98\n",
            "fscore:  0.979\n",
            "accuracy:  0.989\n",
            "Number of data:  2531\n",
            "--------------------------------------------------\n",
            "226/276:  /content/Resources/BEST_I_CORPUS/TrainingSet/LST20_train_prep/T12900_prep.txt\n"
          ]
        },
        {
          "output_type": "stream",
          "name": "stderr",
          "text": [
            "/usr/local/lib/python3.7/dist-packages/ipykernel_launcher.py:11: DeprecationWarning: `np.bool` is a deprecated alias for the builtin `bool`. To silence this warning, use `bool` by itself. Doing this will not modify any behavior and is safe. If you specifically wanted the numpy scalar type, use `np.bool_` here.\n",
            "Deprecated in NumPy 1.20; for more details and guidance: https://numpy.org/devdocs/release/1.20.0-notes.html#deprecations\n",
            "  # This is added back by InteractiveShellApp.init_path()\n"
          ]
        },
        {
          "output_type": "stream",
          "name": "stdout",
          "text": [
            "precision:  0.978\n",
            "recall:  0.992\n",
            "fscore:  0.985\n",
            "accuracy:  0.992\n",
            "Number of data:  1587\n",
            "--------------------------------------------------\n",
            "227/276:  /content/Resources/BEST_I_CORPUS/TrainingSet/IMDB_train/imdb_64.txt\n",
            "precision:  0.893\n",
            "recall:  0.88\n",
            "fscore:  0.887\n",
            "accuracy:  0.94\n",
            "Number of data:  535\n",
            "--------------------------------------------------\n",
            "228/276:  /content/Resources/BEST_I_CORPUS/TrainingSet/LST20_train_prep/T11613_prep.txt\n"
          ]
        },
        {
          "output_type": "stream",
          "name": "stderr",
          "text": [
            "/usr/local/lib/python3.7/dist-packages/ipykernel_launcher.py:11: DeprecationWarning: `np.bool` is a deprecated alias for the builtin `bool`. To silence this warning, use `bool` by itself. Doing this will not modify any behavior and is safe. If you specifically wanted the numpy scalar type, use `np.bool_` here.\n",
            "Deprecated in NumPy 1.20; for more details and guidance: https://numpy.org/devdocs/release/1.20.0-notes.html#deprecations\n",
            "  # This is added back by InteractiveShellApp.init_path()\n",
            "/usr/local/lib/python3.7/dist-packages/ipykernel_launcher.py:11: DeprecationWarning: `np.bool` is a deprecated alias for the builtin `bool`. To silence this warning, use `bool` by itself. Doing this will not modify any behavior and is safe. If you specifically wanted the numpy scalar type, use `np.bool_` here.\n",
            "Deprecated in NumPy 1.20; for more details and guidance: https://numpy.org/devdocs/release/1.20.0-notes.html#deprecations\n",
            "  # This is added back by InteractiveShellApp.init_path()\n"
          ]
        },
        {
          "output_type": "stream",
          "name": "stdout",
          "text": [
            "precision:  0.971\n",
            "recall:  0.981\n",
            "fscore:  0.976\n",
            "accuracy:  0.986\n",
            "Number of data:  1424\n",
            "--------------------------------------------------\n",
            "229/276:  /content/Resources/BEST_I_CORPUS/TrainingSet/LST20_train_prep/T12788_prep.txt\n",
            "precision:  0.96\n",
            "recall:  0.98\n",
            "fscore:  0.97\n",
            "accuracy:  0.984\n",
            "Number of data:  1333\n",
            "--------------------------------------------------\n",
            "230/276:  /content/Resources/BEST_I_CORPUS/TrainingSet/LST20_train_prep/T11199_prep.txt\n"
          ]
        },
        {
          "output_type": "stream",
          "name": "stderr",
          "text": [
            "/usr/local/lib/python3.7/dist-packages/ipykernel_launcher.py:11: DeprecationWarning: `np.bool` is a deprecated alias for the builtin `bool`. To silence this warning, use `bool` by itself. Doing this will not modify any behavior and is safe. If you specifically wanted the numpy scalar type, use `np.bool_` here.\n",
            "Deprecated in NumPy 1.20; for more details and guidance: https://numpy.org/devdocs/release/1.20.0-notes.html#deprecations\n",
            "  # This is added back by InteractiveShellApp.init_path()\n",
            "/usr/local/lib/python3.7/dist-packages/ipykernel_launcher.py:11: DeprecationWarning: `np.bool` is a deprecated alias for the builtin `bool`. To silence this warning, use `bool` by itself. Doing this will not modify any behavior and is safe. If you specifically wanted the numpy scalar type, use `np.bool_` here.\n",
            "Deprecated in NumPy 1.20; for more details and guidance: https://numpy.org/devdocs/release/1.20.0-notes.html#deprecations\n",
            "  # This is added back by InteractiveShellApp.init_path()\n"
          ]
        },
        {
          "output_type": "stream",
          "name": "stdout",
          "text": [
            "precision:  0.958\n",
            "recall:  0.978\n",
            "fscore:  0.968\n",
            "accuracy:  0.982\n",
            "Number of data:  2717\n",
            "--------------------------------------------------\n",
            "231/276:  /content/Resources/BEST_I_CORPUS/TrainingSet/IMDB_train/imdb_112.txt\n",
            "precision:  0.904\n",
            "recall:  0.892\n",
            "fscore:  0.898\n",
            "accuracy:  0.944\n",
            "Number of data:  808\n",
            "--------------------------------------------------\n",
            "232/276:  /content/Resources/BEST_I_CORPUS/TrainingSet/LST20_train_prep/T10970_prep.txt\n"
          ]
        },
        {
          "output_type": "stream",
          "name": "stderr",
          "text": [
            "/usr/local/lib/python3.7/dist-packages/ipykernel_launcher.py:11: DeprecationWarning: `np.bool` is a deprecated alias for the builtin `bool`. To silence this warning, use `bool` by itself. Doing this will not modify any behavior and is safe. If you specifically wanted the numpy scalar type, use `np.bool_` here.\n",
            "Deprecated in NumPy 1.20; for more details and guidance: https://numpy.org/devdocs/release/1.20.0-notes.html#deprecations\n",
            "  # This is added back by InteractiveShellApp.init_path()\n",
            "/usr/local/lib/python3.7/dist-packages/ipykernel_launcher.py:11: DeprecationWarning: `np.bool` is a deprecated alias for the builtin `bool`. To silence this warning, use `bool` by itself. Doing this will not modify any behavior and is safe. If you specifically wanted the numpy scalar type, use `np.bool_` here.\n",
            "Deprecated in NumPy 1.20; for more details and guidance: https://numpy.org/devdocs/release/1.20.0-notes.html#deprecations\n",
            "  # This is added back by InteractiveShellApp.init_path()\n"
          ]
        },
        {
          "output_type": "stream",
          "name": "stdout",
          "text": [
            "precision:  0.975\n",
            "recall:  0.972\n",
            "fscore:  0.974\n",
            "accuracy:  0.987\n",
            "Number of data:  1327\n",
            "--------------------------------------------------\n",
            "233/276:  /content/Resources/BEST_I_CORPUS/TrainingSet/LST20_train_prep/T10228_prep.txt\n",
            "precision:  0.984\n",
            "recall:  0.995\n",
            "fscore:  0.99\n",
            "accuracy:  0.994\n",
            "Number of data:  697\n",
            "--------------------------------------------------\n",
            "234/276:  /content/Resources/BEST_I_CORPUS/TrainingSet/LST20_train_prep/T11459_prep.txt\n"
          ]
        },
        {
          "output_type": "stream",
          "name": "stderr",
          "text": [
            "/usr/local/lib/python3.7/dist-packages/ipykernel_launcher.py:11: DeprecationWarning: `np.bool` is a deprecated alias for the builtin `bool`. To silence this warning, use `bool` by itself. Doing this will not modify any behavior and is safe. If you specifically wanted the numpy scalar type, use `np.bool_` here.\n",
            "Deprecated in NumPy 1.20; for more details and guidance: https://numpy.org/devdocs/release/1.20.0-notes.html#deprecations\n",
            "  # This is added back by InteractiveShellApp.init_path()\n",
            "/usr/local/lib/python3.7/dist-packages/ipykernel_launcher.py:11: DeprecationWarning: `np.bool` is a deprecated alias for the builtin `bool`. To silence this warning, use `bool` by itself. Doing this will not modify any behavior and is safe. If you specifically wanted the numpy scalar type, use `np.bool_` here.\n",
            "Deprecated in NumPy 1.20; for more details and guidance: https://numpy.org/devdocs/release/1.20.0-notes.html#deprecations\n",
            "  # This is added back by InteractiveShellApp.init_path()\n"
          ]
        },
        {
          "output_type": "stream",
          "name": "stdout",
          "text": [
            "precision:  0.979\n",
            "recall:  0.978\n",
            "fscore:  0.979\n",
            "accuracy:  0.988\n",
            "Number of data:  3023\n",
            "--------------------------------------------------\n",
            "235/276:  /content/Resources/BEST_I_CORPUS/TrainingSet/LST20_train_prep/T10590_prep.txt\n"
          ]
        },
        {
          "output_type": "stream",
          "name": "stderr",
          "text": [
            "/usr/local/lib/python3.7/dist-packages/ipykernel_launcher.py:11: DeprecationWarning: `np.bool` is a deprecated alias for the builtin `bool`. To silence this warning, use `bool` by itself. Doing this will not modify any behavior and is safe. If you specifically wanted the numpy scalar type, use `np.bool_` here.\n",
            "Deprecated in NumPy 1.20; for more details and guidance: https://numpy.org/devdocs/release/1.20.0-notes.html#deprecations\n",
            "  # This is added back by InteractiveShellApp.init_path()\n"
          ]
        },
        {
          "output_type": "stream",
          "name": "stdout",
          "text": [
            "precision:  0.946\n",
            "recall:  0.981\n",
            "fscore:  0.963\n",
            "accuracy:  0.979\n",
            "Number of data:  1517\n",
            "--------------------------------------------------\n",
            "236/276:  /content/Resources/BEST_I_CORPUS/TrainingSet/IMDB_train/imdb_107.txt\n",
            "precision:  0.959\n",
            "recall:  0.847\n",
            "fscore:  0.9\n",
            "accuracy:  0.945\n",
            "Number of data:  759\n",
            "--------------------------------------------------\n",
            "237/276:  /content/Resources/BEST_I_CORPUS/TrainingSet/LST20_test_prep/T12796_prep.txt\n"
          ]
        },
        {
          "output_type": "stream",
          "name": "stderr",
          "text": [
            "/usr/local/lib/python3.7/dist-packages/ipykernel_launcher.py:11: DeprecationWarning: `np.bool` is a deprecated alias for the builtin `bool`. To silence this warning, use `bool` by itself. Doing this will not modify any behavior and is safe. If you specifically wanted the numpy scalar type, use `np.bool_` here.\n",
            "Deprecated in NumPy 1.20; for more details and guidance: https://numpy.org/devdocs/release/1.20.0-notes.html#deprecations\n",
            "  # This is added back by InteractiveShellApp.init_path()\n",
            "/usr/local/lib/python3.7/dist-packages/ipykernel_launcher.py:11: DeprecationWarning: `np.bool` is a deprecated alias for the builtin `bool`. To silence this warning, use `bool` by itself. Doing this will not modify any behavior and is safe. If you specifically wanted the numpy scalar type, use `np.bool_` here.\n",
            "Deprecated in NumPy 1.20; for more details and guidance: https://numpy.org/devdocs/release/1.20.0-notes.html#deprecations\n",
            "  # This is added back by InteractiveShellApp.init_path()\n"
          ]
        },
        {
          "output_type": "stream",
          "name": "stdout",
          "text": [
            "precision:  0.953\n",
            "recall:  0.992\n",
            "fscore:  0.972\n",
            "accuracy:  0.986\n",
            "Number of data:  1529\n",
            "--------------------------------------------------\n",
            "238/276:  /content/Resources/BEST_I_CORPUS/TrainingSet/LST20_train_prep/T11461_prep.txt\n"
          ]
        },
        {
          "output_type": "stream",
          "name": "stderr",
          "text": [
            "/usr/local/lib/python3.7/dist-packages/ipykernel_launcher.py:11: DeprecationWarning: `np.bool` is a deprecated alias for the builtin `bool`. To silence this warning, use `bool` by itself. Doing this will not modify any behavior and is safe. If you specifically wanted the numpy scalar type, use `np.bool_` here.\n",
            "Deprecated in NumPy 1.20; for more details and guidance: https://numpy.org/devdocs/release/1.20.0-notes.html#deprecations\n",
            "  # This is added back by InteractiveShellApp.init_path()\n"
          ]
        },
        {
          "output_type": "stream",
          "name": "stdout",
          "text": [
            "precision:  0.966\n",
            "recall:  0.975\n",
            "fscore:  0.971\n",
            "accuracy:  0.985\n",
            "Number of data:  3418\n",
            "--------------------------------------------------\n",
            "239/276:  /content/Resources/BEST_I_CORPUS/TrainingSet/LST20_train_prep/T00556_prep.txt\n"
          ]
        },
        {
          "output_type": "stream",
          "name": "stderr",
          "text": [
            "/usr/local/lib/python3.7/dist-packages/ipykernel_launcher.py:11: DeprecationWarning: `np.bool` is a deprecated alias for the builtin `bool`. To silence this warning, use `bool` by itself. Doing this will not modify any behavior and is safe. If you specifically wanted the numpy scalar type, use `np.bool_` here.\n",
            "Deprecated in NumPy 1.20; for more details and guidance: https://numpy.org/devdocs/release/1.20.0-notes.html#deprecations\n",
            "  # This is added back by InteractiveShellApp.init_path()\n"
          ]
        },
        {
          "output_type": "stream",
          "name": "stdout",
          "text": [
            "precision:  0.977\n",
            "recall:  0.981\n",
            "fscore:  0.979\n",
            "accuracy:  0.988\n",
            "Number of data:  1668\n",
            "--------------------------------------------------\n",
            "240/276:  /content/Resources/BEST_I_CORPUS/TrainingSet/LST20_test_prep/T12695_prep.txt\n"
          ]
        },
        {
          "output_type": "stream",
          "name": "stderr",
          "text": [
            "/usr/local/lib/python3.7/dist-packages/ipykernel_launcher.py:11: DeprecationWarning: `np.bool` is a deprecated alias for the builtin `bool`. To silence this warning, use `bool` by itself. Doing this will not modify any behavior and is safe. If you specifically wanted the numpy scalar type, use `np.bool_` here.\n",
            "Deprecated in NumPy 1.20; for more details and guidance: https://numpy.org/devdocs/release/1.20.0-notes.html#deprecations\n",
            "  # This is added back by InteractiveShellApp.init_path()\n"
          ]
        },
        {
          "output_type": "stream",
          "name": "stdout",
          "text": [
            "precision:  0.952\n",
            "recall:  0.974\n",
            "fscore:  0.963\n",
            "accuracy:  0.979\n",
            "Number of data:  1929\n",
            "--------------------------------------------------\n",
            "241/276:  /content/Resources/BEST_I_CORPUS/TrainingSet/LST20_eval_prep/T12605_prep.txt\n"
          ]
        },
        {
          "output_type": "stream",
          "name": "stderr",
          "text": [
            "/usr/local/lib/python3.7/dist-packages/ipykernel_launcher.py:11: DeprecationWarning: `np.bool` is a deprecated alias for the builtin `bool`. To silence this warning, use `bool` by itself. Doing this will not modify any behavior and is safe. If you specifically wanted the numpy scalar type, use `np.bool_` here.\n",
            "Deprecated in NumPy 1.20; for more details and guidance: https://numpy.org/devdocs/release/1.20.0-notes.html#deprecations\n",
            "  # This is added back by InteractiveShellApp.init_path()\n"
          ]
        },
        {
          "output_type": "stream",
          "name": "stdout",
          "text": [
            "precision:  0.971\n",
            "recall:  0.975\n",
            "fscore:  0.973\n",
            "accuracy:  0.987\n",
            "Number of data:  2923\n",
            "--------------------------------------------------\n",
            "242/276:  /content/Resources/BEST_I_CORPUS/TrainingSet/LST20_train_prep/T00628_prep.txt\n"
          ]
        },
        {
          "output_type": "stream",
          "name": "stderr",
          "text": [
            "/usr/local/lib/python3.7/dist-packages/ipykernel_launcher.py:11: DeprecationWarning: `np.bool` is a deprecated alias for the builtin `bool`. To silence this warning, use `bool` by itself. Doing this will not modify any behavior and is safe. If you specifically wanted the numpy scalar type, use `np.bool_` here.\n",
            "Deprecated in NumPy 1.20; for more details and guidance: https://numpy.org/devdocs/release/1.20.0-notes.html#deprecations\n",
            "  # This is added back by InteractiveShellApp.init_path()\n"
          ]
        },
        {
          "output_type": "stream",
          "name": "stdout",
          "text": [
            "precision:  0.975\n",
            "recall:  0.977\n",
            "fscore:  0.976\n",
            "accuracy:  0.986\n",
            "Number of data:  5052\n",
            "--------------------------------------------------\n",
            "243/276:  /content/Resources/BEST_I_CORPUS/TrainingSet/LST20_train_prep/T11700_prep.txt\n",
            "precision:  0.971\n",
            "recall:  0.965\n",
            "fscore:  0.968\n",
            "accuracy:  0.983\n",
            "Number of data:  1210\n",
            "--------------------------------------------------\n",
            "244/276:  /content/Resources/BEST_I_CORPUS/TrainingSet/LST20_train_prep/T01330_prep.txt\n"
          ]
        },
        {
          "output_type": "stream",
          "name": "stderr",
          "text": [
            "/usr/local/lib/python3.7/dist-packages/ipykernel_launcher.py:11: DeprecationWarning: `np.bool` is a deprecated alias for the builtin `bool`. To silence this warning, use `bool` by itself. Doing this will not modify any behavior and is safe. If you specifically wanted the numpy scalar type, use `np.bool_` here.\n",
            "Deprecated in NumPy 1.20; for more details and guidance: https://numpy.org/devdocs/release/1.20.0-notes.html#deprecations\n",
            "  # This is added back by InteractiveShellApp.init_path()\n",
            "/usr/local/lib/python3.7/dist-packages/ipykernel_launcher.py:11: DeprecationWarning: `np.bool` is a deprecated alias for the builtin `bool`. To silence this warning, use `bool` by itself. Doing this will not modify any behavior and is safe. If you specifically wanted the numpy scalar type, use `np.bool_` here.\n",
            "Deprecated in NumPy 1.20; for more details and guidance: https://numpy.org/devdocs/release/1.20.0-notes.html#deprecations\n",
            "  # This is added back by InteractiveShellApp.init_path()\n"
          ]
        },
        {
          "output_type": "stream",
          "name": "stdout",
          "text": [
            "precision:  0.956\n",
            "recall:  0.972\n",
            "fscore:  0.964\n",
            "accuracy:  0.982\n",
            "Number of data:  2548\n",
            "--------------------------------------------------\n",
            "245/276:  /content/Resources/BEST_I_CORPUS/TrainingSet/article/article_00099.txt\n"
          ]
        },
        {
          "output_type": "stream",
          "name": "stderr",
          "text": [
            "/usr/local/lib/python3.7/dist-packages/ipykernel_launcher.py:11: DeprecationWarning: `np.bool` is a deprecated alias for the builtin `bool`. To silence this warning, use `bool` by itself. Doing this will not modify any behavior and is safe. If you specifically wanted the numpy scalar type, use `np.bool_` here.\n",
            "Deprecated in NumPy 1.20; for more details and guidance: https://numpy.org/devdocs/release/1.20.0-notes.html#deprecations\n",
            "  # This is added back by InteractiveShellApp.init_path()\n"
          ]
        },
        {
          "output_type": "stream",
          "name": "stdout",
          "text": [
            "precision:  0.98\n",
            "recall:  0.97\n",
            "fscore:  0.975\n",
            "accuracy:  0.986\n",
            "Number of data:  26497\n",
            "--------------------------------------------------\n",
            "246/276:  /content/Resources/BEST_I_CORPUS/TrainingSet/LST20_train_prep/T11081_prep.txt\n"
          ]
        },
        {
          "output_type": "stream",
          "name": "stderr",
          "text": [
            "/usr/local/lib/python3.7/dist-packages/ipykernel_launcher.py:11: DeprecationWarning: `np.bool` is a deprecated alias for the builtin `bool`. To silence this warning, use `bool` by itself. Doing this will not modify any behavior and is safe. If you specifically wanted the numpy scalar type, use `np.bool_` here.\n",
            "Deprecated in NumPy 1.20; for more details and guidance: https://numpy.org/devdocs/release/1.20.0-notes.html#deprecations\n",
            "  # This is added back by InteractiveShellApp.init_path()\n"
          ]
        },
        {
          "output_type": "stream",
          "name": "stdout",
          "text": [
            "precision:  0.959\n",
            "recall:  0.986\n",
            "fscore:  0.972\n",
            "accuracy:  0.986\n",
            "Number of data:  1699\n",
            "--------------------------------------------------\n",
            "247/276:  /content/Resources/BEST_I_CORPUS/TrainingSet/LST20_train_prep/T10242_prep.txt\n"
          ]
        },
        {
          "output_type": "stream",
          "name": "stderr",
          "text": [
            "/usr/local/lib/python3.7/dist-packages/ipykernel_launcher.py:11: DeprecationWarning: `np.bool` is a deprecated alias for the builtin `bool`. To silence this warning, use `bool` by itself. Doing this will not modify any behavior and is safe. If you specifically wanted the numpy scalar type, use `np.bool_` here.\n",
            "Deprecated in NumPy 1.20; for more details and guidance: https://numpy.org/devdocs/release/1.20.0-notes.html#deprecations\n",
            "  # This is added back by InteractiveShellApp.init_path()\n"
          ]
        },
        {
          "output_type": "stream",
          "name": "stdout",
          "text": [
            "precision:  0.977\n",
            "recall:  0.979\n",
            "fscore:  0.978\n",
            "accuracy:  0.985\n",
            "Number of data:  1810\n",
            "--------------------------------------------------\n",
            "248/276:  /content/Resources/BEST_I_CORPUS/TrainingSet/LST20_train_prep/T00888_prep.txt\n"
          ]
        },
        {
          "output_type": "stream",
          "name": "stderr",
          "text": [
            "/usr/local/lib/python3.7/dist-packages/ipykernel_launcher.py:11: DeprecationWarning: `np.bool` is a deprecated alias for the builtin `bool`. To silence this warning, use `bool` by itself. Doing this will not modify any behavior and is safe. If you specifically wanted the numpy scalar type, use `np.bool_` here.\n",
            "Deprecated in NumPy 1.20; for more details and guidance: https://numpy.org/devdocs/release/1.20.0-notes.html#deprecations\n",
            "  # This is added back by InteractiveShellApp.init_path()\n"
          ]
        },
        {
          "output_type": "stream",
          "name": "stdout",
          "text": [
            "precision:  0.959\n",
            "recall:  0.98\n",
            "fscore:  0.97\n",
            "accuracy:  0.984\n",
            "Number of data:  1554\n",
            "--------------------------------------------------\n",
            "249/276:  /content/Resources/BEST_I_CORPUS/TrainingSet/LST20_train_prep/T10539_prep.txt\n"
          ]
        },
        {
          "output_type": "stream",
          "name": "stderr",
          "text": [
            "/usr/local/lib/python3.7/dist-packages/ipykernel_launcher.py:11: DeprecationWarning: `np.bool` is a deprecated alias for the builtin `bool`. To silence this warning, use `bool` by itself. Doing this will not modify any behavior and is safe. If you specifically wanted the numpy scalar type, use `np.bool_` here.\n",
            "Deprecated in NumPy 1.20; for more details and guidance: https://numpy.org/devdocs/release/1.20.0-notes.html#deprecations\n",
            "  # This is added back by InteractiveShellApp.init_path()\n"
          ]
        },
        {
          "output_type": "stream",
          "name": "stdout",
          "text": [
            "precision:  0.95\n",
            "recall:  0.976\n",
            "fscore:  0.963\n",
            "accuracy:  0.981\n",
            "Number of data:  2260\n",
            "--------------------------------------------------\n",
            "250/276:  /content/Resources/BEST_I_CORPUS/TrainingSet/encyclopedia/encyclopedia_00032.txt\n"
          ]
        },
        {
          "output_type": "stream",
          "name": "stderr",
          "text": [
            "/usr/local/lib/python3.7/dist-packages/ipykernel_launcher.py:11: DeprecationWarning: `np.bool` is a deprecated alias for the builtin `bool`. To silence this warning, use `bool` by itself. Doing this will not modify any behavior and is safe. If you specifically wanted the numpy scalar type, use `np.bool_` here.\n",
            "Deprecated in NumPy 1.20; for more details and guidance: https://numpy.org/devdocs/release/1.20.0-notes.html#deprecations\n",
            "  # This is added back by InteractiveShellApp.init_path()\n"
          ]
        },
        {
          "output_type": "stream",
          "name": "stdout",
          "text": [
            "precision:  0.965\n",
            "recall:  0.965\n",
            "fscore:  0.965\n",
            "accuracy:  0.982\n",
            "Number of data:  35687\n",
            "--------------------------------------------------\n",
            "251/276:  /content/Resources/BEST_I_CORPUS/TrainingSet/LST20_test_prep/T13440_prep.txt\n",
            "precision:  0.993\n",
            "recall:  0.978\n",
            "fscore:  0.986\n",
            "accuracy:  0.992\n",
            "Number of data:  494\n",
            "--------------------------------------------------\n",
            "252/276:  /content/Resources/BEST_I_CORPUS/TrainingSet/LST20_train_prep/T10263_prep.txt\n"
          ]
        },
        {
          "output_type": "stream",
          "name": "stderr",
          "text": [
            "/usr/local/lib/python3.7/dist-packages/ipykernel_launcher.py:11: DeprecationWarning: `np.bool` is a deprecated alias for the builtin `bool`. To silence this warning, use `bool` by itself. Doing this will not modify any behavior and is safe. If you specifically wanted the numpy scalar type, use `np.bool_` here.\n",
            "Deprecated in NumPy 1.20; for more details and guidance: https://numpy.org/devdocs/release/1.20.0-notes.html#deprecations\n",
            "  # This is added back by InteractiveShellApp.init_path()\n",
            "/usr/local/lib/python3.7/dist-packages/ipykernel_launcher.py:11: DeprecationWarning: `np.bool` is a deprecated alias for the builtin `bool`. To silence this warning, use `bool` by itself. Doing this will not modify any behavior and is safe. If you specifically wanted the numpy scalar type, use `np.bool_` here.\n",
            "Deprecated in NumPy 1.20; for more details and guidance: https://numpy.org/devdocs/release/1.20.0-notes.html#deprecations\n",
            "  # This is added back by InteractiveShellApp.init_path()\n"
          ]
        },
        {
          "output_type": "stream",
          "name": "stdout",
          "text": [
            "precision:  0.983\n",
            "recall:  0.992\n",
            "fscore:  0.988\n",
            "accuracy:  0.993\n",
            "Number of data:  2542\n",
            "--------------------------------------------------\n",
            "253/276:  /content/Resources/BEST_I_CORPUS/TrainingSet/LST20_train_prep/T10209_prep.txt\n",
            "precision:  0.995\n",
            "recall:  1.0\n",
            "fscore:  0.997\n",
            "accuracy:  0.999\n",
            "Number of data:  703\n",
            "--------------------------------------------------\n",
            "254/276:  /content/Resources/BEST_I_CORPUS/TrainingSet/IMDB_train/imdb_222.txt\n"
          ]
        },
        {
          "output_type": "stream",
          "name": "stderr",
          "text": [
            "/usr/local/lib/python3.7/dist-packages/ipykernel_launcher.py:11: DeprecationWarning: `np.bool` is a deprecated alias for the builtin `bool`. To silence this warning, use `bool` by itself. Doing this will not modify any behavior and is safe. If you specifically wanted the numpy scalar type, use `np.bool_` here.\n",
            "Deprecated in NumPy 1.20; for more details and guidance: https://numpy.org/devdocs/release/1.20.0-notes.html#deprecations\n",
            "  # This is added back by InteractiveShellApp.init_path()\n",
            "/usr/local/lib/python3.7/dist-packages/ipykernel_launcher.py:11: DeprecationWarning: `np.bool` is a deprecated alias for the builtin `bool`. To silence this warning, use `bool` by itself. Doing this will not modify any behavior and is safe. If you specifically wanted the numpy scalar type, use `np.bool_` here.\n",
            "Deprecated in NumPy 1.20; for more details and guidance: https://numpy.org/devdocs/release/1.20.0-notes.html#deprecations\n",
            "  # This is added back by InteractiveShellApp.init_path()\n"
          ]
        },
        {
          "output_type": "stream",
          "name": "stdout",
          "text": [
            "precision:  0.905\n",
            "recall:  0.882\n",
            "fscore:  0.894\n",
            "accuracy:  0.944\n",
            "Number of data:  896\n",
            "--------------------------------------------------\n",
            "255/276:  /content/Resources/BEST_I_CORPUS/TrainingSet/LST20_train_prep/T11406_prep.txt\n",
            "precision:  0.935\n",
            "recall:  0.984\n",
            "fscore:  0.958\n",
            "accuracy:  0.978\n",
            "Number of data:  1209\n",
            "--------------------------------------------------\n",
            "256/276:  /content/Resources/BEST_I_CORPUS/TrainingSet/LST20_train_prep/T01690_prep.txt\n"
          ]
        },
        {
          "output_type": "stream",
          "name": "stderr",
          "text": [
            "/usr/local/lib/python3.7/dist-packages/ipykernel_launcher.py:11: DeprecationWarning: `np.bool` is a deprecated alias for the builtin `bool`. To silence this warning, use `bool` by itself. Doing this will not modify any behavior and is safe. If you specifically wanted the numpy scalar type, use `np.bool_` here.\n",
            "Deprecated in NumPy 1.20; for more details and guidance: https://numpy.org/devdocs/release/1.20.0-notes.html#deprecations\n",
            "  # This is added back by InteractiveShellApp.init_path()\n",
            "/usr/local/lib/python3.7/dist-packages/ipykernel_launcher.py:11: DeprecationWarning: `np.bool` is a deprecated alias for the builtin `bool`. To silence this warning, use `bool` by itself. Doing this will not modify any behavior and is safe. If you specifically wanted the numpy scalar type, use `np.bool_` here.\n",
            "Deprecated in NumPy 1.20; for more details and guidance: https://numpy.org/devdocs/release/1.20.0-notes.html#deprecations\n",
            "  # This is added back by InteractiveShellApp.init_path()\n"
          ]
        },
        {
          "output_type": "stream",
          "name": "stdout",
          "text": [
            "precision:  0.961\n",
            "recall:  0.973\n",
            "fscore:  0.967\n",
            "accuracy:  0.983\n",
            "Number of data:  1567\n",
            "--------------------------------------------------\n",
            "257/276:  /content/Resources/BEST_I_CORPUS/TrainingSet/LST20_train_prep/T10187_prep.txt\n",
            "precision:  0.987\n",
            "recall:  0.979\n",
            "fscore:  0.983\n",
            "accuracy:  0.99\n",
            "Number of data:  763\n",
            "--------------------------------------------------\n",
            "258/276:  /content/Resources/BEST_I_CORPUS/TrainingSet/LST20_train_prep/T10978_prep.txt\n"
          ]
        },
        {
          "output_type": "stream",
          "name": "stderr",
          "text": [
            "/usr/local/lib/python3.7/dist-packages/ipykernel_launcher.py:11: DeprecationWarning: `np.bool` is a deprecated alias for the builtin `bool`. To silence this warning, use `bool` by itself. Doing this will not modify any behavior and is safe. If you specifically wanted the numpy scalar type, use `np.bool_` here.\n",
            "Deprecated in NumPy 1.20; for more details and guidance: https://numpy.org/devdocs/release/1.20.0-notes.html#deprecations\n",
            "  # This is added back by InteractiveShellApp.init_path()\n",
            "/usr/local/lib/python3.7/dist-packages/ipykernel_launcher.py:11: DeprecationWarning: `np.bool` is a deprecated alias for the builtin `bool`. To silence this warning, use `bool` by itself. Doing this will not modify any behavior and is safe. If you specifically wanted the numpy scalar type, use `np.bool_` here.\n",
            "Deprecated in NumPy 1.20; for more details and guidance: https://numpy.org/devdocs/release/1.20.0-notes.html#deprecations\n",
            "  # This is added back by InteractiveShellApp.init_path()\n"
          ]
        },
        {
          "output_type": "stream",
          "name": "stdout",
          "text": [
            "precision:  0.966\n",
            "recall:  0.985\n",
            "fscore:  0.975\n",
            "accuracy:  0.987\n",
            "Number of data:  2006\n",
            "--------------------------------------------------\n",
            "259/276:  /content/Resources/BEST_I_CORPUS/TrainingSet/LST20_eval_prep/T13213_prep.txt\n",
            "precision:  0.987\n",
            "recall:  0.978\n",
            "fscore:  0.982\n",
            "accuracy:  0.99\n",
            "Number of data:  781\n",
            "--------------------------------------------------\n",
            "260/276:  /content/Resources/BEST_I_CORPUS/TrainingSet/LST20_train_prep/T11717_prep.txt\n"
          ]
        },
        {
          "output_type": "stream",
          "name": "stderr",
          "text": [
            "/usr/local/lib/python3.7/dist-packages/ipykernel_launcher.py:11: DeprecationWarning: `np.bool` is a deprecated alias for the builtin `bool`. To silence this warning, use `bool` by itself. Doing this will not modify any behavior and is safe. If you specifically wanted the numpy scalar type, use `np.bool_` here.\n",
            "Deprecated in NumPy 1.20; for more details and guidance: https://numpy.org/devdocs/release/1.20.0-notes.html#deprecations\n",
            "  # This is added back by InteractiveShellApp.init_path()\n",
            "/usr/local/lib/python3.7/dist-packages/ipykernel_launcher.py:11: DeprecationWarning: `np.bool` is a deprecated alias for the builtin `bool`. To silence this warning, use `bool` by itself. Doing this will not modify any behavior and is safe. If you specifically wanted the numpy scalar type, use `np.bool_` here.\n",
            "Deprecated in NumPy 1.20; for more details and guidance: https://numpy.org/devdocs/release/1.20.0-notes.html#deprecations\n",
            "  # This is added back by InteractiveShellApp.init_path()\n"
          ]
        },
        {
          "output_type": "stream",
          "name": "stdout",
          "text": [
            "precision:  0.98\n",
            "recall:  0.987\n",
            "fscore:  0.984\n",
            "accuracy:  0.991\n",
            "Number of data:  1403\n",
            "--------------------------------------------------\n",
            "261/276:  /content/Resources/BEST_I_CORPUS/TrainingSet/LST20_train_prep/T10265_prep.txt\n",
            "precision:  0.959\n",
            "recall:  0.976\n",
            "fscore:  0.968\n",
            "accuracy:  0.982\n",
            "Number of data:  612\n",
            "--------------------------------------------------\n",
            "262/276:  /content/Resources/BEST_I_CORPUS/TrainingSet/LST20_train_prep/T00309_prep.txt\n"
          ]
        },
        {
          "output_type": "stream",
          "name": "stderr",
          "text": [
            "/usr/local/lib/python3.7/dist-packages/ipykernel_launcher.py:11: DeprecationWarning: `np.bool` is a deprecated alias for the builtin `bool`. To silence this warning, use `bool` by itself. Doing this will not modify any behavior and is safe. If you specifically wanted the numpy scalar type, use `np.bool_` here.\n",
            "Deprecated in NumPy 1.20; for more details and guidance: https://numpy.org/devdocs/release/1.20.0-notes.html#deprecations\n",
            "  # This is added back by InteractiveShellApp.init_path()\n",
            "/usr/local/lib/python3.7/dist-packages/ipykernel_launcher.py:11: DeprecationWarning: `np.bool` is a deprecated alias for the builtin `bool`. To silence this warning, use `bool` by itself. Doing this will not modify any behavior and is safe. If you specifically wanted the numpy scalar type, use `np.bool_` here.\n",
            "Deprecated in NumPy 1.20; for more details and guidance: https://numpy.org/devdocs/release/1.20.0-notes.html#deprecations\n",
            "  # This is added back by InteractiveShellApp.init_path()\n"
          ]
        },
        {
          "output_type": "stream",
          "name": "stdout",
          "text": [
            "precision:  0.957\n",
            "recall:  0.96\n",
            "fscore:  0.958\n",
            "accuracy:  0.98\n",
            "Number of data:  1151\n",
            "--------------------------------------------------\n",
            "263/276:  /content/Resources/BEST_I_CORPUS/TrainingSet/LST20_train_prep/T00284_prep.txt\n"
          ]
        },
        {
          "output_type": "stream",
          "name": "stderr",
          "text": [
            "/usr/local/lib/python3.7/dist-packages/ipykernel_launcher.py:11: DeprecationWarning: `np.bool` is a deprecated alias for the builtin `bool`. To silence this warning, use `bool` by itself. Doing this will not modify any behavior and is safe. If you specifically wanted the numpy scalar type, use `np.bool_` here.\n",
            "Deprecated in NumPy 1.20; for more details and guidance: https://numpy.org/devdocs/release/1.20.0-notes.html#deprecations\n",
            "  # This is added back by InteractiveShellApp.init_path()\n"
          ]
        },
        {
          "output_type": "stream",
          "name": "stdout",
          "text": [
            "precision:  0.956\n",
            "recall:  0.973\n",
            "fscore:  0.964\n",
            "accuracy:  0.983\n",
            "Number of data:  2769\n",
            "--------------------------------------------------\n",
            "264/276:  /content/Resources/BEST_I_CORPUS/TrainingSet/LST20_train_prep/T00471_prep.txt\n"
          ]
        },
        {
          "output_type": "stream",
          "name": "stderr",
          "text": [
            "/usr/local/lib/python3.7/dist-packages/ipykernel_launcher.py:11: DeprecationWarning: `np.bool` is a deprecated alias for the builtin `bool`. To silence this warning, use `bool` by itself. Doing this will not modify any behavior and is safe. If you specifically wanted the numpy scalar type, use `np.bool_` here.\n",
            "Deprecated in NumPy 1.20; for more details and guidance: https://numpy.org/devdocs/release/1.20.0-notes.html#deprecations\n",
            "  # This is added back by InteractiveShellApp.init_path()\n"
          ]
        },
        {
          "output_type": "stream",
          "name": "stdout",
          "text": [
            "precision:  0.966\n",
            "recall:  0.978\n",
            "fscore:  0.972\n",
            "accuracy:  0.986\n",
            "Number of data:  8752\n",
            "--------------------------------------------------\n",
            "265/276:  /content/Resources/BEST_I_CORPUS/TrainingSet/LST20_train_prep/T11842_prep.txt\n",
            "precision:  0.956\n",
            "recall:  0.979\n",
            "fscore:  0.967\n",
            "accuracy:  0.984\n",
            "Number of data:  1164\n",
            "--------------------------------------------------\n",
            "266/276:  /content/Resources/BEST_I_CORPUS/TrainingSet/LST20_train_prep/T00481_prep.txt\n"
          ]
        },
        {
          "output_type": "stream",
          "name": "stderr",
          "text": [
            "/usr/local/lib/python3.7/dist-packages/ipykernel_launcher.py:11: DeprecationWarning: `np.bool` is a deprecated alias for the builtin `bool`. To silence this warning, use `bool` by itself. Doing this will not modify any behavior and is safe. If you specifically wanted the numpy scalar type, use `np.bool_` here.\n",
            "Deprecated in NumPy 1.20; for more details and guidance: https://numpy.org/devdocs/release/1.20.0-notes.html#deprecations\n",
            "  # This is added back by InteractiveShellApp.init_path()\n",
            "/usr/local/lib/python3.7/dist-packages/ipykernel_launcher.py:11: DeprecationWarning: `np.bool` is a deprecated alias for the builtin `bool`. To silence this warning, use `bool` by itself. Doing this will not modify any behavior and is safe. If you specifically wanted the numpy scalar type, use `np.bool_` here.\n",
            "Deprecated in NumPy 1.20; for more details and guidance: https://numpy.org/devdocs/release/1.20.0-notes.html#deprecations\n",
            "  # This is added back by InteractiveShellApp.init_path()\n"
          ]
        },
        {
          "output_type": "stream",
          "name": "stdout",
          "text": [
            "precision:  0.973\n",
            "recall:  0.967\n",
            "fscore:  0.97\n",
            "accuracy:  0.981\n",
            "Number of data:  2528\n",
            "--------------------------------------------------\n",
            "267/276:  /content/Resources/BEST_I_CORPUS/TrainingSet/LST20_train_prep/T11884_prep.txt\n",
            "precision:  0.946\n",
            "recall:  0.952\n",
            "fscore:  0.949\n",
            "accuracy:  0.975\n",
            "Number of data:  1217\n",
            "--------------------------------------------------\n",
            "268/276:  /content/Resources/BEST_I_CORPUS/TrainingSet/LST20_train_prep/T01661_prep.txt\n"
          ]
        },
        {
          "output_type": "stream",
          "name": "stderr",
          "text": [
            "/usr/local/lib/python3.7/dist-packages/ipykernel_launcher.py:11: DeprecationWarning: `np.bool` is a deprecated alias for the builtin `bool`. To silence this warning, use `bool` by itself. Doing this will not modify any behavior and is safe. If you specifically wanted the numpy scalar type, use `np.bool_` here.\n",
            "Deprecated in NumPy 1.20; for more details and guidance: https://numpy.org/devdocs/release/1.20.0-notes.html#deprecations\n",
            "  # This is added back by InteractiveShellApp.init_path()\n",
            "/usr/local/lib/python3.7/dist-packages/ipykernel_launcher.py:11: DeprecationWarning: `np.bool` is a deprecated alias for the builtin `bool`. To silence this warning, use `bool` by itself. Doing this will not modify any behavior and is safe. If you specifically wanted the numpy scalar type, use `np.bool_` here.\n",
            "Deprecated in NumPy 1.20; for more details and guidance: https://numpy.org/devdocs/release/1.20.0-notes.html#deprecations\n",
            "  # This is added back by InteractiveShellApp.init_path()\n"
          ]
        },
        {
          "output_type": "stream",
          "name": "stdout",
          "text": [
            "precision:  0.99\n",
            "recall:  0.988\n",
            "fscore:  0.989\n",
            "accuracy:  0.994\n",
            "Number of data:  1438\n",
            "--------------------------------------------------\n",
            "269/276:  /content/Resources/BEST_I_CORPUS/TrainingSet/LST20_train_prep/T01240_prep.txt\n"
          ]
        },
        {
          "output_type": "stream",
          "name": "stderr",
          "text": [
            "/usr/local/lib/python3.7/dist-packages/ipykernel_launcher.py:11: DeprecationWarning: `np.bool` is a deprecated alias for the builtin `bool`. To silence this warning, use `bool` by itself. Doing this will not modify any behavior and is safe. If you specifically wanted the numpy scalar type, use `np.bool_` here.\n",
            "Deprecated in NumPy 1.20; for more details and guidance: https://numpy.org/devdocs/release/1.20.0-notes.html#deprecations\n",
            "  # This is added back by InteractiveShellApp.init_path()\n"
          ]
        },
        {
          "output_type": "stream",
          "name": "stdout",
          "text": [
            "precision:  0.951\n",
            "recall:  0.989\n",
            "fscore:  0.97\n",
            "accuracy:  0.982\n",
            "Number of data:  2205\n",
            "--------------------------------------------------\n",
            "270/276:  /content/Resources/BEST_I_CORPUS/TrainingSet/LST20_train_prep/T10308_prep.txt\n"
          ]
        },
        {
          "output_type": "stream",
          "name": "stderr",
          "text": [
            "/usr/local/lib/python3.7/dist-packages/ipykernel_launcher.py:11: DeprecationWarning: `np.bool` is a deprecated alias for the builtin `bool`. To silence this warning, use `bool` by itself. Doing this will not modify any behavior and is safe. If you specifically wanted the numpy scalar type, use `np.bool_` here.\n",
            "Deprecated in NumPy 1.20; for more details and guidance: https://numpy.org/devdocs/release/1.20.0-notes.html#deprecations\n",
            "  # This is added back by InteractiveShellApp.init_path()\n"
          ]
        },
        {
          "output_type": "stream",
          "name": "stdout",
          "text": [
            "precision:  0.983\n",
            "recall:  0.977\n",
            "fscore:  0.98\n",
            "accuracy:  0.989\n",
            "Number of data:  1661\n",
            "--------------------------------------------------\n",
            "271/276:  /content/Resources/BEST_I_CORPUS/TrainingSet/IMDB_train/imdb_81.txt\n",
            "precision:  0.894\n",
            "recall:  0.853\n",
            "fscore:  0.873\n",
            "accuracy:  0.931\n",
            "Number of data:  393\n",
            "--------------------------------------------------\n",
            "272/276:  /content/Resources/BEST_I_CORPUS/TrainingSet/LST20_train_prep/T10411_prep.txt\n"
          ]
        },
        {
          "output_type": "stream",
          "name": "stderr",
          "text": [
            "/usr/local/lib/python3.7/dist-packages/ipykernel_launcher.py:11: DeprecationWarning: `np.bool` is a deprecated alias for the builtin `bool`. To silence this warning, use `bool` by itself. Doing this will not modify any behavior and is safe. If you specifically wanted the numpy scalar type, use `np.bool_` here.\n",
            "Deprecated in NumPy 1.20; for more details and guidance: https://numpy.org/devdocs/release/1.20.0-notes.html#deprecations\n",
            "  # This is added back by InteractiveShellApp.init_path()\n",
            "/usr/local/lib/python3.7/dist-packages/ipykernel_launcher.py:11: DeprecationWarning: `np.bool` is a deprecated alias for the builtin `bool`. To silence this warning, use `bool` by itself. Doing this will not modify any behavior and is safe. If you specifically wanted the numpy scalar type, use `np.bool_` here.\n",
            "Deprecated in NumPy 1.20; for more details and guidance: https://numpy.org/devdocs/release/1.20.0-notes.html#deprecations\n",
            "  # This is added back by InteractiveShellApp.init_path()\n"
          ]
        },
        {
          "output_type": "stream",
          "name": "stdout",
          "text": [
            "precision:  0.994\n",
            "recall:  0.994\n",
            "fscore:  0.994\n",
            "accuracy:  0.997\n",
            "Number of data:  708\n",
            "--------------------------------------------------\n",
            "273/276:  /content/Resources/BEST_I_CORPUS/TrainingSet/LST20_train_prep/T12859_prep.txt\n"
          ]
        },
        {
          "output_type": "stream",
          "name": "stderr",
          "text": [
            "/usr/local/lib/python3.7/dist-packages/ipykernel_launcher.py:11: DeprecationWarning: `np.bool` is a deprecated alias for the builtin `bool`. To silence this warning, use `bool` by itself. Doing this will not modify any behavior and is safe. If you specifically wanted the numpy scalar type, use `np.bool_` here.\n",
            "Deprecated in NumPy 1.20; for more details and guidance: https://numpy.org/devdocs/release/1.20.0-notes.html#deprecations\n",
            "  # This is added back by InteractiveShellApp.init_path()\n"
          ]
        },
        {
          "output_type": "stream",
          "name": "stdout",
          "text": [
            "precision:  0.962\n",
            "recall:  0.983\n",
            "fscore:  0.973\n",
            "accuracy:  0.988\n",
            "Number of data:  1870\n",
            "--------------------------------------------------\n",
            "274/276:  /content/Resources/BEST_I_CORPUS/TrainingSet/LST20_train_prep/T11366_prep.txt\n"
          ]
        },
        {
          "output_type": "stream",
          "name": "stderr",
          "text": [
            "/usr/local/lib/python3.7/dist-packages/ipykernel_launcher.py:11: DeprecationWarning: `np.bool` is a deprecated alias for the builtin `bool`. To silence this warning, use `bool` by itself. Doing this will not modify any behavior and is safe. If you specifically wanted the numpy scalar type, use `np.bool_` here.\n",
            "Deprecated in NumPy 1.20; for more details and guidance: https://numpy.org/devdocs/release/1.20.0-notes.html#deprecations\n",
            "  # This is added back by InteractiveShellApp.init_path()\n"
          ]
        },
        {
          "output_type": "stream",
          "name": "stdout",
          "text": [
            "precision:  0.961\n",
            "recall:  0.987\n",
            "fscore:  0.974\n",
            "accuracy:  0.986\n",
            "Number of data:  3012\n",
            "--------------------------------------------------\n",
            "275/276:  /content/Resources/BEST_I_CORPUS/TrainingSet/LST20_train_prep/T01444_prep.txt\n"
          ]
        },
        {
          "output_type": "stream",
          "name": "stderr",
          "text": [
            "/usr/local/lib/python3.7/dist-packages/ipykernel_launcher.py:11: DeprecationWarning: `np.bool` is a deprecated alias for the builtin `bool`. To silence this warning, use `bool` by itself. Doing this will not modify any behavior and is safe. If you specifically wanted the numpy scalar type, use `np.bool_` here.\n",
            "Deprecated in NumPy 1.20; for more details and guidance: https://numpy.org/devdocs/release/1.20.0-notes.html#deprecations\n",
            "  # This is added back by InteractiveShellApp.init_path()\n"
          ]
        },
        {
          "output_type": "stream",
          "name": "stdout",
          "text": [
            "precision:  0.973\n",
            "recall:  0.984\n",
            "fscore:  0.978\n",
            "accuracy:  0.989\n",
            "Number of data:  2449\n",
            "--------------------------------------------------\n",
            "276/276:  /content/Resources/BEST_I_CORPUS/TrainingSet/LST20_train_prep/T00671_prep.txt\n"
          ]
        },
        {
          "output_type": "stream",
          "name": "stderr",
          "text": [
            "/usr/local/lib/python3.7/dist-packages/ipykernel_launcher.py:11: DeprecationWarning: `np.bool` is a deprecated alias for the builtin `bool`. To silence this warning, use `bool` by itself. Doing this will not modify any behavior and is safe. If you specifically wanted the numpy scalar type, use `np.bool_` here.\n",
            "Deprecated in NumPy 1.20; for more details and guidance: https://numpy.org/devdocs/release/1.20.0-notes.html#deprecations\n",
            "  # This is added back by InteractiveShellApp.init_path()\n"
          ]
        },
        {
          "output_type": "stream",
          "name": "stdout",
          "text": [
            "precision:  0.973\n",
            "recall:  0.987\n",
            "fscore:  0.98\n",
            "accuracy:  0.989\n",
            "Number of data:  5674\n",
            "--------------------------------------------------\n"
          ]
        }
      ]
    },
    {
      "cell_type": "code",
      "source": [
        "# mean value\n",
        "\n",
        "precision = round(np.mean(avg['precision']), 3)\n",
        "recall = round(np.mean(avg['recall']), 3)\n",
        "fscore = round(np.mean(avg['fscore']), 3)\n",
        "acc = round(np.mean(avg['fscore']), 3)\n",
        "\n",
        "print('mean precision: ', round(precision, 3))\n",
        "print('mean recall: ', round(recall, 3))\n",
        "print('mean fscore: ', round(fscore, 3))\n",
        "print('mean accuracy: ', round(acc, 3))"
      ],
      "metadata": {
        "id": "5cRiKPHPwW0u",
        "colab": {
          "base_uri": "https://localhost:8080/"
        },
        "outputId": "6e6e929b-af03-4a79-f782-b622ea901b54"
      },
      "execution_count": null,
      "outputs": [
        {
          "output_type": "stream",
          "name": "stdout",
          "text": [
            "mean precision:  0.964\n",
            "mean recall:  0.971\n",
            "mean fscore:  0.967\n",
            "mean accuracy:  0.967\n"
          ]
        }
      ]
    },
    {
      "cell_type": "markdown",
      "source": [
        "### Make Thai Word Tokenizer"
      ],
      "metadata": {
        "id": "KfSW-6UowYS6"
      }
    },
    {
      "cell_type": "code",
      "source": [
        "def word_tokenize(model, text):\n",
        "    input_text_encode = pred_preprocessing(text)\n",
        "    class_ = predict(model, input_text_encode) + [1]\n",
        "    cut_indexs = [i for i, value in enumerate(class_) if value == 1]\n",
        "    words = [text[cut_indexs[i]:cut_indexs[i+1]] for i in range(len(cut_indexs)-1)]\n",
        "    return words"
      ],
      "metadata": {
        "id": "UXSv-T7gwZ5M"
      },
      "execution_count": null,
      "outputs": []
    },
    {
      "cell_type": "markdown",
      "source": [
        "Sample text input from test set"
      ],
      "metadata": {
        "id": "J2HYkExfwceC"
      }
    },
    {
      "cell_type": "code",
      "source": [
        "text = preprocessing(read_text(file_test[0]), wordlist2)\n",
        "display(text)"
      ],
      "metadata": {
        "id": "YVNypZG0weML"
      },
      "execution_count": null,
      "outputs": []
    },
    {
      "cell_type": "code",
      "source": [
        "words = word_tokenize(best_model, text)\n",
        "print('|'.join(words))"
      ],
      "metadata": {
        "id": "JJSQotT3wjWS"
      },
      "execution_count": null,
      "outputs": []
    },
    {
      "cell_type": "markdown",
      "source": [
        "# Tokenizer"
      ],
      "metadata": {
        "id": "IqP1fybDxQy5"
      }
    },
    {
      "cell_type": "code",
      "source": [
        "from keras.models import load_model\n",
        "from glob import glob\n",
        "import numpy as np\n",
        "import json\n",
        "import os"
      ],
      "metadata": {
        "id": "QDNnVJvJxjDX"
      },
      "execution_count": null,
      "outputs": []
    },
    {
      "cell_type": "code",
      "source": [
        "def read_json(fname, key_int=False):\n",
        "    with open(fname, 'r') as file:\n",
        "        data = file.read()\n",
        "        json_data = json.loads(data)\n",
        "        \n",
        "        if not key_int:\n",
        "            return json_data\n",
        "        \n",
        "        json_data = {int(key): value for key, value in json_data.items()}\n",
        "        return json_data\n",
        "    \n",
        "    \n",
        "def pred_preprocessing(text, sequence_len=20):\n",
        "    # create dataset\n",
        "    X = []\n",
        "    data = [CHAR_INDICES['<pad>']] * sequence_len\n",
        "    for char in text:\n",
        "        char = char if char in CHAR_INDICES else '<unk>'  # check char in dictionary\n",
        "        data = data[1:] + [CHAR_INDICES[char]]  # X data\n",
        "        X.append(data)\n",
        "        \n",
        "    # data encoding\n",
        "    encode_X = np.zeros((len(X), sequence_len, len(CHAR_INDICES)), dtype=np.bool)\n",
        "    for i, data in enumerate(X):\n",
        "        for t, char in enumerate(data):\n",
        "            encode_X[i, t, char] = 1\n",
        "    return encode_X\n",
        "\n",
        "\n",
        "def predict(text_encode):\n",
        "    preds = MODEL.predict(text_encode)\n",
        "    class_ = [np.argmax(pred) for pred in preds]\n",
        "    return class_\n",
        "\n",
        "\n",
        "def word_tokenize(text):\n",
        "    input_text_encode = pred_preprocessing(text)\n",
        "    class_ = predict(input_text_encode) + [1]\n",
        "    cut_indexs = [i for i, value in enumerate(class_) if value == 1]\n",
        "    words = [text[cut_indexs[i]:cut_indexs[i+1]] for i in range(len(cut_indexs)-1)]\n",
        "    return words"
      ],
      "metadata": {
        "id": "X9zupzA4xeyN"
      },
      "execution_count": null,
      "outputs": []
    },
    {
      "cell_type": "code",
      "source": [
        "# Loading model and char index dict\n",
        "# PATH_MAIN = '/content/content/drive/MyDrive/Colab Notebooks/SuperAI_Hackathon/Hackathon_week2_NLP/Resources'\n",
        "# PATH_MAIN = '/content/drive/MyDrive/Hackathon_NLP/Model'\n",
        "\n",
        "# best_model_checkpoint = sorted(glob(os.path.join(PATH_MAIN, 'models_1024/*')))[-1]\n",
        "# print(best_model_checkpoint)\n",
        "\n",
        "# MODEL = load_model('/content/drive/MyDrive/Hackathon_NLP/Model/models_IMDB_bs4096_BiLSTM_Dropout/weights-improvement-045-0.980_extension.hdf5')  # load Model\n",
        "MODEL = load_model('/content/drive/MyDrive/Hackathon_NLP/Model/models_IMDB_bs1024_2BiLSTM/weights-improvement-021-0.982_extension.hdf5')  # load Model\n",
        "# PATH_MAIN = '/content/content/drive/MyDrive/Colab Notebooks/SuperAI_Hackathon/Hackathon_week2_NLP/Resources'\n",
        "# CHAR_INDICES = read_json('/content/Resources/models/CHAR_INDICES.json', key_int=False)\n",
        "CHAR_INDICES = read_json('/content/CHAR_INDICES_199.json', key_int=False)"
      ],
      "metadata": {
        "id": "ZIju83d8xSO3"
      },
      "execution_count": null,
      "outputs": []
    },
    {
      "cell_type": "markdown",
      "source": [
        "### Usage"
      ],
      "metadata": {
        "id": "VZnv6UtzUQ0U"
      }
    },
    {
      "cell_type": "code",
      "source": [
        "string = 'กนกคนตลกชวนดวงกมลคนผอมรอชมภมรดมดอมดอกขจรสองคนชอบจอดรถตรงตรอกยอมทนอดนอนอดกรนรอยลภมรดมดอกหอมบนขอนตรงคลองมอญ'"
      ],
      "metadata": {
        "id": "MkT8HgSmirGg"
      },
      "execution_count": null,
      "outputs": []
    },
    {
      "cell_type": "code",
      "source": [
        "word_tokenize(string)"
      ],
      "metadata": {
        "id": "_c-9e7mrUQTH",
        "colab": {
          "base_uri": "https://localhost:8080/"
        },
        "outputId": "092449ba-a631-42b8-9dc8-ea97fb98b8b9"
      },
      "execution_count": null,
      "outputs": [
        {
          "output_type": "stream",
          "name": "stderr",
          "text": [
            "/usr/local/lib/python3.7/dist-packages/ipykernel_launcher.py:23: DeprecationWarning: `np.bool` is a deprecated alias for the builtin `bool`. To silence this warning, use `bool` by itself. Doing this will not modify any behavior and is safe. If you specifically wanted the numpy scalar type, use `np.bool_` here.\n",
            "Deprecated in NumPy 1.20; for more details and guidance: https://numpy.org/devdocs/release/1.20.0-notes.html#deprecations\n"
          ]
        },
        {
          "output_type": "execute_result",
          "data": {
            "text/plain": [
              "['กนก',\n",
              " 'คน',\n",
              " 'ตลก',\n",
              " 'ชวน',\n",
              " 'ดวง',\n",
              " 'กมล',\n",
              " 'คน',\n",
              " 'ผอม',\n",
              " 'รอช',\n",
              " 'มภม',\n",
              " 'รดม',\n",
              " 'ดอมดอก',\n",
              " 'ขจรสอง',\n",
              " 'คน',\n",
              " 'ชอบ',\n",
              " 'จอด',\n",
              " 'รถ',\n",
              " 'ตรง',\n",
              " 'ตรอก',\n",
              " 'ยอม',\n",
              " 'ทน',\n",
              " 'อด',\n",
              " 'นอน',\n",
              " 'อด',\n",
              " 'กรน',\n",
              " 'รอย',\n",
              " 'ลภ',\n",
              " 'มรดม',\n",
              " 'ดอก',\n",
              " 'หอม',\n",
              " 'บน',\n",
              " 'ขอนตรงคลอง',\n",
              " 'มอญ']"
            ]
          },
          "metadata": {},
          "execution_count": 14
        }
      ]
    },
    {
      "cell_type": "code",
      "source": [
        "PATH_MAIN = '/content/Resources'\n",
        "with open(os.path.join(PATH_MAIN, 'ws_test.txt'), 'r') as file:\n",
        "    data = file.read()"
      ],
      "metadata": {
        "id": "Wj4nzD4cVhJ2"
      },
      "execution_count": null,
      "outputs": []
    },
    {
      "cell_type": "code",
      "source": [
        "len(data)"
      ],
      "metadata": {
        "id": "ivvUmtozVm-u",
        "colab": {
          "base_uri": "https://localhost:8080/"
        },
        "outputId": "3642aaef-9532-4b5e-f260-8f0f1c84d622"
      },
      "execution_count": null,
      "outputs": [
        {
          "output_type": "execute_result",
          "data": {
            "text/plain": [
              "37248"
            ]
          },
          "metadata": {},
          "execution_count": 51
        }
      ]
    },
    {
      "cell_type": "code",
      "source": [
        "data_token = word_tokenize(data)"
      ],
      "metadata": {
        "id": "tyaS8sQaVxT1",
        "colab": {
          "base_uri": "https://localhost:8080/"
        },
        "outputId": "eeff6ca9-42e0-499e-cf4b-34d024dbc6df"
      },
      "execution_count": null,
      "outputs": [
        {
          "output_type": "stream",
          "name": "stderr",
          "text": [
            "/usr/local/lib/python3.7/dist-packages/ipykernel_launcher.py:23: DeprecationWarning: `np.bool` is a deprecated alias for the builtin `bool`. To silence this warning, use `bool` by itself. Doing this will not modify any behavior and is safe. If you specifically wanted the numpy scalar type, use `np.bool_` here.\n",
            "Deprecated in NumPy 1.20; for more details and guidance: https://numpy.org/devdocs/release/1.20.0-notes.html#deprecations\n"
          ]
        }
      ]
    },
    {
      "cell_type": "code",
      "source": [
        "print(len(data_token))"
      ],
      "metadata": {
        "id": "RenPTzZNV5F3",
        "colab": {
          "base_uri": "https://localhost:8080/"
        },
        "outputId": "99609547-7ddf-4e5b-8fdc-0505ba06aac9"
      },
      "execution_count": null,
      "outputs": [
        {
          "output_type": "stream",
          "name": "stdout",
          "text": [
            "10272\n"
          ]
        }
      ]
    },
    {
      "cell_type": "markdown",
      "source": [
        "# Save Dataframe for post processing"
      ],
      "metadata": {
        "id": "0xxU4q9g-3Y3"
      }
    },
    {
      "cell_type": "code",
      "source": [
        "# import pandas as pd\n",
        "\n",
        "# words_result = pd.DataFrame({'Word':data_token})\n",
        "# words_result.head()"
      ],
      "metadata": {
        "id": "21DStLLQ-7LF"
      },
      "execution_count": null,
      "outputs": []
    },
    {
      "cell_type": "code",
      "source": [
        "# ## Check ความ.../การ.../นัก.../คณะ.../ชาว.../ข้อ.../ปลอด\n",
        "\n",
        "# words_result_combined = []\n",
        "# word_index = 0\n",
        "# number_of_words =len(words_result)\n",
        "\n",
        "\n",
        "# while word_index < number_of_words-1:\n",
        "#     if words_result[\"Word\"][word_index+1] == \" \":\n",
        "#       word_combined = words_result[\"Word\"][word_index]\n",
        "#       word_index += 1 \n",
        "#     elif words_result[\"Word\"][word_index] == \"ความ\":\n",
        "#       if words_result[\"Word\"][word_index+1] == \"ปลอด\":\n",
        "#         word_combined = words_result[\"Word\"][word_index]+ words_result[\"Word\"][word_index+1]+ words_result[\"Word\"][word_index+2]\n",
        "#         word_index += 3\n",
        "#       else:\n",
        "#         word_combined = words_result[\"Word\"][word_index]+ words_result[\"Word\"][word_index+1]\n",
        "#         word_index += 2\n",
        "#     elif words_result[\"Word\"][word_index] == \"การ\":\n",
        "#       word_combined = words_result[\"Word\"][word_index]+ words_result[\"Word\"][word_index+1]\n",
        "#       word_index += 2\n",
        "#     elif words_result[\"Word\"][word_index] == \"นัก\":\n",
        "#       word_combined = words_result[\"Word\"][word_index]+ words_result[\"Word\"][word_index+1]\n",
        "#       word_index += 2\n",
        "#     elif words_result[\"Word\"][word_index] == \"คณะ\":\n",
        "#       word_combined = words_result[\"Word\"][word_index]+ words_result[\"Word\"][word_index+1]\n",
        "#       word_index += 2\n",
        "#     elif words_result[\"Word\"][word_index] == \"ชาว\":\n",
        "#       word_combined = words_result[\"Word\"][word_index]+ words_result[\"Word\"][word_index+1]\n",
        "#       word_index += 2\n",
        "#     elif words_result[\"Word\"][word_index] == \"ข้อ\":\n",
        "#       word_combined = words_result[\"Word\"][word_index]+ words_result[\"Word\"][word_index+1]\n",
        "#       word_index += 2\n",
        "#     elif words_result[\"Word\"][word_index] == \"ปลอด\":\n",
        "#       word_combined = words_result[\"Word\"][word_index]+ words_result[\"Word\"][word_index+1]\n",
        "#       word_index += 2\n",
        "#     else:\n",
        "#       word_combined = words_result[\"Word\"][word_index]\n",
        "#       word_index += 1 \n",
        "  \n",
        "#     words_result_combined.append(word_combined)\n",
        "\n",
        "# words_result_combined.append(words_result[\"Word\"][number_of_words-1])"
      ],
      "metadata": {
        "id": "TmRTcbihfa7s"
      },
      "execution_count": null,
      "outputs": []
    },
    {
      "cell_type": "code",
      "source": [
        "# words_result_combined"
      ],
      "metadata": {
        "id": "AWji5MaHf3Ph"
      },
      "execution_count": null,
      "outputs": []
    },
    {
      "cell_type": "code",
      "source": [
        "# df_word.to_csv('df_word_Bew.csv', index=False, encoding='utf8')"
      ],
      "metadata": {
        "id": "rsaXJ6ro_mX7"
      },
      "execution_count": null,
      "outputs": []
    },
    {
      "cell_type": "code",
      "source": [
        "# data_token = words_result_combined"
      ],
      "metadata": {
        "id": "Jizv7-HigMZp"
      },
      "execution_count": null,
      "outputs": []
    },
    {
      "cell_type": "code",
      "source": [
        "char_list = []\n",
        "label_list = []\n",
        "cnt = 0\n",
        "for i in range(len(data_token)):\n",
        "    if len(data_token[i]) > 1:\n",
        "  # if text_seg[i] != '':\n",
        "      char, label = data_token[i][0], 'B_WORD'\n",
        "      char_list.append(char)\n",
        "      label_list.append(label)\n",
        "      # print(char)\n",
        "      cnt += 1\n",
        "\n",
        "      c = data_token[i][1:-1]\n",
        "      for j in range(len(c)):\n",
        "        a, b = c[j], 'I_WORD'\n",
        "        char_list.append(a)\n",
        "        label_list.append(b)\n",
        "        # print(a)\n",
        "        cnt += 1\n",
        "\n",
        "      char, label = data_token[i][-1], 'E_WORD'\n",
        "      char_list.append(char)\n",
        "      label_list.append(label)\n",
        "      # print(char)\n",
        "      cnt += 1\n",
        "\n",
        "    else:\n",
        "      char, label = data_token[i][0], 'B_WORD'\n",
        "      char_list.append(char)\n",
        "      label_list.append(label)\n",
        "\n",
        "  # else:\n",
        "  #   char, label = '#', 'SPACE'\n",
        "  #   char_list.append(char)\n",
        "  #   label_list.append(label)\n",
        "  #   # print(char)\n",
        "# print(cnt)"
      ],
      "metadata": {
        "id": "NL9rcs87V83L"
      },
      "execution_count": null,
      "outputs": []
    },
    {
      "cell_type": "code",
      "source": [
        "import pandas as pd\n",
        "import os\n",
        "\n",
        "df_test = pd.DataFrame({'CHAR': char_list, 'Predicted':label_list})\n",
        "df_test.head()"
      ],
      "metadata": {
        "id": "pzyeaa-MWHP7",
        "colab": {
          "base_uri": "https://localhost:8080/",
          "height": 206
        },
        "outputId": "3a4342d3-5dda-4add-85f9-cc03e3373fec"
      },
      "execution_count": null,
      "outputs": [
        {
          "output_type": "execute_result",
          "data": {
            "text/html": [
              "\n",
              "  <div id=\"df-21eab454-1700-43e2-a359-d72ba177d751\">\n",
              "    <div class=\"colab-df-container\">\n",
              "      <div>\n",
              "<style scoped>\n",
              "    .dataframe tbody tr th:only-of-type {\n",
              "        vertical-align: middle;\n",
              "    }\n",
              "\n",
              "    .dataframe tbody tr th {\n",
              "        vertical-align: top;\n",
              "    }\n",
              "\n",
              "    .dataframe thead th {\n",
              "        text-align: right;\n",
              "    }\n",
              "</style>\n",
              "<table border=\"1\" class=\"dataframe\">\n",
              "  <thead>\n",
              "    <tr style=\"text-align: right;\">\n",
              "      <th></th>\n",
              "      <th>CHAR</th>\n",
              "      <th>Predicted</th>\n",
              "    </tr>\n",
              "  </thead>\n",
              "  <tbody>\n",
              "    <tr>\n",
              "      <th>0</th>\n",
              "      <td>ท</td>\n",
              "      <td>B_WORD</td>\n",
              "    </tr>\n",
              "    <tr>\n",
              "      <th>1</th>\n",
              "      <td>ี</td>\n",
              "      <td>I_WORD</td>\n",
              "    </tr>\n",
              "    <tr>\n",
              "      <th>2</th>\n",
              "      <td>่</td>\n",
              "      <td>E_WORD</td>\n",
              "    </tr>\n",
              "    <tr>\n",
              "      <th>3</th>\n",
              "      <td>ย</td>\n",
              "      <td>B_WORD</td>\n",
              "    </tr>\n",
              "    <tr>\n",
              "      <th>4</th>\n",
              "      <td>ั</td>\n",
              "      <td>I_WORD</td>\n",
              "    </tr>\n",
              "  </tbody>\n",
              "</table>\n",
              "</div>\n",
              "      <button class=\"colab-df-convert\" onclick=\"convertToInteractive('df-21eab454-1700-43e2-a359-d72ba177d751')\"\n",
              "              title=\"Convert this dataframe to an interactive table.\"\n",
              "              style=\"display:none;\">\n",
              "        \n",
              "  <svg xmlns=\"http://www.w3.org/2000/svg\" height=\"24px\"viewBox=\"0 0 24 24\"\n",
              "       width=\"24px\">\n",
              "    <path d=\"M0 0h24v24H0V0z\" fill=\"none\"/>\n",
              "    <path d=\"M18.56 5.44l.94 2.06.94-2.06 2.06-.94-2.06-.94-.94-2.06-.94 2.06-2.06.94zm-11 1L8.5 8.5l.94-2.06 2.06-.94-2.06-.94L8.5 2.5l-.94 2.06-2.06.94zm10 10l.94 2.06.94-2.06 2.06-.94-2.06-.94-.94-2.06-.94 2.06-2.06.94z\"/><path d=\"M17.41 7.96l-1.37-1.37c-.4-.4-.92-.59-1.43-.59-.52 0-1.04.2-1.43.59L10.3 9.45l-7.72 7.72c-.78.78-.78 2.05 0 2.83L4 21.41c.39.39.9.59 1.41.59.51 0 1.02-.2 1.41-.59l7.78-7.78 2.81-2.81c.8-.78.8-2.07 0-2.86zM5.41 20L4 18.59l7.72-7.72 1.47 1.35L5.41 20z\"/>\n",
              "  </svg>\n",
              "      </button>\n",
              "      \n",
              "  <style>\n",
              "    .colab-df-container {\n",
              "      display:flex;\n",
              "      flex-wrap:wrap;\n",
              "      gap: 12px;\n",
              "    }\n",
              "\n",
              "    .colab-df-convert {\n",
              "      background-color: #E8F0FE;\n",
              "      border: none;\n",
              "      border-radius: 50%;\n",
              "      cursor: pointer;\n",
              "      display: none;\n",
              "      fill: #1967D2;\n",
              "      height: 32px;\n",
              "      padding: 0 0 0 0;\n",
              "      width: 32px;\n",
              "    }\n",
              "\n",
              "    .colab-df-convert:hover {\n",
              "      background-color: #E2EBFA;\n",
              "      box-shadow: 0px 1px 2px rgba(60, 64, 67, 0.3), 0px 1px 3px 1px rgba(60, 64, 67, 0.15);\n",
              "      fill: #174EA6;\n",
              "    }\n",
              "\n",
              "    [theme=dark] .colab-df-convert {\n",
              "      background-color: #3B4455;\n",
              "      fill: #D2E3FC;\n",
              "    }\n",
              "\n",
              "    [theme=dark] .colab-df-convert:hover {\n",
              "      background-color: #434B5C;\n",
              "      box-shadow: 0px 1px 3px 1px rgba(0, 0, 0, 0.15);\n",
              "      filter: drop-shadow(0px 1px 2px rgba(0, 0, 0, 0.3));\n",
              "      fill: #FFFFFF;\n",
              "    }\n",
              "  </style>\n",
              "\n",
              "      <script>\n",
              "        const buttonEl =\n",
              "          document.querySelector('#df-21eab454-1700-43e2-a359-d72ba177d751 button.colab-df-convert');\n",
              "        buttonEl.style.display =\n",
              "          google.colab.kernel.accessAllowed ? 'block' : 'none';\n",
              "\n",
              "        async function convertToInteractive(key) {\n",
              "          const element = document.querySelector('#df-21eab454-1700-43e2-a359-d72ba177d751');\n",
              "          const dataTable =\n",
              "            await google.colab.kernel.invokeFunction('convertToInteractive',\n",
              "                                                     [key], {});\n",
              "          if (!dataTable) return;\n",
              "\n",
              "          const docLinkHtml = 'Like what you see? Visit the ' +\n",
              "            '<a target=\"_blank\" href=https://colab.research.google.com/notebooks/data_table.ipynb>data table notebook</a>'\n",
              "            + ' to learn more about interactive tables.';\n",
              "          element.innerHTML = '';\n",
              "          dataTable['output_type'] = 'display_data';\n",
              "          await google.colab.output.renderOutput(dataTable, element);\n",
              "          const docLink = document.createElement('div');\n",
              "          docLink.innerHTML = docLinkHtml;\n",
              "          element.appendChild(docLink);\n",
              "        }\n",
              "      </script>\n",
              "    </div>\n",
              "  </div>\n",
              "  "
            ],
            "text/plain": [
              "  CHAR Predicted\n",
              "0    ท    B_WORD\n",
              "1    ี    I_WORD\n",
              "2    ่    E_WORD\n",
              "3    ย    B_WORD\n",
              "4    ั    I_WORD"
            ]
          },
          "metadata": {},
          "execution_count": 59
        }
      ]
    },
    {
      "cell_type": "code",
      "source": [
        "symbols = '( ) [ ] { } < > \" “ ” ‘ ’ ? ! $ % & * + -'"
      ],
      "metadata": {
        "id": "szLJIDklfws5"
      },
      "execution_count": null,
      "outputs": []
    },
    {
      "cell_type": "code",
      "source": [
        "# Post-processing for special character\n",
        "df_test['Predicted'].loc[df_test['CHAR']=='('] = 'B_WORD' \n",
        "df_test['Predicted'].loc[df_test['CHAR']==')'] = 'B_WORD'\n",
        "df_test['Predicted'].loc[df_test['CHAR']=='\"'] = 'B_WORD'\n",
        "df_test['Predicted'].loc[df_test['CHAR']=='“'] = 'B_WORD'\n",
        "df_test['Predicted'].loc[df_test['CHAR']=='”'] = 'B_WORD'\n",
        "df_test['Predicted'].loc[df_test['CHAR']=='‘'] = 'B_WORD'\n",
        "df_test['Predicted'].loc[df_test['CHAR']=='’'] = 'B_WORD'\n",
        "df_test['Predicted'].loc[df_test['CHAR']==']'] = 'B_WORD'\n",
        "df_test['Predicted'].loc[df_test['CHAR']=='['] = 'B_WORD'\n",
        "df_test['Predicted'].loc[df_test['CHAR']=='}'] = 'B_WORD'\n",
        "df_test['Predicted'].loc[df_test['CHAR']=='{'] = 'B_WORD'"
      ],
      "metadata": {
        "id": "sMCkJK1UWLg7"
      },
      "execution_count": null,
      "outputs": []
    },
    {
      "cell_type": "code",
      "source": [
        "# df_test['Predicted'].loc[df_test['CHAR']=='[']"
      ],
      "metadata": {
        "id": "kaaGc0h6j2t5"
      },
      "execution_count": null,
      "outputs": []
    },
    {
      "cell_type": "code",
      "source": [
        "df_test = df_test.reset_index()"
      ],
      "metadata": {
        "id": "ohS7go9kWONP"
      },
      "execution_count": null,
      "outputs": []
    },
    {
      "cell_type": "code",
      "source": [
        "df_test['index'] = df_test['index'] + 1\n",
        "df_test = df_test.rename(columns = {'index': 'Id'}, inplace = False)\n",
        "df_test.head()"
      ],
      "metadata": {
        "id": "JR_0UEtuWO1k",
        "colab": {
          "base_uri": "https://localhost:8080/",
          "height": 206
        },
        "outputId": "af5f15f8-8277-4ea2-fd37-f328966ce5f9"
      },
      "execution_count": null,
      "outputs": [
        {
          "output_type": "execute_result",
          "data": {
            "text/html": [
              "\n",
              "  <div id=\"df-50a0dbc6-2eb5-4432-8ddb-bc6c1e6d922a\">\n",
              "    <div class=\"colab-df-container\">\n",
              "      <div>\n",
              "<style scoped>\n",
              "    .dataframe tbody tr th:only-of-type {\n",
              "        vertical-align: middle;\n",
              "    }\n",
              "\n",
              "    .dataframe tbody tr th {\n",
              "        vertical-align: top;\n",
              "    }\n",
              "\n",
              "    .dataframe thead th {\n",
              "        text-align: right;\n",
              "    }\n",
              "</style>\n",
              "<table border=\"1\" class=\"dataframe\">\n",
              "  <thead>\n",
              "    <tr style=\"text-align: right;\">\n",
              "      <th></th>\n",
              "      <th>Id</th>\n",
              "      <th>CHAR</th>\n",
              "      <th>Predicted</th>\n",
              "    </tr>\n",
              "  </thead>\n",
              "  <tbody>\n",
              "    <tr>\n",
              "      <th>0</th>\n",
              "      <td>1</td>\n",
              "      <td>ท</td>\n",
              "      <td>B_WORD</td>\n",
              "    </tr>\n",
              "    <tr>\n",
              "      <th>1</th>\n",
              "      <td>2</td>\n",
              "      <td>ี</td>\n",
              "      <td>I_WORD</td>\n",
              "    </tr>\n",
              "    <tr>\n",
              "      <th>2</th>\n",
              "      <td>3</td>\n",
              "      <td>่</td>\n",
              "      <td>E_WORD</td>\n",
              "    </tr>\n",
              "    <tr>\n",
              "      <th>3</th>\n",
              "      <td>4</td>\n",
              "      <td>ย</td>\n",
              "      <td>B_WORD</td>\n",
              "    </tr>\n",
              "    <tr>\n",
              "      <th>4</th>\n",
              "      <td>5</td>\n",
              "      <td>ั</td>\n",
              "      <td>I_WORD</td>\n",
              "    </tr>\n",
              "  </tbody>\n",
              "</table>\n",
              "</div>\n",
              "      <button class=\"colab-df-convert\" onclick=\"convertToInteractive('df-50a0dbc6-2eb5-4432-8ddb-bc6c1e6d922a')\"\n",
              "              title=\"Convert this dataframe to an interactive table.\"\n",
              "              style=\"display:none;\">\n",
              "        \n",
              "  <svg xmlns=\"http://www.w3.org/2000/svg\" height=\"24px\"viewBox=\"0 0 24 24\"\n",
              "       width=\"24px\">\n",
              "    <path d=\"M0 0h24v24H0V0z\" fill=\"none\"/>\n",
              "    <path d=\"M18.56 5.44l.94 2.06.94-2.06 2.06-.94-2.06-.94-.94-2.06-.94 2.06-2.06.94zm-11 1L8.5 8.5l.94-2.06 2.06-.94-2.06-.94L8.5 2.5l-.94 2.06-2.06.94zm10 10l.94 2.06.94-2.06 2.06-.94-2.06-.94-.94-2.06-.94 2.06-2.06.94z\"/><path d=\"M17.41 7.96l-1.37-1.37c-.4-.4-.92-.59-1.43-.59-.52 0-1.04.2-1.43.59L10.3 9.45l-7.72 7.72c-.78.78-.78 2.05 0 2.83L4 21.41c.39.39.9.59 1.41.59.51 0 1.02-.2 1.41-.59l7.78-7.78 2.81-2.81c.8-.78.8-2.07 0-2.86zM5.41 20L4 18.59l7.72-7.72 1.47 1.35L5.41 20z\"/>\n",
              "  </svg>\n",
              "      </button>\n",
              "      \n",
              "  <style>\n",
              "    .colab-df-container {\n",
              "      display:flex;\n",
              "      flex-wrap:wrap;\n",
              "      gap: 12px;\n",
              "    }\n",
              "\n",
              "    .colab-df-convert {\n",
              "      background-color: #E8F0FE;\n",
              "      border: none;\n",
              "      border-radius: 50%;\n",
              "      cursor: pointer;\n",
              "      display: none;\n",
              "      fill: #1967D2;\n",
              "      height: 32px;\n",
              "      padding: 0 0 0 0;\n",
              "      width: 32px;\n",
              "    }\n",
              "\n",
              "    .colab-df-convert:hover {\n",
              "      background-color: #E2EBFA;\n",
              "      box-shadow: 0px 1px 2px rgba(60, 64, 67, 0.3), 0px 1px 3px 1px rgba(60, 64, 67, 0.15);\n",
              "      fill: #174EA6;\n",
              "    }\n",
              "\n",
              "    [theme=dark] .colab-df-convert {\n",
              "      background-color: #3B4455;\n",
              "      fill: #D2E3FC;\n",
              "    }\n",
              "\n",
              "    [theme=dark] .colab-df-convert:hover {\n",
              "      background-color: #434B5C;\n",
              "      box-shadow: 0px 1px 3px 1px rgba(0, 0, 0, 0.15);\n",
              "      filter: drop-shadow(0px 1px 2px rgba(0, 0, 0, 0.3));\n",
              "      fill: #FFFFFF;\n",
              "    }\n",
              "  </style>\n",
              "\n",
              "      <script>\n",
              "        const buttonEl =\n",
              "          document.querySelector('#df-50a0dbc6-2eb5-4432-8ddb-bc6c1e6d922a button.colab-df-convert');\n",
              "        buttonEl.style.display =\n",
              "          google.colab.kernel.accessAllowed ? 'block' : 'none';\n",
              "\n",
              "        async function convertToInteractive(key) {\n",
              "          const element = document.querySelector('#df-50a0dbc6-2eb5-4432-8ddb-bc6c1e6d922a');\n",
              "          const dataTable =\n",
              "            await google.colab.kernel.invokeFunction('convertToInteractive',\n",
              "                                                     [key], {});\n",
              "          if (!dataTable) return;\n",
              "\n",
              "          const docLinkHtml = 'Like what you see? Visit the ' +\n",
              "            '<a target=\"_blank\" href=https://colab.research.google.com/notebooks/data_table.ipynb>data table notebook</a>'\n",
              "            + ' to learn more about interactive tables.';\n",
              "          element.innerHTML = '';\n",
              "          dataTable['output_type'] = 'display_data';\n",
              "          await google.colab.output.renderOutput(dataTable, element);\n",
              "          const docLink = document.createElement('div');\n",
              "          docLink.innerHTML = docLinkHtml;\n",
              "          element.appendChild(docLink);\n",
              "        }\n",
              "      </script>\n",
              "    </div>\n",
              "  </div>\n",
              "  "
            ],
            "text/plain": [
              "   Id CHAR Predicted\n",
              "0   1    ท    B_WORD\n",
              "1   2    ี    I_WORD\n",
              "2   3    ่    E_WORD\n",
              "3   4    ย    B_WORD\n",
              "4   5    ั    I_WORD"
            ]
          },
          "metadata": {},
          "execution_count": 62
        }
      ]
    },
    {
      "cell_type": "code",
      "source": [
        "# df_test.to_csv('df_test_manual.csv', index=False)"
      ],
      "metadata": {
        "id": "rfzKw1Yt0tER"
      },
      "execution_count": null,
      "outputs": []
    },
    {
      "cell_type": "code",
      "source": [
        "# PATH_MAIN = '/content/content/drive/MyDrive/Colab Notebooks/SuperAI_Hackathon/Hackathon_week2_NLP/Resources'\n",
        "PATH_MAIN = '/content/Resources'\n",
        "df_final = pd.read_csv(os.path.join(PATH_MAIN,'ws_sample_submission.csv'))\n",
        "df_final.head()"
      ],
      "metadata": {
        "id": "9vMkDBIhWQve",
        "colab": {
          "base_uri": "https://localhost:8080/",
          "height": 206
        },
        "outputId": "9c3bc10b-1454-4a07-8eba-2a5a52f7cf4b"
      },
      "execution_count": null,
      "outputs": [
        {
          "output_type": "execute_result",
          "data": {
            "text/html": [
              "\n",
              "  <div id=\"df-490e88f8-62ec-4ca0-9c3d-5f3aa7301cb5\">\n",
              "    <div class=\"colab-df-container\">\n",
              "      <div>\n",
              "<style scoped>\n",
              "    .dataframe tbody tr th:only-of-type {\n",
              "        vertical-align: middle;\n",
              "    }\n",
              "\n",
              "    .dataframe tbody tr th {\n",
              "        vertical-align: top;\n",
              "    }\n",
              "\n",
              "    .dataframe thead th {\n",
              "        text-align: right;\n",
              "    }\n",
              "</style>\n",
              "<table border=\"1\" class=\"dataframe\">\n",
              "  <thead>\n",
              "    <tr style=\"text-align: right;\">\n",
              "      <th></th>\n",
              "      <th>Id</th>\n",
              "      <th>Predicted</th>\n",
              "    </tr>\n",
              "  </thead>\n",
              "  <tbody>\n",
              "    <tr>\n",
              "      <th>0</th>\n",
              "      <td>1</td>\n",
              "      <td>B_WORD</td>\n",
              "    </tr>\n",
              "    <tr>\n",
              "      <th>1</th>\n",
              "      <td>2</td>\n",
              "      <td>I_WORD</td>\n",
              "    </tr>\n",
              "    <tr>\n",
              "      <th>2</th>\n",
              "      <td>3</td>\n",
              "      <td>E_WORD</td>\n",
              "    </tr>\n",
              "    <tr>\n",
              "      <th>3</th>\n",
              "      <td>4</td>\n",
              "      <td>NaN</td>\n",
              "    </tr>\n",
              "    <tr>\n",
              "      <th>4</th>\n",
              "      <td>5</td>\n",
              "      <td>NaN</td>\n",
              "    </tr>\n",
              "  </tbody>\n",
              "</table>\n",
              "</div>\n",
              "      <button class=\"colab-df-convert\" onclick=\"convertToInteractive('df-490e88f8-62ec-4ca0-9c3d-5f3aa7301cb5')\"\n",
              "              title=\"Convert this dataframe to an interactive table.\"\n",
              "              style=\"display:none;\">\n",
              "        \n",
              "  <svg xmlns=\"http://www.w3.org/2000/svg\" height=\"24px\"viewBox=\"0 0 24 24\"\n",
              "       width=\"24px\">\n",
              "    <path d=\"M0 0h24v24H0V0z\" fill=\"none\"/>\n",
              "    <path d=\"M18.56 5.44l.94 2.06.94-2.06 2.06-.94-2.06-.94-.94-2.06-.94 2.06-2.06.94zm-11 1L8.5 8.5l.94-2.06 2.06-.94-2.06-.94L8.5 2.5l-.94 2.06-2.06.94zm10 10l.94 2.06.94-2.06 2.06-.94-2.06-.94-.94-2.06-.94 2.06-2.06.94z\"/><path d=\"M17.41 7.96l-1.37-1.37c-.4-.4-.92-.59-1.43-.59-.52 0-1.04.2-1.43.59L10.3 9.45l-7.72 7.72c-.78.78-.78 2.05 0 2.83L4 21.41c.39.39.9.59 1.41.59.51 0 1.02-.2 1.41-.59l7.78-7.78 2.81-2.81c.8-.78.8-2.07 0-2.86zM5.41 20L4 18.59l7.72-7.72 1.47 1.35L5.41 20z\"/>\n",
              "  </svg>\n",
              "      </button>\n",
              "      \n",
              "  <style>\n",
              "    .colab-df-container {\n",
              "      display:flex;\n",
              "      flex-wrap:wrap;\n",
              "      gap: 12px;\n",
              "    }\n",
              "\n",
              "    .colab-df-convert {\n",
              "      background-color: #E8F0FE;\n",
              "      border: none;\n",
              "      border-radius: 50%;\n",
              "      cursor: pointer;\n",
              "      display: none;\n",
              "      fill: #1967D2;\n",
              "      height: 32px;\n",
              "      padding: 0 0 0 0;\n",
              "      width: 32px;\n",
              "    }\n",
              "\n",
              "    .colab-df-convert:hover {\n",
              "      background-color: #E2EBFA;\n",
              "      box-shadow: 0px 1px 2px rgba(60, 64, 67, 0.3), 0px 1px 3px 1px rgba(60, 64, 67, 0.15);\n",
              "      fill: #174EA6;\n",
              "    }\n",
              "\n",
              "    [theme=dark] .colab-df-convert {\n",
              "      background-color: #3B4455;\n",
              "      fill: #D2E3FC;\n",
              "    }\n",
              "\n",
              "    [theme=dark] .colab-df-convert:hover {\n",
              "      background-color: #434B5C;\n",
              "      box-shadow: 0px 1px 3px 1px rgba(0, 0, 0, 0.15);\n",
              "      filter: drop-shadow(0px 1px 2px rgba(0, 0, 0, 0.3));\n",
              "      fill: #FFFFFF;\n",
              "    }\n",
              "  </style>\n",
              "\n",
              "      <script>\n",
              "        const buttonEl =\n",
              "          document.querySelector('#df-490e88f8-62ec-4ca0-9c3d-5f3aa7301cb5 button.colab-df-convert');\n",
              "        buttonEl.style.display =\n",
              "          google.colab.kernel.accessAllowed ? 'block' : 'none';\n",
              "\n",
              "        async function convertToInteractive(key) {\n",
              "          const element = document.querySelector('#df-490e88f8-62ec-4ca0-9c3d-5f3aa7301cb5');\n",
              "          const dataTable =\n",
              "            await google.colab.kernel.invokeFunction('convertToInteractive',\n",
              "                                                     [key], {});\n",
              "          if (!dataTable) return;\n",
              "\n",
              "          const docLinkHtml = 'Like what you see? Visit the ' +\n",
              "            '<a target=\"_blank\" href=https://colab.research.google.com/notebooks/data_table.ipynb>data table notebook</a>'\n",
              "            + ' to learn more about interactive tables.';\n",
              "          element.innerHTML = '';\n",
              "          dataTable['output_type'] = 'display_data';\n",
              "          await google.colab.output.renderOutput(dataTable, element);\n",
              "          const docLink = document.createElement('div');\n",
              "          docLink.innerHTML = docLinkHtml;\n",
              "          element.appendChild(docLink);\n",
              "        }\n",
              "      </script>\n",
              "    </div>\n",
              "  </div>\n",
              "  "
            ],
            "text/plain": [
              "   Id Predicted\n",
              "0   1    B_WORD\n",
              "1   2    I_WORD\n",
              "2   3    E_WORD\n",
              "3   4       NaN\n",
              "4   5       NaN"
            ]
          },
          "metadata": {},
          "execution_count": 63
        }
      ]
    },
    {
      "cell_type": "code",
      "source": [
        "final_df = pd.merge(df_final, df_test, on=['Id'], how=\"outer\")"
      ],
      "metadata": {
        "id": "i23Es5wFWb4m"
      },
      "execution_count": null,
      "outputs": []
    },
    {
      "cell_type": "code",
      "source": [
        "final_df.shape"
      ],
      "metadata": {
        "id": "Smy96wX6WeWp",
        "colab": {
          "base_uri": "https://localhost:8080/"
        },
        "outputId": "798a0bc8-d2c0-4329-b476-6bf16ccc32f2"
      },
      "execution_count": null,
      "outputs": [
        {
          "output_type": "execute_result",
          "data": {
            "text/plain": [
              "(37248, 4)"
            ]
          },
          "metadata": {},
          "execution_count": 65
        }
      ]
    },
    {
      "cell_type": "code",
      "source": [
        "final_df.head()"
      ],
      "metadata": {
        "id": "ne77tJwbWglO",
        "colab": {
          "base_uri": "https://localhost:8080/",
          "height": 206
        },
        "outputId": "eb4ea96f-31ef-46e5-a413-09f4d6c008e6"
      },
      "execution_count": null,
      "outputs": [
        {
          "output_type": "execute_result",
          "data": {
            "text/html": [
              "\n",
              "  <div id=\"df-c4795f97-8103-4031-95ef-becc987c0b70\">\n",
              "    <div class=\"colab-df-container\">\n",
              "      <div>\n",
              "<style scoped>\n",
              "    .dataframe tbody tr th:only-of-type {\n",
              "        vertical-align: middle;\n",
              "    }\n",
              "\n",
              "    .dataframe tbody tr th {\n",
              "        vertical-align: top;\n",
              "    }\n",
              "\n",
              "    .dataframe thead th {\n",
              "        text-align: right;\n",
              "    }\n",
              "</style>\n",
              "<table border=\"1\" class=\"dataframe\">\n",
              "  <thead>\n",
              "    <tr style=\"text-align: right;\">\n",
              "      <th></th>\n",
              "      <th>Id</th>\n",
              "      <th>Predicted_x</th>\n",
              "      <th>CHAR</th>\n",
              "      <th>Predicted_y</th>\n",
              "    </tr>\n",
              "  </thead>\n",
              "  <tbody>\n",
              "    <tr>\n",
              "      <th>0</th>\n",
              "      <td>1</td>\n",
              "      <td>B_WORD</td>\n",
              "      <td>ท</td>\n",
              "      <td>B_WORD</td>\n",
              "    </tr>\n",
              "    <tr>\n",
              "      <th>1</th>\n",
              "      <td>2</td>\n",
              "      <td>I_WORD</td>\n",
              "      <td>ี</td>\n",
              "      <td>I_WORD</td>\n",
              "    </tr>\n",
              "    <tr>\n",
              "      <th>2</th>\n",
              "      <td>3</td>\n",
              "      <td>E_WORD</td>\n",
              "      <td>่</td>\n",
              "      <td>E_WORD</td>\n",
              "    </tr>\n",
              "    <tr>\n",
              "      <th>3</th>\n",
              "      <td>4</td>\n",
              "      <td>NaN</td>\n",
              "      <td>ย</td>\n",
              "      <td>B_WORD</td>\n",
              "    </tr>\n",
              "    <tr>\n",
              "      <th>4</th>\n",
              "      <td>5</td>\n",
              "      <td>NaN</td>\n",
              "      <td>ั</td>\n",
              "      <td>I_WORD</td>\n",
              "    </tr>\n",
              "  </tbody>\n",
              "</table>\n",
              "</div>\n",
              "      <button class=\"colab-df-convert\" onclick=\"convertToInteractive('df-c4795f97-8103-4031-95ef-becc987c0b70')\"\n",
              "              title=\"Convert this dataframe to an interactive table.\"\n",
              "              style=\"display:none;\">\n",
              "        \n",
              "  <svg xmlns=\"http://www.w3.org/2000/svg\" height=\"24px\"viewBox=\"0 0 24 24\"\n",
              "       width=\"24px\">\n",
              "    <path d=\"M0 0h24v24H0V0z\" fill=\"none\"/>\n",
              "    <path d=\"M18.56 5.44l.94 2.06.94-2.06 2.06-.94-2.06-.94-.94-2.06-.94 2.06-2.06.94zm-11 1L8.5 8.5l.94-2.06 2.06-.94-2.06-.94L8.5 2.5l-.94 2.06-2.06.94zm10 10l.94 2.06.94-2.06 2.06-.94-2.06-.94-.94-2.06-.94 2.06-2.06.94z\"/><path d=\"M17.41 7.96l-1.37-1.37c-.4-.4-.92-.59-1.43-.59-.52 0-1.04.2-1.43.59L10.3 9.45l-7.72 7.72c-.78.78-.78 2.05 0 2.83L4 21.41c.39.39.9.59 1.41.59.51 0 1.02-.2 1.41-.59l7.78-7.78 2.81-2.81c.8-.78.8-2.07 0-2.86zM5.41 20L4 18.59l7.72-7.72 1.47 1.35L5.41 20z\"/>\n",
              "  </svg>\n",
              "      </button>\n",
              "      \n",
              "  <style>\n",
              "    .colab-df-container {\n",
              "      display:flex;\n",
              "      flex-wrap:wrap;\n",
              "      gap: 12px;\n",
              "    }\n",
              "\n",
              "    .colab-df-convert {\n",
              "      background-color: #E8F0FE;\n",
              "      border: none;\n",
              "      border-radius: 50%;\n",
              "      cursor: pointer;\n",
              "      display: none;\n",
              "      fill: #1967D2;\n",
              "      height: 32px;\n",
              "      padding: 0 0 0 0;\n",
              "      width: 32px;\n",
              "    }\n",
              "\n",
              "    .colab-df-convert:hover {\n",
              "      background-color: #E2EBFA;\n",
              "      box-shadow: 0px 1px 2px rgba(60, 64, 67, 0.3), 0px 1px 3px 1px rgba(60, 64, 67, 0.15);\n",
              "      fill: #174EA6;\n",
              "    }\n",
              "\n",
              "    [theme=dark] .colab-df-convert {\n",
              "      background-color: #3B4455;\n",
              "      fill: #D2E3FC;\n",
              "    }\n",
              "\n",
              "    [theme=dark] .colab-df-convert:hover {\n",
              "      background-color: #434B5C;\n",
              "      box-shadow: 0px 1px 3px 1px rgba(0, 0, 0, 0.15);\n",
              "      filter: drop-shadow(0px 1px 2px rgba(0, 0, 0, 0.3));\n",
              "      fill: #FFFFFF;\n",
              "    }\n",
              "  </style>\n",
              "\n",
              "      <script>\n",
              "        const buttonEl =\n",
              "          document.querySelector('#df-c4795f97-8103-4031-95ef-becc987c0b70 button.colab-df-convert');\n",
              "        buttonEl.style.display =\n",
              "          google.colab.kernel.accessAllowed ? 'block' : 'none';\n",
              "\n",
              "        async function convertToInteractive(key) {\n",
              "          const element = document.querySelector('#df-c4795f97-8103-4031-95ef-becc987c0b70');\n",
              "          const dataTable =\n",
              "            await google.colab.kernel.invokeFunction('convertToInteractive',\n",
              "                                                     [key], {});\n",
              "          if (!dataTable) return;\n",
              "\n",
              "          const docLinkHtml = 'Like what you see? Visit the ' +\n",
              "            '<a target=\"_blank\" href=https://colab.research.google.com/notebooks/data_table.ipynb>data table notebook</a>'\n",
              "            + ' to learn more about interactive tables.';\n",
              "          element.innerHTML = '';\n",
              "          dataTable['output_type'] = 'display_data';\n",
              "          await google.colab.output.renderOutput(dataTable, element);\n",
              "          const docLink = document.createElement('div');\n",
              "          docLink.innerHTML = docLinkHtml;\n",
              "          element.appendChild(docLink);\n",
              "        }\n",
              "      </script>\n",
              "    </div>\n",
              "  </div>\n",
              "  "
            ],
            "text/plain": [
              "   Id Predicted_x CHAR Predicted_y\n",
              "0   1      B_WORD    ท      B_WORD\n",
              "1   2      I_WORD    ี      I_WORD\n",
              "2   3      E_WORD    ่      E_WORD\n",
              "3   4         NaN    ย      B_WORD\n",
              "4   5         NaN    ั      I_WORD"
            ]
          },
          "metadata": {},
          "execution_count": 66
        }
      ]
    },
    {
      "cell_type": "code",
      "source": [
        "df_filtered = final_df[final_df['CHAR'] != ' ']\n",
        "df_filtered.head()"
      ],
      "metadata": {
        "id": "7eV7acnVWiUy",
        "colab": {
          "base_uri": "https://localhost:8080/",
          "height": 206
        },
        "outputId": "a687abec-49a6-472d-ed7f-9e5c5478812c"
      },
      "execution_count": null,
      "outputs": [
        {
          "output_type": "execute_result",
          "data": {
            "text/html": [
              "\n",
              "  <div id=\"df-605f1b50-cfb5-470c-afa0-c3f5a8d5c115\">\n",
              "    <div class=\"colab-df-container\">\n",
              "      <div>\n",
              "<style scoped>\n",
              "    .dataframe tbody tr th:only-of-type {\n",
              "        vertical-align: middle;\n",
              "    }\n",
              "\n",
              "    .dataframe tbody tr th {\n",
              "        vertical-align: top;\n",
              "    }\n",
              "\n",
              "    .dataframe thead th {\n",
              "        text-align: right;\n",
              "    }\n",
              "</style>\n",
              "<table border=\"1\" class=\"dataframe\">\n",
              "  <thead>\n",
              "    <tr style=\"text-align: right;\">\n",
              "      <th></th>\n",
              "      <th>Id</th>\n",
              "      <th>Predicted_x</th>\n",
              "      <th>CHAR</th>\n",
              "      <th>Predicted_y</th>\n",
              "    </tr>\n",
              "  </thead>\n",
              "  <tbody>\n",
              "    <tr>\n",
              "      <th>0</th>\n",
              "      <td>1</td>\n",
              "      <td>B_WORD</td>\n",
              "      <td>ท</td>\n",
              "      <td>B_WORD</td>\n",
              "    </tr>\n",
              "    <tr>\n",
              "      <th>1</th>\n",
              "      <td>2</td>\n",
              "      <td>I_WORD</td>\n",
              "      <td>ี</td>\n",
              "      <td>I_WORD</td>\n",
              "    </tr>\n",
              "    <tr>\n",
              "      <th>2</th>\n",
              "      <td>3</td>\n",
              "      <td>E_WORD</td>\n",
              "      <td>่</td>\n",
              "      <td>E_WORD</td>\n",
              "    </tr>\n",
              "    <tr>\n",
              "      <th>3</th>\n",
              "      <td>4</td>\n",
              "      <td>NaN</td>\n",
              "      <td>ย</td>\n",
              "      <td>B_WORD</td>\n",
              "    </tr>\n",
              "    <tr>\n",
              "      <th>4</th>\n",
              "      <td>5</td>\n",
              "      <td>NaN</td>\n",
              "      <td>ั</td>\n",
              "      <td>I_WORD</td>\n",
              "    </tr>\n",
              "  </tbody>\n",
              "</table>\n",
              "</div>\n",
              "      <button class=\"colab-df-convert\" onclick=\"convertToInteractive('df-605f1b50-cfb5-470c-afa0-c3f5a8d5c115')\"\n",
              "              title=\"Convert this dataframe to an interactive table.\"\n",
              "              style=\"display:none;\">\n",
              "        \n",
              "  <svg xmlns=\"http://www.w3.org/2000/svg\" height=\"24px\"viewBox=\"0 0 24 24\"\n",
              "       width=\"24px\">\n",
              "    <path d=\"M0 0h24v24H0V0z\" fill=\"none\"/>\n",
              "    <path d=\"M18.56 5.44l.94 2.06.94-2.06 2.06-.94-2.06-.94-.94-2.06-.94 2.06-2.06.94zm-11 1L8.5 8.5l.94-2.06 2.06-.94-2.06-.94L8.5 2.5l-.94 2.06-2.06.94zm10 10l.94 2.06.94-2.06 2.06-.94-2.06-.94-.94-2.06-.94 2.06-2.06.94z\"/><path d=\"M17.41 7.96l-1.37-1.37c-.4-.4-.92-.59-1.43-.59-.52 0-1.04.2-1.43.59L10.3 9.45l-7.72 7.72c-.78.78-.78 2.05 0 2.83L4 21.41c.39.39.9.59 1.41.59.51 0 1.02-.2 1.41-.59l7.78-7.78 2.81-2.81c.8-.78.8-2.07 0-2.86zM5.41 20L4 18.59l7.72-7.72 1.47 1.35L5.41 20z\"/>\n",
              "  </svg>\n",
              "      </button>\n",
              "      \n",
              "  <style>\n",
              "    .colab-df-container {\n",
              "      display:flex;\n",
              "      flex-wrap:wrap;\n",
              "      gap: 12px;\n",
              "    }\n",
              "\n",
              "    .colab-df-convert {\n",
              "      background-color: #E8F0FE;\n",
              "      border: none;\n",
              "      border-radius: 50%;\n",
              "      cursor: pointer;\n",
              "      display: none;\n",
              "      fill: #1967D2;\n",
              "      height: 32px;\n",
              "      padding: 0 0 0 0;\n",
              "      width: 32px;\n",
              "    }\n",
              "\n",
              "    .colab-df-convert:hover {\n",
              "      background-color: #E2EBFA;\n",
              "      box-shadow: 0px 1px 2px rgba(60, 64, 67, 0.3), 0px 1px 3px 1px rgba(60, 64, 67, 0.15);\n",
              "      fill: #174EA6;\n",
              "    }\n",
              "\n",
              "    [theme=dark] .colab-df-convert {\n",
              "      background-color: #3B4455;\n",
              "      fill: #D2E3FC;\n",
              "    }\n",
              "\n",
              "    [theme=dark] .colab-df-convert:hover {\n",
              "      background-color: #434B5C;\n",
              "      box-shadow: 0px 1px 3px 1px rgba(0, 0, 0, 0.15);\n",
              "      filter: drop-shadow(0px 1px 2px rgba(0, 0, 0, 0.3));\n",
              "      fill: #FFFFFF;\n",
              "    }\n",
              "  </style>\n",
              "\n",
              "      <script>\n",
              "        const buttonEl =\n",
              "          document.querySelector('#df-605f1b50-cfb5-470c-afa0-c3f5a8d5c115 button.colab-df-convert');\n",
              "        buttonEl.style.display =\n",
              "          google.colab.kernel.accessAllowed ? 'block' : 'none';\n",
              "\n",
              "        async function convertToInteractive(key) {\n",
              "          const element = document.querySelector('#df-605f1b50-cfb5-470c-afa0-c3f5a8d5c115');\n",
              "          const dataTable =\n",
              "            await google.colab.kernel.invokeFunction('convertToInteractive',\n",
              "                                                     [key], {});\n",
              "          if (!dataTable) return;\n",
              "\n",
              "          const docLinkHtml = 'Like what you see? Visit the ' +\n",
              "            '<a target=\"_blank\" href=https://colab.research.google.com/notebooks/data_table.ipynb>data table notebook</a>'\n",
              "            + ' to learn more about interactive tables.';\n",
              "          element.innerHTML = '';\n",
              "          dataTable['output_type'] = 'display_data';\n",
              "          await google.colab.output.renderOutput(dataTable, element);\n",
              "          const docLink = document.createElement('div');\n",
              "          docLink.innerHTML = docLinkHtml;\n",
              "          element.appendChild(docLink);\n",
              "        }\n",
              "      </script>\n",
              "    </div>\n",
              "  </div>\n",
              "  "
            ],
            "text/plain": [
              "   Id Predicted_x CHAR Predicted_y\n",
              "0   1      B_WORD    ท      B_WORD\n",
              "1   2      I_WORD    ี      I_WORD\n",
              "2   3      E_WORD    ่      E_WORD\n",
              "3   4         NaN    ย      B_WORD\n",
              "4   5         NaN    ั      I_WORD"
            ]
          },
          "metadata": {},
          "execution_count": 67
        }
      ]
    },
    {
      "cell_type": "code",
      "source": [
        "# df_filtered.to_csv('df_submission_manual.csv', index=False)"
      ],
      "metadata": {
        "id": "P7kD7xWW1D95"
      },
      "execution_count": null,
      "outputs": []
    },
    {
      "cell_type": "code",
      "source": [
        "df_submission = df_filtered.drop(['CHAR', 'Predicted_x'], axis = 1)"
      ],
      "metadata": {
        "id": "o7b7t1PtWkHj"
      },
      "execution_count": null,
      "outputs": []
    },
    {
      "cell_type": "code",
      "source": [
        "df_submission.head()"
      ],
      "metadata": {
        "id": "b6jgskGjWmwi",
        "colab": {
          "base_uri": "https://localhost:8080/",
          "height": 206
        },
        "outputId": "11ec050e-e00f-4738-cfa8-4455d107a281"
      },
      "execution_count": null,
      "outputs": [
        {
          "output_type": "execute_result",
          "data": {
            "text/html": [
              "\n",
              "  <div id=\"df-66dc9d6e-8bbd-49b6-8a28-cb57a5ca969f\">\n",
              "    <div class=\"colab-df-container\">\n",
              "      <div>\n",
              "<style scoped>\n",
              "    .dataframe tbody tr th:only-of-type {\n",
              "        vertical-align: middle;\n",
              "    }\n",
              "\n",
              "    .dataframe tbody tr th {\n",
              "        vertical-align: top;\n",
              "    }\n",
              "\n",
              "    .dataframe thead th {\n",
              "        text-align: right;\n",
              "    }\n",
              "</style>\n",
              "<table border=\"1\" class=\"dataframe\">\n",
              "  <thead>\n",
              "    <tr style=\"text-align: right;\">\n",
              "      <th></th>\n",
              "      <th>Id</th>\n",
              "      <th>Predicted_y</th>\n",
              "    </tr>\n",
              "  </thead>\n",
              "  <tbody>\n",
              "    <tr>\n",
              "      <th>0</th>\n",
              "      <td>1</td>\n",
              "      <td>B_WORD</td>\n",
              "    </tr>\n",
              "    <tr>\n",
              "      <th>1</th>\n",
              "      <td>2</td>\n",
              "      <td>I_WORD</td>\n",
              "    </tr>\n",
              "    <tr>\n",
              "      <th>2</th>\n",
              "      <td>3</td>\n",
              "      <td>E_WORD</td>\n",
              "    </tr>\n",
              "    <tr>\n",
              "      <th>3</th>\n",
              "      <td>4</td>\n",
              "      <td>B_WORD</td>\n",
              "    </tr>\n",
              "    <tr>\n",
              "      <th>4</th>\n",
              "      <td>5</td>\n",
              "      <td>I_WORD</td>\n",
              "    </tr>\n",
              "  </tbody>\n",
              "</table>\n",
              "</div>\n",
              "      <button class=\"colab-df-convert\" onclick=\"convertToInteractive('df-66dc9d6e-8bbd-49b6-8a28-cb57a5ca969f')\"\n",
              "              title=\"Convert this dataframe to an interactive table.\"\n",
              "              style=\"display:none;\">\n",
              "        \n",
              "  <svg xmlns=\"http://www.w3.org/2000/svg\" height=\"24px\"viewBox=\"0 0 24 24\"\n",
              "       width=\"24px\">\n",
              "    <path d=\"M0 0h24v24H0V0z\" fill=\"none\"/>\n",
              "    <path d=\"M18.56 5.44l.94 2.06.94-2.06 2.06-.94-2.06-.94-.94-2.06-.94 2.06-2.06.94zm-11 1L8.5 8.5l.94-2.06 2.06-.94-2.06-.94L8.5 2.5l-.94 2.06-2.06.94zm10 10l.94 2.06.94-2.06 2.06-.94-2.06-.94-.94-2.06-.94 2.06-2.06.94z\"/><path d=\"M17.41 7.96l-1.37-1.37c-.4-.4-.92-.59-1.43-.59-.52 0-1.04.2-1.43.59L10.3 9.45l-7.72 7.72c-.78.78-.78 2.05 0 2.83L4 21.41c.39.39.9.59 1.41.59.51 0 1.02-.2 1.41-.59l7.78-7.78 2.81-2.81c.8-.78.8-2.07 0-2.86zM5.41 20L4 18.59l7.72-7.72 1.47 1.35L5.41 20z\"/>\n",
              "  </svg>\n",
              "      </button>\n",
              "      \n",
              "  <style>\n",
              "    .colab-df-container {\n",
              "      display:flex;\n",
              "      flex-wrap:wrap;\n",
              "      gap: 12px;\n",
              "    }\n",
              "\n",
              "    .colab-df-convert {\n",
              "      background-color: #E8F0FE;\n",
              "      border: none;\n",
              "      border-radius: 50%;\n",
              "      cursor: pointer;\n",
              "      display: none;\n",
              "      fill: #1967D2;\n",
              "      height: 32px;\n",
              "      padding: 0 0 0 0;\n",
              "      width: 32px;\n",
              "    }\n",
              "\n",
              "    .colab-df-convert:hover {\n",
              "      background-color: #E2EBFA;\n",
              "      box-shadow: 0px 1px 2px rgba(60, 64, 67, 0.3), 0px 1px 3px 1px rgba(60, 64, 67, 0.15);\n",
              "      fill: #174EA6;\n",
              "    }\n",
              "\n",
              "    [theme=dark] .colab-df-convert {\n",
              "      background-color: #3B4455;\n",
              "      fill: #D2E3FC;\n",
              "    }\n",
              "\n",
              "    [theme=dark] .colab-df-convert:hover {\n",
              "      background-color: #434B5C;\n",
              "      box-shadow: 0px 1px 3px 1px rgba(0, 0, 0, 0.15);\n",
              "      filter: drop-shadow(0px 1px 2px rgba(0, 0, 0, 0.3));\n",
              "      fill: #FFFFFF;\n",
              "    }\n",
              "  </style>\n",
              "\n",
              "      <script>\n",
              "        const buttonEl =\n",
              "          document.querySelector('#df-66dc9d6e-8bbd-49b6-8a28-cb57a5ca969f button.colab-df-convert');\n",
              "        buttonEl.style.display =\n",
              "          google.colab.kernel.accessAllowed ? 'block' : 'none';\n",
              "\n",
              "        async function convertToInteractive(key) {\n",
              "          const element = document.querySelector('#df-66dc9d6e-8bbd-49b6-8a28-cb57a5ca969f');\n",
              "          const dataTable =\n",
              "            await google.colab.kernel.invokeFunction('convertToInteractive',\n",
              "                                                     [key], {});\n",
              "          if (!dataTable) return;\n",
              "\n",
              "          const docLinkHtml = 'Like what you see? Visit the ' +\n",
              "            '<a target=\"_blank\" href=https://colab.research.google.com/notebooks/data_table.ipynb>data table notebook</a>'\n",
              "            + ' to learn more about interactive tables.';\n",
              "          element.innerHTML = '';\n",
              "          dataTable['output_type'] = 'display_data';\n",
              "          await google.colab.output.renderOutput(dataTable, element);\n",
              "          const docLink = document.createElement('div');\n",
              "          docLink.innerHTML = docLinkHtml;\n",
              "          element.appendChild(docLink);\n",
              "        }\n",
              "      </script>\n",
              "    </div>\n",
              "  </div>\n",
              "  "
            ],
            "text/plain": [
              "   Id Predicted_y\n",
              "0   1      B_WORD\n",
              "1   2      I_WORD\n",
              "2   3      E_WORD\n",
              "3   4      B_WORD\n",
              "4   5      I_WORD"
            ]
          },
          "metadata": {},
          "execution_count": 69
        }
      ]
    },
    {
      "cell_type": "code",
      "source": [
        "df_submission.shape"
      ],
      "metadata": {
        "colab": {
          "base_uri": "https://localhost:8080/"
        },
        "id": "dAakzzE7gz1z",
        "outputId": "f47f3ac4-e796-498a-e57e-f9e67d35f7fc"
      },
      "execution_count": null,
      "outputs": [
        {
          "output_type": "execute_result",
          "data": {
            "text/plain": [
              "(35182, 2)"
            ]
          },
          "metadata": {},
          "execution_count": 70
        }
      ]
    },
    {
      "cell_type": "code",
      "source": [
        "df_submission.rename(columns={'Predicted_y': 'Predicted'}).to_csv('/content/submission_Scratch_2BiLSTM_bs4096.csv', index=False, encoding='utf8')"
      ],
      "metadata": {
        "id": "OrZ7Tzk_Wo2W"
      },
      "execution_count": null,
      "outputs": []
    },
    {
      "cell_type": "markdown",
      "source": [
        "### Comparing with DeepCut method"
      ],
      "metadata": {
        "id": "wrZQT4Y2XENX"
      }
    },
    {
      "cell_type": "code",
      "source": [
        "import pandas as pd"
      ],
      "metadata": {
        "id": "AQGxq_V_cRMN"
      },
      "execution_count": null,
      "outputs": []
    },
    {
      "cell_type": "code",
      "source": [
        "# PATH_MAIN = '/content/content/drive/MyDrive/Colab Notebooks/SuperAI_Hackathon/Hackathon_week2_NLP/Resources'\n",
        "# df_deepcut = pd.read_csv(os.path.join(PATH_MAIN, 'submission_DeepCut_2.csv'))\n",
        "# df_scratch = pd.read_csv('/content/submission_Scratch_2BiLSTM_bs4096.csv')\n",
        "\n",
        "df_deepcut = pd.read_csv('/content/submission_Scratch_2BiLSTM_bs4096.csv')\n",
        "df_scratch = pd.read_csv('/content/submission_Scratch_2BiLSTM_bs4096.csv')"
      ],
      "metadata": {
        "id": "JBMRXisgXJAk"
      },
      "execution_count": null,
      "outputs": []
    },
    {
      "cell_type": "code",
      "source": [
        "data = [df_deepcut[\"Predicted\"], df_scratch[\"Predicted\"]]\n",
        "headers = [\"deepcut\", \"scratch\"]\n",
        "df_compare = pd.concat(data, axis=1, keys=headers)"
      ],
      "metadata": {
        "id": "orIM6dNCXKvC"
      },
      "execution_count": null,
      "outputs": []
    },
    {
      "cell_type": "code",
      "source": [
        "from sklearn import preprocessing\n",
        "le = preprocessing.LabelEncoder()\n",
        "df_compare['deepcut'] = le.fit_transform(df_compare['deepcut'])\n",
        "df_compare['scratch'] = le.fit_transform(df_compare['scratch'])"
      ],
      "metadata": {
        "id": "El38MQGBXM0N"
      },
      "execution_count": null,
      "outputs": []
    },
    {
      "cell_type": "code",
      "source": [
        "df_compare.head()"
      ],
      "metadata": {
        "id": "rrEmLw2BXOUb",
        "colab": {
          "base_uri": "https://localhost:8080/",
          "height": 206
        },
        "outputId": "1f6b41f4-7175-45a4-a5ce-c6c21129bf67"
      },
      "execution_count": null,
      "outputs": [
        {
          "output_type": "execute_result",
          "data": {
            "text/html": [
              "\n",
              "  <div id=\"df-b0bb20f1-0f14-4170-aaea-506bb6ed839a\">\n",
              "    <div class=\"colab-df-container\">\n",
              "      <div>\n",
              "<style scoped>\n",
              "    .dataframe tbody tr th:only-of-type {\n",
              "        vertical-align: middle;\n",
              "    }\n",
              "\n",
              "    .dataframe tbody tr th {\n",
              "        vertical-align: top;\n",
              "    }\n",
              "\n",
              "    .dataframe thead th {\n",
              "        text-align: right;\n",
              "    }\n",
              "</style>\n",
              "<table border=\"1\" class=\"dataframe\">\n",
              "  <thead>\n",
              "    <tr style=\"text-align: right;\">\n",
              "      <th></th>\n",
              "      <th>deepcut</th>\n",
              "      <th>scratch</th>\n",
              "    </tr>\n",
              "  </thead>\n",
              "  <tbody>\n",
              "    <tr>\n",
              "      <th>0</th>\n",
              "      <td>0</td>\n",
              "      <td>0</td>\n",
              "    </tr>\n",
              "    <tr>\n",
              "      <th>1</th>\n",
              "      <td>2</td>\n",
              "      <td>2</td>\n",
              "    </tr>\n",
              "    <tr>\n",
              "      <th>2</th>\n",
              "      <td>1</td>\n",
              "      <td>1</td>\n",
              "    </tr>\n",
              "    <tr>\n",
              "      <th>3</th>\n",
              "      <td>0</td>\n",
              "      <td>0</td>\n",
              "    </tr>\n",
              "    <tr>\n",
              "      <th>4</th>\n",
              "      <td>2</td>\n",
              "      <td>2</td>\n",
              "    </tr>\n",
              "  </tbody>\n",
              "</table>\n",
              "</div>\n",
              "      <button class=\"colab-df-convert\" onclick=\"convertToInteractive('df-b0bb20f1-0f14-4170-aaea-506bb6ed839a')\"\n",
              "              title=\"Convert this dataframe to an interactive table.\"\n",
              "              style=\"display:none;\">\n",
              "        \n",
              "  <svg xmlns=\"http://www.w3.org/2000/svg\" height=\"24px\"viewBox=\"0 0 24 24\"\n",
              "       width=\"24px\">\n",
              "    <path d=\"M0 0h24v24H0V0z\" fill=\"none\"/>\n",
              "    <path d=\"M18.56 5.44l.94 2.06.94-2.06 2.06-.94-2.06-.94-.94-2.06-.94 2.06-2.06.94zm-11 1L8.5 8.5l.94-2.06 2.06-.94-2.06-.94L8.5 2.5l-.94 2.06-2.06.94zm10 10l.94 2.06.94-2.06 2.06-.94-2.06-.94-.94-2.06-.94 2.06-2.06.94z\"/><path d=\"M17.41 7.96l-1.37-1.37c-.4-.4-.92-.59-1.43-.59-.52 0-1.04.2-1.43.59L10.3 9.45l-7.72 7.72c-.78.78-.78 2.05 0 2.83L4 21.41c.39.39.9.59 1.41.59.51 0 1.02-.2 1.41-.59l7.78-7.78 2.81-2.81c.8-.78.8-2.07 0-2.86zM5.41 20L4 18.59l7.72-7.72 1.47 1.35L5.41 20z\"/>\n",
              "  </svg>\n",
              "      </button>\n",
              "      \n",
              "  <style>\n",
              "    .colab-df-container {\n",
              "      display:flex;\n",
              "      flex-wrap:wrap;\n",
              "      gap: 12px;\n",
              "    }\n",
              "\n",
              "    .colab-df-convert {\n",
              "      background-color: #E8F0FE;\n",
              "      border: none;\n",
              "      border-radius: 50%;\n",
              "      cursor: pointer;\n",
              "      display: none;\n",
              "      fill: #1967D2;\n",
              "      height: 32px;\n",
              "      padding: 0 0 0 0;\n",
              "      width: 32px;\n",
              "    }\n",
              "\n",
              "    .colab-df-convert:hover {\n",
              "      background-color: #E2EBFA;\n",
              "      box-shadow: 0px 1px 2px rgba(60, 64, 67, 0.3), 0px 1px 3px 1px rgba(60, 64, 67, 0.15);\n",
              "      fill: #174EA6;\n",
              "    }\n",
              "\n",
              "    [theme=dark] .colab-df-convert {\n",
              "      background-color: #3B4455;\n",
              "      fill: #D2E3FC;\n",
              "    }\n",
              "\n",
              "    [theme=dark] .colab-df-convert:hover {\n",
              "      background-color: #434B5C;\n",
              "      box-shadow: 0px 1px 3px 1px rgba(0, 0, 0, 0.15);\n",
              "      filter: drop-shadow(0px 1px 2px rgba(0, 0, 0, 0.3));\n",
              "      fill: #FFFFFF;\n",
              "    }\n",
              "  </style>\n",
              "\n",
              "      <script>\n",
              "        const buttonEl =\n",
              "          document.querySelector('#df-b0bb20f1-0f14-4170-aaea-506bb6ed839a button.colab-df-convert');\n",
              "        buttonEl.style.display =\n",
              "          google.colab.kernel.accessAllowed ? 'block' : 'none';\n",
              "\n",
              "        async function convertToInteractive(key) {\n",
              "          const element = document.querySelector('#df-b0bb20f1-0f14-4170-aaea-506bb6ed839a');\n",
              "          const dataTable =\n",
              "            await google.colab.kernel.invokeFunction('convertToInteractive',\n",
              "                                                     [key], {});\n",
              "          if (!dataTable) return;\n",
              "\n",
              "          const docLinkHtml = 'Like what you see? Visit the ' +\n",
              "            '<a target=\"_blank\" href=https://colab.research.google.com/notebooks/data_table.ipynb>data table notebook</a>'\n",
              "            + ' to learn more about interactive tables.';\n",
              "          element.innerHTML = '';\n",
              "          dataTable['output_type'] = 'display_data';\n",
              "          await google.colab.output.renderOutput(dataTable, element);\n",
              "          const docLink = document.createElement('div');\n",
              "          docLink.innerHTML = docLinkHtml;\n",
              "          element.appendChild(docLink);\n",
              "        }\n",
              "      </script>\n",
              "    </div>\n",
              "  </div>\n",
              "  "
            ],
            "text/plain": [
              "   deepcut  scratch\n",
              "0        0        0\n",
              "1        2        2\n",
              "2        1        1\n",
              "3        0        0\n",
              "4        2        2"
            ]
          },
          "metadata": {},
          "execution_count": 6
        }
      ]
    },
    {
      "cell_type": "code",
      "source": [
        "from scipy.spatial.distance import cosine\n",
        "\n",
        "print(1 - cosine(df_compare['deepcut'], df_compare['scratch']))"
      ],
      "metadata": {
        "id": "7dBv9XtWXQM-",
        "colab": {
          "base_uri": "https://localhost:8080/"
        },
        "outputId": "4989f40c-d380-487e-dddc-4a62d19831c9"
      },
      "execution_count": null,
      "outputs": [
        {
          "output_type": "stream",
          "name": "stdout",
          "text": [
            "1.0\n"
          ]
        }
      ]
    },
    {
      "cell_type": "code",
      "source": [
        "from sklearn.metrics import confusion_matrix, classification_report\n",
        "\n",
        "\n",
        "#Generate the confusion matrix\n",
        "cf_matrix = confusion_matrix(df_compare['deepcut'], df_compare['scratch'])\n",
        "\n",
        "print(cf_matrix)"
      ],
      "metadata": {
        "id": "zdVTyPdlXSP-",
        "colab": {
          "base_uri": "https://localhost:8080/"
        },
        "outputId": "914f3262-2633-4d98-a2ca-2f7ec61b32cf"
      },
      "execution_count": null,
      "outputs": [
        {
          "output_type": "stream",
          "name": "stdout",
          "text": [
            "[[ 7541    13   368]\n",
            " [    8  7255   343]\n",
            " [  668   681 18305]]\n"
          ]
        }
      ]
    },
    {
      "cell_type": "code",
      "source": [
        "target_names = ['0', '1', '2']\n",
        "print(classification_report(df_compare['deepcut'], df_compare['scratch'], target_names=target_names))"
      ],
      "metadata": {
        "id": "1oVKPK8fXUdP",
        "colab": {
          "base_uri": "https://localhost:8080/"
        },
        "outputId": "a4553a20-db7e-4a15-e877-55027c1a6e13"
      },
      "execution_count": null,
      "outputs": [
        {
          "output_type": "stream",
          "name": "stdout",
          "text": [
            "              precision    recall  f1-score   support\n",
            "\n",
            "           0       0.92      0.95      0.93      7922\n",
            "           1       0.91      0.95      0.93      7606\n",
            "           2       0.96      0.93      0.95     19654\n",
            "\n",
            "    accuracy                           0.94     35182\n",
            "   macro avg       0.93      0.95      0.94     35182\n",
            "weighted avg       0.94      0.94      0.94     35182\n",
            "\n"
          ]
        }
      ]
    },
    {
      "cell_type": "code",
      "source": [
        ""
      ],
      "metadata": {
        "id": "NmlchBL0YEXU"
      },
      "execution_count": null,
      "outputs": []
    }
  ]
}